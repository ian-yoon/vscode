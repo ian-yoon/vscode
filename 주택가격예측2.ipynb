{
 "cells": [
  {
   "cell_type": "code",
   "execution_count": 17,
   "metadata": {},
   "outputs": [],
   "source": [
    "import pandas as pd\n",
    "import numpy as np\n",
    "import seaborn as sns\n",
    "import matplotlib.pyplot as plt\n",
    "%matplotlib inline"
   ]
  },
  {
   "cell_type": "code",
   "execution_count": 18,
   "metadata": {},
   "outputs": [
    {
     "data": {
      "text/html": [
       "<div>\n",
       "<style scoped>\n",
       "    .dataframe tbody tr th:only-of-type {\n",
       "        vertical-align: middle;\n",
       "    }\n",
       "\n",
       "    .dataframe tbody tr th {\n",
       "        vertical-align: top;\n",
       "    }\n",
       "\n",
       "    .dataframe thead th {\n",
       "        text-align: right;\n",
       "    }\n",
       "</style>\n",
       "<table border=\"1\" class=\"dataframe\">\n",
       "  <thead>\n",
       "    <tr style=\"text-align: right;\">\n",
       "      <th></th>\n",
       "      <th>Suburb</th>\n",
       "      <th>Address</th>\n",
       "      <th>Rooms</th>\n",
       "      <th>Type</th>\n",
       "      <th>Price</th>\n",
       "      <th>Method</th>\n",
       "      <th>SellerG</th>\n",
       "      <th>Date</th>\n",
       "      <th>Distance</th>\n",
       "      <th>Postcode</th>\n",
       "      <th>...</th>\n",
       "      <th>Bathroom</th>\n",
       "      <th>Car</th>\n",
       "      <th>Landsize</th>\n",
       "      <th>BuildingArea</th>\n",
       "      <th>YearBuilt</th>\n",
       "      <th>CouncilArea</th>\n",
       "      <th>Lattitude</th>\n",
       "      <th>Longtitude</th>\n",
       "      <th>Regionname</th>\n",
       "      <th>Propertycount</th>\n",
       "    </tr>\n",
       "  </thead>\n",
       "  <tbody>\n",
       "    <tr>\n",
       "      <th>0</th>\n",
       "      <td>Abbotsford</td>\n",
       "      <td>68 Studley St</td>\n",
       "      <td>2</td>\n",
       "      <td>h</td>\n",
       "      <td>NaN</td>\n",
       "      <td>SS</td>\n",
       "      <td>Jellis</td>\n",
       "      <td>3/09/2016</td>\n",
       "      <td>2.5</td>\n",
       "      <td>3067.0</td>\n",
       "      <td>...</td>\n",
       "      <td>1.0</td>\n",
       "      <td>1.0</td>\n",
       "      <td>126.0</td>\n",
       "      <td>NaN</td>\n",
       "      <td>NaN</td>\n",
       "      <td>Yarra</td>\n",
       "      <td>-37.8014</td>\n",
       "      <td>144.9958</td>\n",
       "      <td>Northern Metropolitan</td>\n",
       "      <td>4019.0</td>\n",
       "    </tr>\n",
       "    <tr>\n",
       "      <th>1</th>\n",
       "      <td>Abbotsford</td>\n",
       "      <td>85 Turner St</td>\n",
       "      <td>2</td>\n",
       "      <td>h</td>\n",
       "      <td>1480000.0</td>\n",
       "      <td>S</td>\n",
       "      <td>Biggin</td>\n",
       "      <td>3/12/2016</td>\n",
       "      <td>2.5</td>\n",
       "      <td>3067.0</td>\n",
       "      <td>...</td>\n",
       "      <td>1.0</td>\n",
       "      <td>1.0</td>\n",
       "      <td>202.0</td>\n",
       "      <td>NaN</td>\n",
       "      <td>NaN</td>\n",
       "      <td>Yarra</td>\n",
       "      <td>-37.7996</td>\n",
       "      <td>144.9984</td>\n",
       "      <td>Northern Metropolitan</td>\n",
       "      <td>4019.0</td>\n",
       "    </tr>\n",
       "    <tr>\n",
       "      <th>2</th>\n",
       "      <td>Abbotsford</td>\n",
       "      <td>25 Bloomburg St</td>\n",
       "      <td>2</td>\n",
       "      <td>h</td>\n",
       "      <td>1035000.0</td>\n",
       "      <td>S</td>\n",
       "      <td>Biggin</td>\n",
       "      <td>4/02/2016</td>\n",
       "      <td>2.5</td>\n",
       "      <td>3067.0</td>\n",
       "      <td>...</td>\n",
       "      <td>1.0</td>\n",
       "      <td>0.0</td>\n",
       "      <td>156.0</td>\n",
       "      <td>79.0</td>\n",
       "      <td>1900.0</td>\n",
       "      <td>Yarra</td>\n",
       "      <td>-37.8079</td>\n",
       "      <td>144.9934</td>\n",
       "      <td>Northern Metropolitan</td>\n",
       "      <td>4019.0</td>\n",
       "    </tr>\n",
       "    <tr>\n",
       "      <th>3</th>\n",
       "      <td>Abbotsford</td>\n",
       "      <td>18/659 Victoria St</td>\n",
       "      <td>3</td>\n",
       "      <td>u</td>\n",
       "      <td>NaN</td>\n",
       "      <td>VB</td>\n",
       "      <td>Rounds</td>\n",
       "      <td>4/02/2016</td>\n",
       "      <td>2.5</td>\n",
       "      <td>3067.0</td>\n",
       "      <td>...</td>\n",
       "      <td>2.0</td>\n",
       "      <td>1.0</td>\n",
       "      <td>0.0</td>\n",
       "      <td>NaN</td>\n",
       "      <td>NaN</td>\n",
       "      <td>Yarra</td>\n",
       "      <td>-37.8114</td>\n",
       "      <td>145.0116</td>\n",
       "      <td>Northern Metropolitan</td>\n",
       "      <td>4019.0</td>\n",
       "    </tr>\n",
       "    <tr>\n",
       "      <th>4</th>\n",
       "      <td>Abbotsford</td>\n",
       "      <td>5 Charles St</td>\n",
       "      <td>3</td>\n",
       "      <td>h</td>\n",
       "      <td>1465000.0</td>\n",
       "      <td>SP</td>\n",
       "      <td>Biggin</td>\n",
       "      <td>4/03/2017</td>\n",
       "      <td>2.5</td>\n",
       "      <td>3067.0</td>\n",
       "      <td>...</td>\n",
       "      <td>2.0</td>\n",
       "      <td>0.0</td>\n",
       "      <td>134.0</td>\n",
       "      <td>150.0</td>\n",
       "      <td>1900.0</td>\n",
       "      <td>Yarra</td>\n",
       "      <td>-37.8093</td>\n",
       "      <td>144.9944</td>\n",
       "      <td>Northern Metropolitan</td>\n",
       "      <td>4019.0</td>\n",
       "    </tr>\n",
       "  </tbody>\n",
       "</table>\n",
       "<p>5 rows × 21 columns</p>\n",
       "</div>"
      ],
      "text/plain": [
       "       Suburb             Address  Rooms Type      Price Method SellerG  \\\n",
       "0  Abbotsford       68 Studley St      2    h        NaN     SS  Jellis   \n",
       "1  Abbotsford        85 Turner St      2    h  1480000.0      S  Biggin   \n",
       "2  Abbotsford     25 Bloomburg St      2    h  1035000.0      S  Biggin   \n",
       "3  Abbotsford  18/659 Victoria St      3    u        NaN     VB  Rounds   \n",
       "4  Abbotsford        5 Charles St      3    h  1465000.0     SP  Biggin   \n",
       "\n",
       "        Date  Distance  Postcode  ...  Bathroom  Car  Landsize  BuildingArea  \\\n",
       "0  3/09/2016       2.5    3067.0  ...       1.0  1.0     126.0           NaN   \n",
       "1  3/12/2016       2.5    3067.0  ...       1.0  1.0     202.0           NaN   \n",
       "2  4/02/2016       2.5    3067.0  ...       1.0  0.0     156.0          79.0   \n",
       "3  4/02/2016       2.5    3067.0  ...       2.0  1.0       0.0           NaN   \n",
       "4  4/03/2017       2.5    3067.0  ...       2.0  0.0     134.0         150.0   \n",
       "\n",
       "   YearBuilt  CouncilArea Lattitude  Longtitude             Regionname  \\\n",
       "0        NaN        Yarra  -37.8014    144.9958  Northern Metropolitan   \n",
       "1        NaN        Yarra  -37.7996    144.9984  Northern Metropolitan   \n",
       "2     1900.0        Yarra  -37.8079    144.9934  Northern Metropolitan   \n",
       "3        NaN        Yarra  -37.8114    145.0116  Northern Metropolitan   \n",
       "4     1900.0        Yarra  -37.8093    144.9944  Northern Metropolitan   \n",
       "\n",
       "  Propertycount  \n",
       "0        4019.0  \n",
       "1        4019.0  \n",
       "2        4019.0  \n",
       "3        4019.0  \n",
       "4        4019.0  \n",
       "\n",
       "[5 rows x 21 columns]"
      ]
     },
     "execution_count": 18,
     "metadata": {},
     "output_type": "execute_result"
    }
   ],
   "source": [
    "df = pd.read_csv(\"c:/data/house_regress/data.csv\")\n",
    "df.head()"
   ]
  },
  {
   "cell_type": "code",
   "execution_count": 19,
   "metadata": {},
   "outputs": [
    {
     "data": {
      "text/plain": [
       "(19740, 21)"
      ]
     },
     "execution_count": 19,
     "metadata": {},
     "output_type": "execute_result"
    }
   ],
   "source": [
    "df.shape"
   ]
  },
  {
   "cell_type": "code",
   "execution_count": 20,
   "metadata": {},
   "outputs": [
    {
     "data": {
      "text/plain": [
       "Index(['Suburb', 'Address', 'Rooms', 'Type', 'Price', 'Method', 'SellerG',\n",
       "       'Date', 'Distance', 'Postcode', 'Bedroom2', 'Bathroom', 'Car',\n",
       "       'Landsize', 'BuildingArea', 'YearBuilt', 'CouncilArea', 'Lattitude',\n",
       "       'Longtitude', 'Regionname', 'Propertycount'],\n",
       "      dtype='object')"
      ]
     },
     "execution_count": 20,
     "metadata": {},
     "output_type": "execute_result"
    }
   ],
   "source": [
    "df.columns"
   ]
  },
  {
   "cell_type": "code",
   "execution_count": 21,
   "metadata": {},
   "outputs": [
    {
     "data": {
      "text/html": [
       "<div>\n",
       "<style scoped>\n",
       "    .dataframe tbody tr th:only-of-type {\n",
       "        vertical-align: middle;\n",
       "    }\n",
       "\n",
       "    .dataframe tbody tr th {\n",
       "        vertical-align: top;\n",
       "    }\n",
       "\n",
       "    .dataframe thead th {\n",
       "        text-align: right;\n",
       "    }\n",
       "</style>\n",
       "<table border=\"1\" class=\"dataframe\">\n",
       "  <thead>\n",
       "    <tr style=\"text-align: right;\">\n",
       "      <th></th>\n",
       "      <th>Rooms</th>\n",
       "      <th>Distance</th>\n",
       "      <th>Bedroom2</th>\n",
       "      <th>Bathroom</th>\n",
       "      <th>Car</th>\n",
       "      <th>Landsize</th>\n",
       "      <th>BuildingArea</th>\n",
       "      <th>Propertycount</th>\n",
       "      <th>Price</th>\n",
       "    </tr>\n",
       "  </thead>\n",
       "  <tbody>\n",
       "    <tr>\n",
       "      <th>0</th>\n",
       "      <td>2.0</td>\n",
       "      <td>2.5</td>\n",
       "      <td>2.0</td>\n",
       "      <td>1.0</td>\n",
       "      <td>1.0</td>\n",
       "      <td>126.00000</td>\n",
       "      <td>196.806973</td>\n",
       "      <td>4019.0</td>\n",
       "      <td>1.054957e+06</td>\n",
       "    </tr>\n",
       "    <tr>\n",
       "      <th>1</th>\n",
       "      <td>2.0</td>\n",
       "      <td>2.5</td>\n",
       "      <td>2.0</td>\n",
       "      <td>1.0</td>\n",
       "      <td>1.0</td>\n",
       "      <td>202.00000</td>\n",
       "      <td>196.806973</td>\n",
       "      <td>4019.0</td>\n",
       "      <td>1.480000e+06</td>\n",
       "    </tr>\n",
       "    <tr>\n",
       "      <th>2</th>\n",
       "      <td>2.0</td>\n",
       "      <td>2.5</td>\n",
       "      <td>2.0</td>\n",
       "      <td>1.0</td>\n",
       "      <td>0.0</td>\n",
       "      <td>156.00000</td>\n",
       "      <td>79.000000</td>\n",
       "      <td>4019.0</td>\n",
       "      <td>1.035000e+06</td>\n",
       "    </tr>\n",
       "    <tr>\n",
       "      <th>3</th>\n",
       "      <td>3.0</td>\n",
       "      <td>2.5</td>\n",
       "      <td>3.0</td>\n",
       "      <td>2.0</td>\n",
       "      <td>1.0</td>\n",
       "      <td>0.00000</td>\n",
       "      <td>196.806973</td>\n",
       "      <td>4019.0</td>\n",
       "      <td>1.054957e+06</td>\n",
       "    </tr>\n",
       "    <tr>\n",
       "      <th>4</th>\n",
       "      <td>3.0</td>\n",
       "      <td>2.5</td>\n",
       "      <td>3.0</td>\n",
       "      <td>2.0</td>\n",
       "      <td>0.0</td>\n",
       "      <td>134.00000</td>\n",
       "      <td>150.000000</td>\n",
       "      <td>4019.0</td>\n",
       "      <td>1.465000e+06</td>\n",
       "    </tr>\n",
       "    <tr>\n",
       "      <th>...</th>\n",
       "      <td>...</td>\n",
       "      <td>...</td>\n",
       "      <td>...</td>\n",
       "      <td>...</td>\n",
       "      <td>...</td>\n",
       "      <td>...</td>\n",
       "      <td>...</td>\n",
       "      <td>...</td>\n",
       "      <td>...</td>\n",
       "    </tr>\n",
       "    <tr>\n",
       "      <th>19735</th>\n",
       "      <td>2.0</td>\n",
       "      <td>4.6</td>\n",
       "      <td>3.0</td>\n",
       "      <td>1.0</td>\n",
       "      <td>1.0</td>\n",
       "      <td>583.91709</td>\n",
       "      <td>585.000000</td>\n",
       "      <td>4380.0</td>\n",
       "      <td>5.600000e+05</td>\n",
       "    </tr>\n",
       "    <tr>\n",
       "      <th>19736</th>\n",
       "      <td>3.0</td>\n",
       "      <td>25.5</td>\n",
       "      <td>3.0</td>\n",
       "      <td>2.0</td>\n",
       "      <td>2.0</td>\n",
       "      <td>583.91709</td>\n",
       "      <td>333.000000</td>\n",
       "      <td>2940.0</td>\n",
       "      <td>5.253000e+05</td>\n",
       "    </tr>\n",
       "    <tr>\n",
       "      <th>19737</th>\n",
       "      <td>2.0</td>\n",
       "      <td>6.3</td>\n",
       "      <td>3.0</td>\n",
       "      <td>2.0</td>\n",
       "      <td>2.0</td>\n",
       "      <td>1999.00000</td>\n",
       "      <td>199.000000</td>\n",
       "      <td>6543.0</td>\n",
       "      <td>7.500000e+05</td>\n",
       "    </tr>\n",
       "    <tr>\n",
       "      <th>19738</th>\n",
       "      <td>6.0</td>\n",
       "      <td>6.3</td>\n",
       "      <td>3.0</td>\n",
       "      <td>2.0</td>\n",
       "      <td>1.0</td>\n",
       "      <td>2011.00000</td>\n",
       "      <td>238.000000</td>\n",
       "      <td>6543.0</td>\n",
       "      <td>2.450000e+06</td>\n",
       "    </tr>\n",
       "    <tr>\n",
       "      <th>19739</th>\n",
       "      <td>3.0</td>\n",
       "      <td>6.3</td>\n",
       "      <td>2.0</td>\n",
       "      <td>1.0</td>\n",
       "      <td>1.0</td>\n",
       "      <td>1980.00000</td>\n",
       "      <td>0.000000</td>\n",
       "      <td>6543.0</td>\n",
       "      <td>6.450000e+05</td>\n",
       "    </tr>\n",
       "  </tbody>\n",
       "</table>\n",
       "<p>19740 rows × 9 columns</p>\n",
       "</div>"
      ],
      "text/plain": [
       "       Rooms  Distance  Bedroom2  Bathroom  Car    Landsize  BuildingArea  \\\n",
       "0        2.0       2.5       2.0       1.0  1.0   126.00000    196.806973   \n",
       "1        2.0       2.5       2.0       1.0  1.0   202.00000    196.806973   \n",
       "2        2.0       2.5       2.0       1.0  0.0   156.00000     79.000000   \n",
       "3        3.0       2.5       3.0       2.0  1.0     0.00000    196.806973   \n",
       "4        3.0       2.5       3.0       2.0  0.0   134.00000    150.000000   \n",
       "...      ...       ...       ...       ...  ...         ...           ...   \n",
       "19735    2.0       4.6       3.0       1.0  1.0   583.91709    585.000000   \n",
       "19736    3.0      25.5       3.0       2.0  2.0   583.91709    333.000000   \n",
       "19737    2.0       6.3       3.0       2.0  2.0  1999.00000    199.000000   \n",
       "19738    6.0       6.3       3.0       2.0  1.0  2011.00000    238.000000   \n",
       "19739    3.0       6.3       2.0       1.0  1.0  1980.00000      0.000000   \n",
       "\n",
       "       Propertycount         Price  \n",
       "0             4019.0  1.054957e+06  \n",
       "1             4019.0  1.480000e+06  \n",
       "2             4019.0  1.035000e+06  \n",
       "3             4019.0  1.054957e+06  \n",
       "4             4019.0  1.465000e+06  \n",
       "...              ...           ...  \n",
       "19735         4380.0  5.600000e+05  \n",
       "19736         2940.0  5.253000e+05  \n",
       "19737         6543.0  7.500000e+05  \n",
       "19738         6543.0  2.450000e+06  \n",
       "19739         6543.0  6.450000e+05  \n",
       "\n",
       "[19740 rows x 9 columns]"
      ]
     },
     "execution_count": 21,
     "metadata": {},
     "output_type": "execute_result"
    }
   ],
   "source": [
    "X = df.loc[ : , ['Rooms', 'Distance', 'Bedroom2', 'Bathroom', 'Car', 'Landsize', 'BuildingArea', 'Propertycount']] # 독립변수\n",
    "y = df[\"Price\"] # 종속변수\n",
    "\n",
    "df = pd.concat([X,y], axis=1)\n",
    "\n",
    "from sklearn.impute import SimpleImputer\n",
    "imputer = SimpleImputer(strategy=\"mean\") # 결측값 평균으로 채우기\n",
    "df2 = pd.DataFrame(imputer.fit_transform(df), columns=df.columns)\n",
    "df2"
   ]
  },
  {
   "cell_type": "code",
   "execution_count": 22,
   "metadata": {},
   "outputs": [],
   "source": [
    "cols = df2.columns[:-1]\n",
    "X = df2[cols]\n",
    "y = df2[\"Price\"]"
   ]
  },
  {
   "cell_type": "code",
   "execution_count": 23,
   "metadata": {},
   "outputs": [
    {
     "name": "stdout",
     "output_type": "stream",
     "text": [
      "회귀계수: \n",
      " Rooms            294371.005153\n",
      "Distance         -23496.988924\n",
      "Bedroom2           9619.034190\n",
      "Bathroom         153450.013874\n",
      "Car               45814.483818\n",
      "Landsize              0.670134\n",
      "BuildingArea         19.118400\n",
      "Propertycount         7.495786\n",
      "dtype: float64\n",
      "R-squared: \n",
      " 0.8320357616277432\n",
      "P values: \n",
      " Rooms             0.000000e+00\n",
      "Distance         3.070252e-284\n",
      "Bedroom2          1.150098e-01\n",
      "Bathroom         1.468789e-106\n",
      "Car               2.508850e-24\n",
      "Landsize          5.287350e-01\n",
      "BuildingArea      4.347287e-02\n",
      "Propertycount     8.631029e-27\n",
      "dtype: float64\n"
     ]
    }
   ],
   "source": [
    "import statsmodels.api as sm\n",
    "\n",
    "model = sm.OLS(y, X)\n",
    "result = model.fit()\n",
    "\n",
    "print(\"회귀계수: \\n\", result.params)\n",
    "print(\"R-squared: \\n\", result.rsquared)\n",
    "print(\"P values: \\n\", result.pvalues)"
   ]
  },
  {
   "cell_type": "code",
   "execution_count": 24,
   "metadata": {},
   "outputs": [
    {
     "name": "stdout",
     "output_type": "stream",
     "text": [
      "                                 OLS Regression Results                                \n",
      "=======================================================================================\n",
      "Dep. Variable:                  Price   R-squared (uncentered):                   0.832\n",
      "Model:                            OLS   Adj. R-squared (uncentered):              0.832\n",
      "Method:                 Least Squares   F-statistic:                          1.222e+04\n",
      "Date:                Mon, 06 Dec 2021   Prob (F-statistic):                        0.00\n",
      "Time:                        11:43:04   Log-Likelihood:                     -2.8670e+05\n",
      "No. Observations:               19740   AIC:                                  5.734e+05\n",
      "Df Residuals:                   19732   BIC:                                  5.735e+05\n",
      "Df Model:                           8                                                  \n",
      "Covariance Type:            nonrobust                                                  \n",
      "=================================================================================\n",
      "                    coef    std err          t      P>|t|      [0.025      0.975]\n",
      "---------------------------------------------------------------------------------\n",
      "Rooms          2.944e+05   5116.944     57.529      0.000    2.84e+05    3.04e+05\n",
      "Distance       -2.35e+04    641.486    -36.629      0.000   -2.48e+04   -2.22e+04\n",
      "Bedroom2       9619.0342   6102.909      1.576      0.115   -2343.181    2.16e+04\n",
      "Bathroom       1.535e+05   6955.878     22.060      0.000     1.4e+05    1.67e+05\n",
      "Car            4.581e+04   4495.752     10.191      0.000     3.7e+04    5.46e+04\n",
      "Landsize          0.6701      1.064      0.630      0.529      -1.415       2.755\n",
      "BuildingArea     19.1184      9.468      2.019      0.043       0.560      37.676\n",
      "Propertycount     7.4958      0.699     10.731      0.000       6.127       8.865\n",
      "==============================================================================\n",
      "Omnibus:                    10727.056   Durbin-Watson:                   1.653\n",
      "Prob(Omnibus):                  0.000   Jarque-Bera (JB):           199988.120\n",
      "Skew:                           2.207   Prob(JB):                         0.00\n",
      "Kurtosis:                      17.955   Cond. No.                     2.02e+04\n",
      "==============================================================================\n",
      "\n",
      "Notes:\n",
      "[1] R² is computed without centering (uncentered) since the model does not contain a constant.\n",
      "[2] Standard Errors assume that the covariance matrix of the errors is correctly specified.\n",
      "[3] The condition number is large, 2.02e+04. This might indicate that there are\n",
      "strong multicollinearity or other numerical problems.\n"
     ]
    }
   ],
   "source": [
    "print(result.summary())"
   ]
  },
  {
   "cell_type": "code",
   "execution_count": 25,
   "metadata": {},
   "outputs": [
    {
     "name": "stdout",
     "output_type": "stream",
     "text": [
      "회귀계수: \n",
      " Rooms           -6.493792e-10\n",
      "Price            1.000000e+00\n",
      "Car             -2.910383e-11\n",
      "Distance         4.365575e-11\n",
      "Bedroom2         7.639755e-11\n",
      "Bathroom        -6.548362e-11\n",
      "BuildingArea    -9.947598e-14\n",
      "Propertycount   -1.776357e-15\n",
      "dtype: float64\n",
      "R-squared: \n",
      " 1.0\n",
      "P values: \n",
      " Rooms            0.000000e+00\n",
      "Price            0.000000e+00\n",
      "Car              7.655881e-06\n",
      "Distance         0.000000e+00\n",
      "Bedroom2         4.369703e-18\n",
      "Bathroom         1.158624e-10\n",
      "BuildingArea     3.395286e-13\n",
      "Propertycount    7.877546e-02\n",
      "dtype: float64\n"
     ]
    }
   ],
   "source": [
    "# Landsize 제거\n",
    "\n",
    "X = df2.loc[ : , ['Rooms', 'Price', 'Car', 'Distance', 'Bedroom2', 'Bathroom', 'BuildingArea', 'Propertycount']]\n",
    "y = df2[\"Price\"]\n",
    "\n",
    "model = sm.OLS(y, X)\n",
    "result = model.fit()\n",
    "\n",
    "print(\"회귀계수: \\n\", result.params)\n",
    "print(\"R-squared: \\n\", result.rsquared)\n",
    "print(\"P values: \\n\", result.pvalues)"
   ]
  },
  {
   "cell_type": "code",
   "execution_count": 26,
   "metadata": {},
   "outputs": [
    {
     "name": "stdout",
     "output_type": "stream",
     "text": [
      "                                 OLS Regression Results                                \n",
      "=======================================================================================\n",
      "Dep. Variable:                  Price   R-squared (uncentered):                   1.000\n",
      "Model:                            OLS   Adj. R-squared (uncentered):              1.000\n",
      "Method:                 Least Squares   F-statistic:                          7.056e+33\n",
      "Date:                Mon, 06 Dec 2021   Prob (F-statistic):                        0.00\n",
      "Time:                        11:43:16   Log-Likelihood:                      3.8786e+05\n",
      "No. Observations:               19740   AIC:                                 -7.757e+05\n",
      "Df Residuals:                   19732   BIC:                                 -7.756e+05\n",
      "Df Model:                           8                                                  \n",
      "Covariance Type:            nonrobust                                                  \n",
      "=================================================================================\n",
      "                    coef    std err          t      P>|t|      [0.025      0.975]\n",
      "---------------------------------------------------------------------------------\n",
      "Rooms         -6.494e-10   7.98e-12    -81.408      0.000   -6.65e-10   -6.34e-10\n",
      "Price             1.0000   1.03e-17   9.74e+16      0.000       1.000       1.000\n",
      "Car            -2.91e-11    6.5e-12     -4.476      0.000   -4.18e-11   -1.64e-11\n",
      "Distance       4.366e-11   9.56e-13     45.677      0.000    4.18e-11    4.55e-11\n",
      "Bedroom2        7.64e-11    8.8e-12      8.677      0.000    5.91e-11    9.37e-11\n",
      "Bathroom      -6.548e-11   1.02e-11     -6.448      0.000   -8.54e-11   -4.56e-11\n",
      "BuildingArea  -9.948e-14   1.37e-14     -7.283      0.000   -1.26e-13   -7.27e-14\n",
      "Propertycount -1.776e-15   1.01e-15     -1.758      0.079   -3.76e-15    2.04e-16\n",
      "==============================================================================\n",
      "Omnibus:                     6630.263   Durbin-Watson:                   1.688\n",
      "Prob(Omnibus):                  0.000   Jarque-Bera (JB):            60696.936\n",
      "Skew:                          -1.351   Prob(JB):                         0.00\n",
      "Kurtosis:                      11.154   Cond. No.                     2.81e+06\n",
      "==============================================================================\n",
      "\n",
      "Notes:\n",
      "[1] R² is computed without centering (uncentered) since the model does not contain a constant.\n",
      "[2] Standard Errors assume that the covariance matrix of the errors is correctly specified.\n",
      "[3] The condition number is large, 2.81e+06. This might indicate that there are\n",
      "strong multicollinearity or other numerical problems.\n"
     ]
    }
   ],
   "source": [
    "print(result.summary())"
   ]
  },
  {
   "cell_type": "code",
   "execution_count": 27,
   "metadata": {},
   "outputs": [],
   "source": [
    "from sklearn.model_selection import train_test_split\n",
    "from sklearn.linear_model import LinearRegression\n",
    "\n",
    "X_train, X_test, y_train, y_test = train_test_split(X, y, test_size=0.2, random_state=10)\n",
    "model = LinearRegression().fit(X_train, y_train)"
   ]
  },
  {
   "cell_type": "code",
   "execution_count": 28,
   "metadata": {},
   "outputs": [
    {
     "name": "stdout",
     "output_type": "stream",
     "text": [
      "학습용:  1.0\n",
      "검증용:  1.0\n"
     ]
    }
   ],
   "source": [
    "print(\"학습용: \", model.score(X_train, y_train))\n",
    "print(\"검증용: \", model.score(X_test, y_test))"
   ]
  },
  {
   "cell_type": "code",
   "execution_count": 29,
   "metadata": {},
   "outputs": [
    {
     "data": {
      "text/html": [
       "<div>\n",
       "<style scoped>\n",
       "    .dataframe tbody tr th:only-of-type {\n",
       "        vertical-align: middle;\n",
       "    }\n",
       "\n",
       "    .dataframe tbody tr th {\n",
       "        vertical-align: top;\n",
       "    }\n",
       "\n",
       "    .dataframe thead th {\n",
       "        text-align: right;\n",
       "    }\n",
       "</style>\n",
       "<table border=\"1\" class=\"dataframe\">\n",
       "  <thead>\n",
       "    <tr style=\"text-align: right;\">\n",
       "      <th></th>\n",
       "      <th>Rooms</th>\n",
       "      <th>Distance</th>\n",
       "      <th>Bedroom2</th>\n",
       "      <th>Bathroom</th>\n",
       "      <th>Car</th>\n",
       "      <th>Landsize</th>\n",
       "      <th>BuildingArea</th>\n",
       "      <th>Propertycount</th>\n",
       "      <th>Price</th>\n",
       "    </tr>\n",
       "  </thead>\n",
       "  <tbody>\n",
       "    <tr>\n",
       "      <th>Rooms</th>\n",
       "      <td>1.000000</td>\n",
       "      <td>0.269187</td>\n",
       "      <td>0.713647</td>\n",
       "      <td>0.465050</td>\n",
       "      <td>0.315823</td>\n",
       "      <td>0.027690</td>\n",
       "      <td>0.063147</td>\n",
       "      <td>-0.092805</td>\n",
       "      <td>0.441892</td>\n",
       "    </tr>\n",
       "    <tr>\n",
       "      <th>Distance</th>\n",
       "      <td>0.269187</td>\n",
       "      <td>1.000000</td>\n",
       "      <td>0.198491</td>\n",
       "      <td>0.082878</td>\n",
       "      <td>0.191013</td>\n",
       "      <td>0.041062</td>\n",
       "      <td>0.059510</td>\n",
       "      <td>-0.075737</td>\n",
       "      <td>-0.130879</td>\n",
       "    </tr>\n",
       "    <tr>\n",
       "      <th>Bedroom2</th>\n",
       "      <td>0.713647</td>\n",
       "      <td>0.198491</td>\n",
       "      <td>1.000000</td>\n",
       "      <td>0.595986</td>\n",
       "      <td>0.389490</td>\n",
       "      <td>0.023069</td>\n",
       "      <td>0.080291</td>\n",
       "      <td>-0.079796</td>\n",
       "      <td>0.335809</td>\n",
       "    </tr>\n",
       "    <tr>\n",
       "      <th>Bathroom</th>\n",
       "      <td>0.465050</td>\n",
       "      <td>0.082878</td>\n",
       "      <td>0.595986</td>\n",
       "      <td>1.000000</td>\n",
       "      <td>0.320351</td>\n",
       "      <td>0.032138</td>\n",
       "      <td>0.066778</td>\n",
       "      <td>-0.041444</td>\n",
       "      <td>0.325379</td>\n",
       "    </tr>\n",
       "    <tr>\n",
       "      <th>Car</th>\n",
       "      <td>0.315823</td>\n",
       "      <td>0.191013</td>\n",
       "      <td>0.389490</td>\n",
       "      <td>0.320351</td>\n",
       "      <td>1.000000</td>\n",
       "      <td>0.025044</td>\n",
       "      <td>0.066859</td>\n",
       "      <td>-0.024810</td>\n",
       "      <td>0.177339</td>\n",
       "    </tr>\n",
       "    <tr>\n",
       "      <th>Landsize</th>\n",
       "      <td>0.027690</td>\n",
       "      <td>0.041062</td>\n",
       "      <td>0.023069</td>\n",
       "      <td>0.032138</td>\n",
       "      <td>0.025044</td>\n",
       "      <td>1.000000</td>\n",
       "      <td>0.016474</td>\n",
       "      <td>0.011601</td>\n",
       "      <td>0.010406</td>\n",
       "    </tr>\n",
       "    <tr>\n",
       "      <th>BuildingArea</th>\n",
       "      <td>0.063147</td>\n",
       "      <td>0.059510</td>\n",
       "      <td>0.080291</td>\n",
       "      <td>0.066778</td>\n",
       "      <td>0.066859</td>\n",
       "      <td>0.016474</td>\n",
       "      <td>1.000000</td>\n",
       "      <td>-0.009088</td>\n",
       "      <td>0.028060</td>\n",
       "    </tr>\n",
       "    <tr>\n",
       "      <th>Propertycount</th>\n",
       "      <td>-0.092805</td>\n",
       "      <td>-0.075737</td>\n",
       "      <td>-0.079796</td>\n",
       "      <td>-0.041444</td>\n",
       "      <td>-0.024810</td>\n",
       "      <td>0.011601</td>\n",
       "      <td>-0.009088</td>\n",
       "      <td>1.000000</td>\n",
       "      <td>-0.043741</td>\n",
       "    </tr>\n",
       "    <tr>\n",
       "      <th>Price</th>\n",
       "      <td>0.441892</td>\n",
       "      <td>-0.130879</td>\n",
       "      <td>0.335809</td>\n",
       "      <td>0.325379</td>\n",
       "      <td>0.177339</td>\n",
       "      <td>0.010406</td>\n",
       "      <td>0.028060</td>\n",
       "      <td>-0.043741</td>\n",
       "      <td>1.000000</td>\n",
       "    </tr>\n",
       "  </tbody>\n",
       "</table>\n",
       "</div>"
      ],
      "text/plain": [
       "                  Rooms  Distance  Bedroom2  Bathroom       Car  Landsize  \\\n",
       "Rooms          1.000000  0.269187  0.713647  0.465050  0.315823  0.027690   \n",
       "Distance       0.269187  1.000000  0.198491  0.082878  0.191013  0.041062   \n",
       "Bedroom2       0.713647  0.198491  1.000000  0.595986  0.389490  0.023069   \n",
       "Bathroom       0.465050  0.082878  0.595986  1.000000  0.320351  0.032138   \n",
       "Car            0.315823  0.191013  0.389490  0.320351  1.000000  0.025044   \n",
       "Landsize       0.027690  0.041062  0.023069  0.032138  0.025044  1.000000   \n",
       "BuildingArea   0.063147  0.059510  0.080291  0.066778  0.066859  0.016474   \n",
       "Propertycount -0.092805 -0.075737 -0.079796 -0.041444 -0.024810  0.011601   \n",
       "Price          0.441892 -0.130879  0.335809  0.325379  0.177339  0.010406   \n",
       "\n",
       "               BuildingArea  Propertycount     Price  \n",
       "Rooms              0.063147      -0.092805  0.441892  \n",
       "Distance           0.059510      -0.075737 -0.130879  \n",
       "Bedroom2           0.080291      -0.079796  0.335809  \n",
       "Bathroom           0.066778      -0.041444  0.325379  \n",
       "Car                0.066859      -0.024810  0.177339  \n",
       "Landsize           0.016474       0.011601  0.010406  \n",
       "BuildingArea       1.000000      -0.009088  0.028060  \n",
       "Propertycount     -0.009088       1.000000 -0.043741  \n",
       "Price              0.028060      -0.043741  1.000000  "
      ]
     },
     "execution_count": 29,
     "metadata": {},
     "output_type": "execute_result"
    }
   ],
   "source": [
    "# 다중공선성 확인\n",
    "df2.corr()"
   ]
  },
  {
   "cell_type": "code",
   "execution_count": null,
   "metadata": {},
   "outputs": [],
   "source": [
    "# OLS() 최소자승법 - summary()가 설명력이 좋음\n",
    "# LinearRegression() - 정확도 제공"
   ]
  },
  {
   "cell_type": "code",
   "execution_count": 30,
   "metadata": {},
   "outputs": [
    {
     "data": {
      "text/html": [
       "<div>\n",
       "<style scoped>\n",
       "    .dataframe tbody tr th:only-of-type {\n",
       "        vertical-align: middle;\n",
       "    }\n",
       "\n",
       "    .dataframe tbody tr th {\n",
       "        vertical-align: top;\n",
       "    }\n",
       "\n",
       "    .dataframe thead th {\n",
       "        text-align: right;\n",
       "    }\n",
       "</style>\n",
       "<table border=\"1\" class=\"dataframe\">\n",
       "  <thead>\n",
       "    <tr style=\"text-align: right;\">\n",
       "      <th></th>\n",
       "      <th>year</th>\n",
       "      <th>month</th>\n",
       "      <th>value</th>\n",
       "    </tr>\n",
       "  </thead>\n",
       "  <tbody>\n",
       "    <tr>\n",
       "      <th>0</th>\n",
       "      <td>1920</td>\n",
       "      <td>1</td>\n",
       "      <td>40.6</td>\n",
       "    </tr>\n",
       "    <tr>\n",
       "      <th>1</th>\n",
       "      <td>1920</td>\n",
       "      <td>2</td>\n",
       "      <td>40.8</td>\n",
       "    </tr>\n",
       "    <tr>\n",
       "      <th>2</th>\n",
       "      <td>1920</td>\n",
       "      <td>3</td>\n",
       "      <td>44.4</td>\n",
       "    </tr>\n",
       "    <tr>\n",
       "      <th>3</th>\n",
       "      <td>1920</td>\n",
       "      <td>4</td>\n",
       "      <td>46.7</td>\n",
       "    </tr>\n",
       "    <tr>\n",
       "      <th>4</th>\n",
       "      <td>1920</td>\n",
       "      <td>5</td>\n",
       "      <td>54.1</td>\n",
       "    </tr>\n",
       "  </tbody>\n",
       "</table>\n",
       "</div>"
      ],
      "text/plain": [
       "   year  month  value\n",
       "0  1920      1   40.6\n",
       "1  1920      2   40.8\n",
       "2  1920      3   44.4\n",
       "3  1920      4   46.7\n",
       "4  1920      5   54.1"
      ]
     },
     "execution_count": 30,
     "metadata": {},
     "output_type": "execute_result"
    }
   ],
   "source": [
    "import pandas as pd\n",
    "\n",
    "df = pd.read_csv(\"c:/data/degree/data.csv\")\n",
    "df.head()"
   ]
  },
  {
   "cell_type": "code",
   "execution_count": 31,
   "metadata": {},
   "outputs": [
    {
     "data": {
      "text/plain": [
       "<AxesSubplot:title={'center':'value'}, xlabel='month'>"
      ]
     },
     "execution_count": 31,
     "metadata": {},
     "output_type": "execute_result"
    },
    {
     "data": {
      "image/png": "[encoded data removed]",
      "text/plain": [
       "<Figure size 432x288 with 1 Axes>"
      ]
     },
     "metadata": {
      "needs_background": "light"
     },
     "output_type": "display_data"
    }
   ],
   "source": [
    "%matplotlib inline\n",
    "df.boxplot(\"value\", \"month\")"
   ]
  },
  {
   "cell_type": "code",
   "execution_count": 32,
   "metadata": {},
   "outputs": [
    {
     "data": {
      "text/html": [
       "<table class=\"simpletable\">\n",
       "<caption>OLS Regression Results</caption>\n",
       "<tr>\n",
       "  <th>Dep. Variable:</th>          <td>value</td>      <th>  R-squared:         </th> <td>   0.930</td> \n",
       "</tr>\n",
       "<tr>\n",
       "  <th>Model:</th>                   <td>OLS</td>       <th>  Adj. R-squared:    </th> <td>   0.927</td> \n",
       "</tr>\n",
       "<tr>\n",
       "  <th>Method:</th>             <td>Least Squares</td>  <th>  F-statistic:       </th> <td>   277.3</td> \n",
       "</tr>\n",
       "<tr>\n",
       "  <th>Date:</th>             <td>Mon, 06 Dec 2021</td> <th>  Prob (F-statistic):</th> <td>2.96e-125</td>\n",
       "</tr>\n",
       "<tr>\n",
       "  <th>Time:</th>                 <td>12:00:25</td>     <th>  Log-Likelihood:    </th> <td> -535.82</td> \n",
       "</tr>\n",
       "<tr>\n",
       "  <th>No. Observations:</th>      <td>   240</td>      <th>  AIC:               </th> <td>   1096.</td> \n",
       "</tr>\n",
       "<tr>\n",
       "  <th>Df Residuals:</th>          <td>   228</td>      <th>  BIC:               </th> <td>   1137.</td> \n",
       "</tr>\n",
       "<tr>\n",
       "  <th>Df Model:</th>              <td>    11</td>      <th>                     </th>     <td> </td>    \n",
       "</tr>\n",
       "<tr>\n",
       "  <th>Covariance Type:</th>      <td>nonrobust</td>    <th>                     </th>     <td> </td>    \n",
       "</tr>\n",
       "</table>\n",
       "<table class=\"simpletable\">\n",
       "<tr>\n",
       "        <td></td>          <th>coef</th>     <th>std err</th>      <th>t</th>      <th>P>|t|</th>  <th>[0.025</th>    <th>0.975]</th>  \n",
       "</tr>\n",
       "<tr>\n",
       "  <th>C(month)[1]</th>  <td>   39.6950</td> <td>    0.518</td> <td>   76.691</td> <td> 0.000</td> <td>   38.675</td> <td>   40.715</td>\n",
       "</tr>\n",
       "<tr>\n",
       "  <th>C(month)[2]</th>  <td>   39.1900</td> <td>    0.518</td> <td>   75.716</td> <td> 0.000</td> <td>   38.170</td> <td>   40.210</td>\n",
       "</tr>\n",
       "<tr>\n",
       "  <th>C(month)[3]</th>  <td>   42.1950</td> <td>    0.518</td> <td>   81.521</td> <td> 0.000</td> <td>   41.175</td> <td>   43.215</td>\n",
       "</tr>\n",
       "<tr>\n",
       "  <th>C(month)[4]</th>  <td>   46.2900</td> <td>    0.518</td> <td>   89.433</td> <td> 0.000</td> <td>   45.270</td> <td>   47.310</td>\n",
       "</tr>\n",
       "<tr>\n",
       "  <th>C(month)[5]</th>  <td>   52.5600</td> <td>    0.518</td> <td>  101.547</td> <td> 0.000</td> <td>   51.540</td> <td>   53.580</td>\n",
       "</tr>\n",
       "<tr>\n",
       "  <th>C(month)[6]</th>  <td>   58.0400</td> <td>    0.518</td> <td>  112.134</td> <td> 0.000</td> <td>   57.020</td> <td>   59.060</td>\n",
       "</tr>\n",
       "<tr>\n",
       "  <th>C(month)[7]</th>  <td>   61.9000</td> <td>    0.518</td> <td>  119.592</td> <td> 0.000</td> <td>   60.880</td> <td>   62.920</td>\n",
       "</tr>\n",
       "<tr>\n",
       "  <th>C(month)[8]</th>  <td>   60.5200</td> <td>    0.518</td> <td>  116.926</td> <td> 0.000</td> <td>   59.500</td> <td>   61.540</td>\n",
       "</tr>\n",
       "<tr>\n",
       "  <th>C(month)[9]</th>  <td>   56.4800</td> <td>    0.518</td> <td>  109.120</td> <td> 0.000</td> <td>   55.460</td> <td>   57.500</td>\n",
       "</tr>\n",
       "<tr>\n",
       "  <th>C(month)[10]</th> <td>   49.4950</td> <td>    0.518</td> <td>   95.625</td> <td> 0.000</td> <td>   48.475</td> <td>   50.515</td>\n",
       "</tr>\n",
       "<tr>\n",
       "  <th>C(month)[11]</th> <td>   42.5800</td> <td>    0.518</td> <td>   82.265</td> <td> 0.000</td> <td>   41.560</td> <td>   43.600</td>\n",
       "</tr>\n",
       "<tr>\n",
       "  <th>C(month)[12]</th> <td>   39.5300</td> <td>    0.518</td> <td>   76.373</td> <td> 0.000</td> <td>   38.510</td> <td>   40.550</td>\n",
       "</tr>\n",
       "</table>\n",
       "<table class=\"simpletable\">\n",
       "<tr>\n",
       "  <th>Omnibus:</th>       <td> 5.430</td> <th>  Durbin-Watson:     </th> <td>   1.529</td>\n",
       "</tr>\n",
       "<tr>\n",
       "  <th>Prob(Omnibus):</th> <td> 0.066</td> <th>  Jarque-Bera (JB):  </th> <td>   5.299</td>\n",
       "</tr>\n",
       "<tr>\n",
       "  <th>Skew:</th>          <td>-0.281</td> <th>  Prob(JB):          </th> <td>  0.0707</td>\n",
       "</tr>\n",
       "<tr>\n",
       "  <th>Kurtosis:</th>      <td> 3.463</td> <th>  Cond. No.          </th> <td>    1.00</td>\n",
       "</tr>\n",
       "</table><br/><br/>Notes:<br/>[1] Standard Errors assume that the covariance matrix of the errors is correctly specified."
      ],
      "text/plain": [
       "<class 'statsmodels.iolib.summary.Summary'>\n",
       "\"\"\"\n",
       "                            OLS Regression Results                            \n",
       "==============================================================================\n",
       "Dep. Variable:                  value   R-squared:                       0.930\n",
       "Model:                            OLS   Adj. R-squared:                  0.927\n",
       "Method:                 Least Squares   F-statistic:                     277.3\n",
       "Date:                Mon, 06 Dec 2021   Prob (F-statistic):          2.96e-125\n",
       "Time:                        12:00:25   Log-Likelihood:                -535.82\n",
       "No. Observations:                 240   AIC:                             1096.\n",
       "Df Residuals:                     228   BIC:                             1137.\n",
       "Df Model:                          11                                         \n",
       "Covariance Type:            nonrobust                                         \n",
       "================================================================================\n",
       "                   coef    std err          t      P>|t|      [0.025      0.975]\n",
       "--------------------------------------------------------------------------------\n",
       "C(month)[1]     39.6950      0.518     76.691      0.000      38.675      40.715\n",
       "C(month)[2]     39.1900      0.518     75.716      0.000      38.170      40.210\n",
       "C(month)[3]     42.1950      0.518     81.521      0.000      41.175      43.215\n",
       "C(month)[4]     46.2900      0.518     89.433      0.000      45.270      47.310\n",
       "C(month)[5]     52.5600      0.518    101.547      0.000      51.540      53.580\n",
       "C(month)[6]     58.0400      0.518    112.134      0.000      57.020      59.060\n",
       "C(month)[7]     61.9000      0.518    119.592      0.000      60.880      62.920\n",
       "C(month)[8]     60.5200      0.518    116.926      0.000      59.500      61.540\n",
       "C(month)[9]     56.4800      0.518    109.120      0.000      55.460      57.500\n",
       "C(month)[10]    49.4950      0.518     95.625      0.000      48.475      50.515\n",
       "C(month)[11]    42.5800      0.518     82.265      0.000      41.560      43.600\n",
       "C(month)[12]    39.5300      0.518     76.373      0.000      38.510      40.550\n",
       "==============================================================================\n",
       "Omnibus:                        5.430   Durbin-Watson:                   1.529\n",
       "Prob(Omnibus):                  0.066   Jarque-Bera (JB):                5.299\n",
       "Skew:                          -0.281   Prob(JB):                       0.0707\n",
       "Kurtosis:                       3.463   Cond. No.                         1.00\n",
       "==============================================================================\n",
       "\n",
       "Notes:\n",
       "[1] Standard Errors assume that the covariance matrix of the errors is correctly specified.\n",
       "\"\"\""
      ]
     },
     "execution_count": 32,
     "metadata": {},
     "output_type": "execute_result"
    }
   ],
   "source": [
    "import statsmodels.api as sm\n",
    "\n",
    "# 범주형 독립변수는 C()로 카테고리화 하기\n",
    "model = sm.OLS.from_formula(\"value ~ C(month)+0\", df)\n",
    "result = model.fit()\n",
    "result.summary()"
   ]
  },
  {
   "cell_type": "code",
   "execution_count": 33,
   "metadata": {},
   "outputs": [
    {
     "data": {
      "text/html": [
       "<table class=\"simpletable\">\n",
       "<caption>OLS Regression Results</caption>\n",
       "<tr>\n",
       "  <th>Dep. Variable:</th>          <td>value</td>      <th>  R-squared:         </th> <td>   0.930</td> \n",
       "</tr>\n",
       "<tr>\n",
       "  <th>Model:</th>                   <td>OLS</td>       <th>  Adj. R-squared:    </th> <td>   0.927</td> \n",
       "</tr>\n",
       "<tr>\n",
       "  <th>Method:</th>             <td>Least Squares</td>  <th>  F-statistic:       </th> <td>   277.3</td> \n",
       "</tr>\n",
       "<tr>\n",
       "  <th>Date:</th>             <td>Mon, 06 Dec 2021</td> <th>  Prob (F-statistic):</th> <td>2.96e-125</td>\n",
       "</tr>\n",
       "<tr>\n",
       "  <th>Time:</th>                 <td>12:01:05</td>     <th>  Log-Likelihood:    </th> <td> -535.82</td> \n",
       "</tr>\n",
       "<tr>\n",
       "  <th>No. Observations:</th>      <td>   240</td>      <th>  AIC:               </th> <td>   1096.</td> \n",
       "</tr>\n",
       "<tr>\n",
       "  <th>Df Residuals:</th>          <td>   228</td>      <th>  BIC:               </th> <td>   1137.</td> \n",
       "</tr>\n",
       "<tr>\n",
       "  <th>Df Model:</th>              <td>    11</td>      <th>                     </th>     <td> </td>    \n",
       "</tr>\n",
       "<tr>\n",
       "  <th>Covariance Type:</th>      <td>nonrobust</td>    <th>                     </th>     <td> </td>    \n",
       "</tr>\n",
       "</table>\n",
       "<table class=\"simpletable\">\n",
       "<tr>\n",
       "         <td></td>           <th>coef</th>     <th>std err</th>      <th>t</th>      <th>P>|t|</th>  <th>[0.025</th>    <th>0.975]</th>  \n",
       "</tr>\n",
       "<tr>\n",
       "  <th>Intercept</th>      <td>   39.6950</td> <td>    0.518</td> <td>   76.691</td> <td> 0.000</td> <td>   38.675</td> <td>   40.715</td>\n",
       "</tr>\n",
       "<tr>\n",
       "  <th>C(month)[T.2]</th>  <td>   -0.5050</td> <td>    0.732</td> <td>   -0.690</td> <td> 0.491</td> <td>   -1.947</td> <td>    0.937</td>\n",
       "</tr>\n",
       "<tr>\n",
       "  <th>C(month)[T.3]</th>  <td>    2.5000</td> <td>    0.732</td> <td>    3.415</td> <td> 0.001</td> <td>    1.058</td> <td>    3.942</td>\n",
       "</tr>\n",
       "<tr>\n",
       "  <th>C(month)[T.4]</th>  <td>    6.5950</td> <td>    0.732</td> <td>    9.010</td> <td> 0.000</td> <td>    5.153</td> <td>    8.037</td>\n",
       "</tr>\n",
       "<tr>\n",
       "  <th>C(month)[T.5]</th>  <td>   12.8650</td> <td>    0.732</td> <td>   17.575</td> <td> 0.000</td> <td>   11.423</td> <td>   14.307</td>\n",
       "</tr>\n",
       "<tr>\n",
       "  <th>C(month)[T.6]</th>  <td>   18.3450</td> <td>    0.732</td> <td>   25.062</td> <td> 0.000</td> <td>   16.903</td> <td>   19.787</td>\n",
       "</tr>\n",
       "<tr>\n",
       "  <th>C(month)[T.7]</th>  <td>   22.2050</td> <td>    0.732</td> <td>   30.335</td> <td> 0.000</td> <td>   20.763</td> <td>   23.647</td>\n",
       "</tr>\n",
       "<tr>\n",
       "  <th>C(month)[T.8]</th>  <td>   20.8250</td> <td>    0.732</td> <td>   28.450</td> <td> 0.000</td> <td>   19.383</td> <td>   22.267</td>\n",
       "</tr>\n",
       "<tr>\n",
       "  <th>C(month)[T.9]</th>  <td>   16.7850</td> <td>    0.732</td> <td>   22.931</td> <td> 0.000</td> <td>   15.343</td> <td>   18.227</td>\n",
       "</tr>\n",
       "<tr>\n",
       "  <th>C(month)[T.10]</th> <td>    9.8000</td> <td>    0.732</td> <td>   13.388</td> <td> 0.000</td> <td>    8.358</td> <td>   11.242</td>\n",
       "</tr>\n",
       "<tr>\n",
       "  <th>C(month)[T.11]</th> <td>    2.8850</td> <td>    0.732</td> <td>    3.941</td> <td> 0.000</td> <td>    1.443</td> <td>    4.327</td>\n",
       "</tr>\n",
       "<tr>\n",
       "  <th>C(month)[T.12]</th> <td>   -0.1650</td> <td>    0.732</td> <td>   -0.225</td> <td> 0.822</td> <td>   -1.607</td> <td>    1.277</td>\n",
       "</tr>\n",
       "</table>\n",
       "<table class=\"simpletable\">\n",
       "<tr>\n",
       "  <th>Omnibus:</th>       <td> 5.430</td> <th>  Durbin-Watson:     </th> <td>   1.529</td>\n",
       "</tr>\n",
       "<tr>\n",
       "  <th>Prob(Omnibus):</th> <td> 0.066</td> <th>  Jarque-Bera (JB):  </th> <td>   5.299</td>\n",
       "</tr>\n",
       "<tr>\n",
       "  <th>Skew:</th>          <td>-0.281</td> <th>  Prob(JB):          </th> <td>  0.0707</td>\n",
       "</tr>\n",
       "<tr>\n",
       "  <th>Kurtosis:</th>      <td> 3.463</td> <th>  Cond. No.          </th> <td>    12.9</td>\n",
       "</tr>\n",
       "</table><br/><br/>Notes:<br/>[1] Standard Errors assume that the covariance matrix of the errors is correctly specified."
      ],
      "text/plain": [
       "<class 'statsmodels.iolib.summary.Summary'>\n",
       "\"\"\"\n",
       "                            OLS Regression Results                            \n",
       "==============================================================================\n",
       "Dep. Variable:                  value   R-squared:                       0.930\n",
       "Model:                            OLS   Adj. R-squared:                  0.927\n",
       "Method:                 Least Squares   F-statistic:                     277.3\n",
       "Date:                Mon, 06 Dec 2021   Prob (F-statistic):          2.96e-125\n",
       "Time:                        12:01:05   Log-Likelihood:                -535.82\n",
       "No. Observations:                 240   AIC:                             1096.\n",
       "Df Residuals:                     228   BIC:                             1137.\n",
       "Df Model:                          11                                         \n",
       "Covariance Type:            nonrobust                                         \n",
       "==================================================================================\n",
       "                     coef    std err          t      P>|t|      [0.025      0.975]\n",
       "----------------------------------------------------------------------------------\n",
       "Intercept         39.6950      0.518     76.691      0.000      38.675      40.715\n",
       "C(month)[T.2]     -0.5050      0.732     -0.690      0.491      -1.947       0.937\n",
       "C(month)[T.3]      2.5000      0.732      3.415      0.001       1.058       3.942\n",
       "C(month)[T.4]      6.5950      0.732      9.010      0.000       5.153       8.037\n",
       "C(month)[T.5]     12.8650      0.732     17.575      0.000      11.423      14.307\n",
       "C(month)[T.6]     18.3450      0.732     25.062      0.000      16.903      19.787\n",
       "C(month)[T.7]     22.2050      0.732     30.335      0.000      20.763      23.647\n",
       "C(month)[T.8]     20.8250      0.732     28.450      0.000      19.383      22.267\n",
       "C(month)[T.9]     16.7850      0.732     22.931      0.000      15.343      18.227\n",
       "C(month)[T.10]     9.8000      0.732     13.388      0.000       8.358      11.242\n",
       "C(month)[T.11]     2.8850      0.732      3.941      0.000       1.443       4.327\n",
       "C(month)[T.12]    -0.1650      0.732     -0.225      0.822      -1.607       1.277\n",
       "==============================================================================\n",
       "Omnibus:                        5.430   Durbin-Watson:                   1.529\n",
       "Prob(Omnibus):                  0.066   Jarque-Bera (JB):                5.299\n",
       "Skew:                          -0.281   Prob(JB):                       0.0707\n",
       "Kurtosis:                       3.463   Cond. No.                         12.9\n",
       "==============================================================================\n",
       "\n",
       "Notes:\n",
       "[1] Standard Errors assume that the covariance matrix of the errors is correctly specified.\n",
       "\"\"\""
      ]
     },
     "execution_count": 33,
     "metadata": {},
     "output_type": "execute_result"
    }
   ],
   "source": [
    "# +0 없으면 2월부터\n",
    "\n",
    "model = sm.OLS.from_formula(\"value ~ C(month)\", df)\n",
    "result = model.fit()\n",
    "result.summary()"
   ]
  },
  {
   "cell_type": "code",
   "execution_count": null,
   "metadata": {},
   "outputs": [],
   "source": [
    "# 부분회귀 플롯"
   ]
  },
  {
   "cell_type": "code",
   "execution_count": 34,
   "metadata": {},
   "outputs": [
    {
     "data": {
      "text/html": [
       "<div>\n",
       "<style scoped>\n",
       "    .dataframe tbody tr th:only-of-type {\n",
       "        vertical-align: middle;\n",
       "    }\n",
       "\n",
       "    .dataframe tbody tr th {\n",
       "        vertical-align: top;\n",
       "    }\n",
       "\n",
       "    .dataframe thead th {\n",
       "        text-align: right;\n",
       "    }\n",
       "</style>\n",
       "<table border=\"1\" class=\"dataframe\">\n",
       "  <thead>\n",
       "    <tr style=\"text-align: right;\">\n",
       "      <th></th>\n",
       "      <th>CRIM</th>\n",
       "      <th>ZN</th>\n",
       "      <th>INDUS</th>\n",
       "      <th>CHAS</th>\n",
       "      <th>NOX</th>\n",
       "      <th>RM</th>\n",
       "      <th>AGE</th>\n",
       "      <th>DIS</th>\n",
       "      <th>RAD</th>\n",
       "      <th>TAX</th>\n",
       "      <th>PTRATIO</th>\n",
       "      <th>B</th>\n",
       "      <th>LSTAT</th>\n",
       "      <th>MEDV</th>\n",
       "    </tr>\n",
       "  </thead>\n",
       "  <tbody>\n",
       "    <tr>\n",
       "      <th>0</th>\n",
       "      <td>0.00632</td>\n",
       "      <td>18.0</td>\n",
       "      <td>2.31</td>\n",
       "      <td>0.0</td>\n",
       "      <td>0.538</td>\n",
       "      <td>6.575</td>\n",
       "      <td>65.2</td>\n",
       "      <td>4.0900</td>\n",
       "      <td>1.0</td>\n",
       "      <td>296.0</td>\n",
       "      <td>15.3</td>\n",
       "      <td>396.90</td>\n",
       "      <td>4.98</td>\n",
       "      <td>24.0</td>\n",
       "    </tr>\n",
       "    <tr>\n",
       "      <th>1</th>\n",
       "      <td>0.02731</td>\n",
       "      <td>0.0</td>\n",
       "      <td>7.07</td>\n",
       "      <td>0.0</td>\n",
       "      <td>0.469</td>\n",
       "      <td>6.421</td>\n",
       "      <td>78.9</td>\n",
       "      <td>4.9671</td>\n",
       "      <td>2.0</td>\n",
       "      <td>242.0</td>\n",
       "      <td>17.8</td>\n",
       "      <td>396.90</td>\n",
       "      <td>9.14</td>\n",
       "      <td>21.6</td>\n",
       "    </tr>\n",
       "    <tr>\n",
       "      <th>2</th>\n",
       "      <td>0.02729</td>\n",
       "      <td>0.0</td>\n",
       "      <td>7.07</td>\n",
       "      <td>0.0</td>\n",
       "      <td>0.469</td>\n",
       "      <td>7.185</td>\n",
       "      <td>61.1</td>\n",
       "      <td>4.9671</td>\n",
       "      <td>2.0</td>\n",
       "      <td>242.0</td>\n",
       "      <td>17.8</td>\n",
       "      <td>392.83</td>\n",
       "      <td>4.03</td>\n",
       "      <td>34.7</td>\n",
       "    </tr>\n",
       "    <tr>\n",
       "      <th>3</th>\n",
       "      <td>0.03237</td>\n",
       "      <td>0.0</td>\n",
       "      <td>2.18</td>\n",
       "      <td>0.0</td>\n",
       "      <td>0.458</td>\n",
       "      <td>6.998</td>\n",
       "      <td>45.8</td>\n",
       "      <td>6.0622</td>\n",
       "      <td>3.0</td>\n",
       "      <td>222.0</td>\n",
       "      <td>18.7</td>\n",
       "      <td>394.63</td>\n",
       "      <td>2.94</td>\n",
       "      <td>33.4</td>\n",
       "    </tr>\n",
       "    <tr>\n",
       "      <th>4</th>\n",
       "      <td>0.06905</td>\n",
       "      <td>0.0</td>\n",
       "      <td>2.18</td>\n",
       "      <td>0.0</td>\n",
       "      <td>0.458</td>\n",
       "      <td>7.147</td>\n",
       "      <td>54.2</td>\n",
       "      <td>6.0622</td>\n",
       "      <td>3.0</td>\n",
       "      <td>222.0</td>\n",
       "      <td>18.7</td>\n",
       "      <td>396.90</td>\n",
       "      <td>5.33</td>\n",
       "      <td>36.2</td>\n",
       "    </tr>\n",
       "    <tr>\n",
       "      <th>...</th>\n",
       "      <td>...</td>\n",
       "      <td>...</td>\n",
       "      <td>...</td>\n",
       "      <td>...</td>\n",
       "      <td>...</td>\n",
       "      <td>...</td>\n",
       "      <td>...</td>\n",
       "      <td>...</td>\n",
       "      <td>...</td>\n",
       "      <td>...</td>\n",
       "      <td>...</td>\n",
       "      <td>...</td>\n",
       "      <td>...</td>\n",
       "      <td>...</td>\n",
       "    </tr>\n",
       "    <tr>\n",
       "      <th>501</th>\n",
       "      <td>0.06263</td>\n",
       "      <td>0.0</td>\n",
       "      <td>11.93</td>\n",
       "      <td>0.0</td>\n",
       "      <td>0.573</td>\n",
       "      <td>6.593</td>\n",
       "      <td>69.1</td>\n",
       "      <td>2.4786</td>\n",
       "      <td>1.0</td>\n",
       "      <td>273.0</td>\n",
       "      <td>21.0</td>\n",
       "      <td>391.99</td>\n",
       "      <td>9.67</td>\n",
       "      <td>22.4</td>\n",
       "    </tr>\n",
       "    <tr>\n",
       "      <th>502</th>\n",
       "      <td>0.04527</td>\n",
       "      <td>0.0</td>\n",
       "      <td>11.93</td>\n",
       "      <td>0.0</td>\n",
       "      <td>0.573</td>\n",
       "      <td>6.120</td>\n",
       "      <td>76.7</td>\n",
       "      <td>2.2875</td>\n",
       "      <td>1.0</td>\n",
       "      <td>273.0</td>\n",
       "      <td>21.0</td>\n",
       "      <td>396.90</td>\n",
       "      <td>9.08</td>\n",
       "      <td>20.6</td>\n",
       "    </tr>\n",
       "    <tr>\n",
       "      <th>503</th>\n",
       "      <td>0.06076</td>\n",
       "      <td>0.0</td>\n",
       "      <td>11.93</td>\n",
       "      <td>0.0</td>\n",
       "      <td>0.573</td>\n",
       "      <td>6.976</td>\n",
       "      <td>91.0</td>\n",
       "      <td>2.1675</td>\n",
       "      <td>1.0</td>\n",
       "      <td>273.0</td>\n",
       "      <td>21.0</td>\n",
       "      <td>396.90</td>\n",
       "      <td>5.64</td>\n",
       "      <td>23.9</td>\n",
       "    </tr>\n",
       "    <tr>\n",
       "      <th>504</th>\n",
       "      <td>0.10959</td>\n",
       "      <td>0.0</td>\n",
       "      <td>11.93</td>\n",
       "      <td>0.0</td>\n",
       "      <td>0.573</td>\n",
       "      <td>6.794</td>\n",
       "      <td>89.3</td>\n",
       "      <td>2.3889</td>\n",
       "      <td>1.0</td>\n",
       "      <td>273.0</td>\n",
       "      <td>21.0</td>\n",
       "      <td>393.45</td>\n",
       "      <td>6.48</td>\n",
       "      <td>22.0</td>\n",
       "    </tr>\n",
       "    <tr>\n",
       "      <th>505</th>\n",
       "      <td>0.04741</td>\n",
       "      <td>0.0</td>\n",
       "      <td>11.93</td>\n",
       "      <td>0.0</td>\n",
       "      <td>0.573</td>\n",
       "      <td>6.030</td>\n",
       "      <td>80.8</td>\n",
       "      <td>2.5050</td>\n",
       "      <td>1.0</td>\n",
       "      <td>273.0</td>\n",
       "      <td>21.0</td>\n",
       "      <td>396.90</td>\n",
       "      <td>7.88</td>\n",
       "      <td>11.9</td>\n",
       "    </tr>\n",
       "  </tbody>\n",
       "</table>\n",
       "<p>506 rows × 14 columns</p>\n",
       "</div>"
      ],
      "text/plain": [
       "        CRIM    ZN  INDUS  CHAS    NOX     RM   AGE     DIS  RAD    TAX  \\\n",
       "0    0.00632  18.0   2.31   0.0  0.538  6.575  65.2  4.0900  1.0  296.0   \n",
       "1    0.02731   0.0   7.07   0.0  0.469  6.421  78.9  4.9671  2.0  242.0   \n",
       "2    0.02729   0.0   7.07   0.0  0.469  7.185  61.1  4.9671  2.0  242.0   \n",
       "3    0.03237   0.0   2.18   0.0  0.458  6.998  45.8  6.0622  3.0  222.0   \n",
       "4    0.06905   0.0   2.18   0.0  0.458  7.147  54.2  6.0622  3.0  222.0   \n",
       "..       ...   ...    ...   ...    ...    ...   ...     ...  ...    ...   \n",
       "501  0.06263   0.0  11.93   0.0  0.573  6.593  69.1  2.4786  1.0  273.0   \n",
       "502  0.04527   0.0  11.93   0.0  0.573  6.120  76.7  2.2875  1.0  273.0   \n",
       "503  0.06076   0.0  11.93   0.0  0.573  6.976  91.0  2.1675  1.0  273.0   \n",
       "504  0.10959   0.0  11.93   0.0  0.573  6.794  89.3  2.3889  1.0  273.0   \n",
       "505  0.04741   0.0  11.93   0.0  0.573  6.030  80.8  2.5050  1.0  273.0   \n",
       "\n",
       "     PTRATIO       B  LSTAT  MEDV  \n",
       "0       15.3  396.90   4.98  24.0  \n",
       "1       17.8  396.90   9.14  21.6  \n",
       "2       17.8  392.83   4.03  34.7  \n",
       "3       18.7  394.63   2.94  33.4  \n",
       "4       18.7  396.90   5.33  36.2  \n",
       "..       ...     ...    ...   ...  \n",
       "501     21.0  391.99   9.67  22.4  \n",
       "502     21.0  396.90   9.08  20.6  \n",
       "503     21.0  396.90   5.64  23.9  \n",
       "504     21.0  393.45   6.48  22.0  \n",
       "505     21.0  396.90   7.88  11.9  \n",
       "\n",
       "[506 rows x 14 columns]"
      ]
     },
     "execution_count": 34,
     "metadata": {},
     "output_type": "execute_result"
    }
   ],
   "source": [
    "from sklearn.datasets import load_boston\n",
    "import pandas as pd\n",
    "\n",
    "boston = load_boston()\n",
    "\n",
    "dfX = pd.DataFrame(boston.data, columns=boston.feature_names)\n",
    "dfy = pd.DataFrame(boston.target, columns=[\"MEDV\"])\n",
    "df = pd.concat([dfX, dfy], axis=1)\n",
    "df"
   ]
  },
  {
   "cell_type": "code",
   "execution_count": 35,
   "metadata": {},
   "outputs": [
    {
     "data": {
      "text/html": [
       "<table class=\"simpletable\">\n",
       "<caption>OLS Regression Results</caption>\n",
       "<tr>\n",
       "  <th>Dep. Variable:</th>          <td>MEDV</td>       <th>  R-squared (uncentered):</th>      <td>   0.959</td>\n",
       "</tr>\n",
       "<tr>\n",
       "  <th>Model:</th>                   <td>OLS</td>       <th>  Adj. R-squared (uncentered):</th> <td>   0.958</td>\n",
       "</tr>\n",
       "<tr>\n",
       "  <th>Method:</th>             <td>Least Squares</td>  <th>  F-statistic:       </th>          <td>   891.3</td>\n",
       "</tr>\n",
       "<tr>\n",
       "  <th>Date:</th>             <td>Mon, 06 Dec 2021</td> <th>  Prob (F-statistic):</th>           <td>  0.00</td> \n",
       "</tr>\n",
       "<tr>\n",
       "  <th>Time:</th>                 <td>12:09:35</td>     <th>  Log-Likelihood:    </th>          <td> -1523.8</td>\n",
       "</tr>\n",
       "<tr>\n",
       "  <th>No. Observations:</th>      <td>   506</td>      <th>  AIC:               </th>          <td>   3074.</td>\n",
       "</tr>\n",
       "<tr>\n",
       "  <th>Df Residuals:</th>          <td>   493</td>      <th>  BIC:               </th>          <td>   3128.</td>\n",
       "</tr>\n",
       "<tr>\n",
       "  <th>Df Model:</th>              <td>    13</td>      <th>                     </th>              <td> </td>   \n",
       "</tr>\n",
       "<tr>\n",
       "  <th>Covariance Type:</th>      <td>nonrobust</td>    <th>                     </th>              <td> </td>   \n",
       "</tr>\n",
       "</table>\n",
       "<table class=\"simpletable\">\n",
       "<tr>\n",
       "     <td></td>        <th>coef</th>     <th>std err</th>      <th>t</th>      <th>P>|t|</th>  <th>[0.025</th>    <th>0.975]</th>  \n",
       "</tr>\n",
       "<tr>\n",
       "  <th>CRIM</th>    <td>   -0.0929</td> <td>    0.034</td> <td>   -2.699</td> <td> 0.007</td> <td>   -0.161</td> <td>   -0.025</td>\n",
       "</tr>\n",
       "<tr>\n",
       "  <th>ZN</th>      <td>    0.0487</td> <td>    0.014</td> <td>    3.382</td> <td> 0.001</td> <td>    0.020</td> <td>    0.077</td>\n",
       "</tr>\n",
       "<tr>\n",
       "  <th>INDUS</th>   <td>   -0.0041</td> <td>    0.064</td> <td>   -0.063</td> <td> 0.950</td> <td>   -0.131</td> <td>    0.123</td>\n",
       "</tr>\n",
       "<tr>\n",
       "  <th>CHAS</th>    <td>    2.8540</td> <td>    0.904</td> <td>    3.157</td> <td> 0.002</td> <td>    1.078</td> <td>    4.630</td>\n",
       "</tr>\n",
       "<tr>\n",
       "  <th>NOX</th>     <td>   -2.8684</td> <td>    3.359</td> <td>   -0.854</td> <td> 0.394</td> <td>   -9.468</td> <td>    3.731</td>\n",
       "</tr>\n",
       "<tr>\n",
       "  <th>RM</th>      <td>    5.9281</td> <td>    0.309</td> <td>   19.178</td> <td> 0.000</td> <td>    5.321</td> <td>    6.535</td>\n",
       "</tr>\n",
       "<tr>\n",
       "  <th>AGE</th>     <td>   -0.0073</td> <td>    0.014</td> <td>   -0.526</td> <td> 0.599</td> <td>   -0.034</td> <td>    0.020</td>\n",
       "</tr>\n",
       "<tr>\n",
       "  <th>DIS</th>     <td>   -0.9685</td> <td>    0.196</td> <td>   -4.951</td> <td> 0.000</td> <td>   -1.353</td> <td>   -0.584</td>\n",
       "</tr>\n",
       "<tr>\n",
       "  <th>RAD</th>     <td>    0.1712</td> <td>    0.067</td> <td>    2.564</td> <td> 0.011</td> <td>    0.040</td> <td>    0.302</td>\n",
       "</tr>\n",
       "<tr>\n",
       "  <th>TAX</th>     <td>   -0.0094</td> <td>    0.004</td> <td>   -2.395</td> <td> 0.017</td> <td>   -0.017</td> <td>   -0.002</td>\n",
       "</tr>\n",
       "<tr>\n",
       "  <th>PTRATIO</th> <td>   -0.3922</td> <td>    0.110</td> <td>   -3.570</td> <td> 0.000</td> <td>   -0.608</td> <td>   -0.176</td>\n",
       "</tr>\n",
       "<tr>\n",
       "  <th>B</th>       <td>    0.0149</td> <td>    0.003</td> <td>    5.528</td> <td> 0.000</td> <td>    0.010</td> <td>    0.020</td>\n",
       "</tr>\n",
       "<tr>\n",
       "  <th>LSTAT</th>   <td>   -0.4163</td> <td>    0.051</td> <td>   -8.197</td> <td> 0.000</td> <td>   -0.516</td> <td>   -0.317</td>\n",
       "</tr>\n",
       "</table>\n",
       "<table class=\"simpletable\">\n",
       "<tr>\n",
       "  <th>Omnibus:</th>       <td>204.082</td> <th>  Durbin-Watson:     </th> <td>   0.999</td> \n",
       "</tr>\n",
       "<tr>\n",
       "  <th>Prob(Omnibus):</th> <td> 0.000</td>  <th>  Jarque-Bera (JB):  </th> <td>1374.225</td> \n",
       "</tr>\n",
       "<tr>\n",
       "  <th>Skew:</th>          <td> 1.609</td>  <th>  Prob(JB):          </th> <td>3.90e-299</td>\n",
       "</tr>\n",
       "<tr>\n",
       "  <th>Kurtosis:</th>      <td>10.404</td>  <th>  Cond. No.          </th> <td>8.50e+03</td> \n",
       "</tr>\n",
       "</table><br/><br/>Notes:<br/>[1] R² is computed without centering (uncentered) since the model does not contain a constant.<br/>[2] Standard Errors assume that the covariance matrix of the errors is correctly specified.<br/>[3] The condition number is large, 8.5e+03. This might indicate that there are<br/>strong multicollinearity or other numerical problems."
      ],
      "text/plain": [
       "<class 'statsmodels.iolib.summary.Summary'>\n",
       "\"\"\"\n",
       "                                 OLS Regression Results                                \n",
       "=======================================================================================\n",
       "Dep. Variable:                   MEDV   R-squared (uncentered):                   0.959\n",
       "Model:                            OLS   Adj. R-squared (uncentered):              0.958\n",
       "Method:                 Least Squares   F-statistic:                              891.3\n",
       "Date:                Mon, 06 Dec 2021   Prob (F-statistic):                        0.00\n",
       "Time:                        12:09:35   Log-Likelihood:                         -1523.8\n",
       "No. Observations:                 506   AIC:                                      3074.\n",
       "Df Residuals:                     493   BIC:                                      3128.\n",
       "Df Model:                          13                                                  \n",
       "Covariance Type:            nonrobust                                                  \n",
       "==============================================================================\n",
       "                 coef    std err          t      P>|t|      [0.025      0.975]\n",
       "------------------------------------------------------------------------------\n",
       "CRIM          -0.0929      0.034     -2.699      0.007      -0.161      -0.025\n",
       "ZN             0.0487      0.014      3.382      0.001       0.020       0.077\n",
       "INDUS         -0.0041      0.064     -0.063      0.950      -0.131       0.123\n",
       "CHAS           2.8540      0.904      3.157      0.002       1.078       4.630\n",
       "NOX           -2.8684      3.359     -0.854      0.394      -9.468       3.731\n",
       "RM             5.9281      0.309     19.178      0.000       5.321       6.535\n",
       "AGE           -0.0073      0.014     -0.526      0.599      -0.034       0.020\n",
       "DIS           -0.9685      0.196     -4.951      0.000      -1.353      -0.584\n",
       "RAD            0.1712      0.067      2.564      0.011       0.040       0.302\n",
       "TAX           -0.0094      0.004     -2.395      0.017      -0.017      -0.002\n",
       "PTRATIO       -0.3922      0.110     -3.570      0.000      -0.608      -0.176\n",
       "B              0.0149      0.003      5.528      0.000       0.010       0.020\n",
       "LSTAT         -0.4163      0.051     -8.197      0.000      -0.516      -0.317\n",
       "==============================================================================\n",
       "Omnibus:                      204.082   Durbin-Watson:                   0.999\n",
       "Prob(Omnibus):                  0.000   Jarque-Bera (JB):             1374.225\n",
       "Skew:                           1.609   Prob(JB):                    3.90e-299\n",
       "Kurtosis:                      10.404   Cond. No.                     8.50e+03\n",
       "==============================================================================\n",
       "\n",
       "Notes:\n",
       "[1] R² is computed without centering (uncentered) since the model does not contain a constant.\n",
       "[2] Standard Errors assume that the covariance matrix of the errors is correctly specified.\n",
       "[3] The condition number is large, 8.5e+03. This might indicate that there are\n",
       "strong multicollinearity or other numerical problems.\n",
       "\"\"\""
      ]
     },
     "execution_count": 35,
     "metadata": {},
     "output_type": "execute_result"
    }
   ],
   "source": [
    "import statsmodels.api as sm\n",
    "\n",
    "model = sm.OLS(dfy, dfX)\n",
    "result = model.fit()\n",
    "result.summary()"
   ]
  },
  {
   "cell_type": "code",
   "execution_count": 36,
   "metadata": {},
   "outputs": [
    {
     "data": {
      "text/plain": [
       "<AxesSubplot:xlabel='AGE', ylabel='MEDV'>"
      ]
     },
     "execution_count": 36,
     "metadata": {},
     "output_type": "execute_result"
    },
    {
     "data": {
      "image/png": "[encoded data removed]",
      "text/plain": [
       "<Figure size 432x288 with 1 Axes>"
      ]
     },
     "metadata": {
      "needs_background": "light"
     },
     "output_type": "display_data"
    }
   ],
   "source": [
    "%matplotlib inline\n",
    "import seaborn as sns\n",
    "\n",
    "sns.regplot(x=\"AGE\", y=\"MEDV\", data=df)\n",
    "\n",
    "# 음의 상관관계인 것 처럼 보이지만 사실 다른 요소들도 포함되어 있는 것이기 때문에 사실이 아님"
   ]
  },
  {
   "cell_type": "code",
   "execution_count": 37,
   "metadata": {},
   "outputs": [
    {
     "data": {
      "text/plain": [
       "['NOX',\n",
       " 'RM',\n",
       " 'ZN',\n",
       " 'CRIM',\n",
       " 'DIS',\n",
       " 'B',\n",
       " 'INDUS',\n",
       " 'CHAS',\n",
       " 'RAD',\n",
       " 'LSTAT',\n",
       " 'TAX',\n",
       " 'PTRATIO']"
      ]
     },
     "execution_count": 37,
     "metadata": {},
     "output_type": "execute_result"
    }
   ],
   "source": [
    "others = list(set(df.columns).difference(set([\"MEDV\", \"AGE\"])))\n",
    "others"
   ]
  },
  {
   "cell_type": "code",
   "execution_count": 38,
   "metadata": {},
   "outputs": [
    {
     "data": {
      "image/png": "[encoded data removed]",
      "text/plain": [
       "<Figure size 432x288 with 1 Axes>"
      ]
     },
     "metadata": {
      "needs_background": "light"
     },
     "output_type": "display_data"
    }
   ],
   "source": [
    "from statsmodels.graphics.regressionplots import plot_partregress\n",
    "import matplotlib.pyplot as plt\n",
    "\n",
    "# 다른 요소들 제외하고 age와 medv의 상관관계를 보면 아무 관계도 없음을 알 수 있다\n",
    "plot_partregress(\"MEDV\", \"AGE\", others, data=df, obs_labels=False)\n",
    "plt.show()"
   ]
  },
  {
   "cell_type": "code",
   "execution_count": 39,
   "metadata": {},
   "outputs": [
    {
     "data": {
      "text/plain": [
       "[]"
      ]
     },
     "execution_count": 39,
     "metadata": {},
     "output_type": "execute_result"
    },
    {
     "data": {
      "image/png": "[encoded data removed]",
      "text/plain": [
       "<Figure size 576x1440 with 13 Axes>"
      ]
     },
     "metadata": {
      "needs_background": "light"
     },
     "output_type": "display_data"
    }
   ],
   "source": [
    "from statsmodels.graphics.regressionplots import plot_partregress_grid\n",
    "\n",
    "# 전체 데이터에 대해 한번에 부분회귀 플롯을 그리는 함수 plot_partregress_grid()\n",
    "fig = plt.figure(figsize=(8, 20))\n",
    "plot_partregress_grid(result, fig=fig)\n",
    "plt.plot()"
   ]
  },
  {
   "cell_type": "code",
   "execution_count": 40,
   "metadata": {},
   "outputs": [],
   "source": [
    "import numpy as np\n",
    "import pandas as pd\n",
    "import os\n",
    "import matplotlib.pyplot as plt\n",
    "import seaborn as sns"
   ]
  },
  {
   "cell_type": "code",
   "execution_count": 41,
   "metadata": {},
   "outputs": [
    {
     "data": {
      "text/plain": [
       "southwest   -0.043210\n",
       "northwest   -0.039905\n",
       "northeast    0.006349\n",
       "sex          0.057292\n",
       "children     0.067998\n",
       "southeast    0.073982\n",
       "bmi          0.198341\n",
       "age          0.299008\n",
       "smoker       0.787251\n",
       "charges      1.000000\n",
       "Name: charges, dtype: float64"
      ]
     },
     "execution_count": 41,
     "metadata": {},
     "output_type": "execute_result"
    }
   ],
   "source": [
    "data = pd.read_csv(\"c:/data/insurance/insurance2.csv\")\n",
    "data.corr()['charges'].sort_values()"
   ]
  },
  {
   "cell_type": "code",
   "execution_count": 42,
   "metadata": {},
   "outputs": [
    {
     "data": {
      "text/html": [
       "<div>\n",
       "<style scoped>\n",
       "    .dataframe tbody tr th:only-of-type {\n",
       "        vertical-align: middle;\n",
       "    }\n",
       "\n",
       "    .dataframe tbody tr th {\n",
       "        vertical-align: top;\n",
       "    }\n",
       "\n",
       "    .dataframe thead th {\n",
       "        text-align: right;\n",
       "    }\n",
       "</style>\n",
       "<table border=\"1\" class=\"dataframe\">\n",
       "  <thead>\n",
       "    <tr style=\"text-align: right;\">\n",
       "      <th></th>\n",
       "      <th>age</th>\n",
       "      <th>bmi</th>\n",
       "      <th>children</th>\n",
       "    </tr>\n",
       "  </thead>\n",
       "  <tbody>\n",
       "    <tr>\n",
       "      <th>0</th>\n",
       "      <td>19</td>\n",
       "      <td>27.900</td>\n",
       "      <td>0</td>\n",
       "    </tr>\n",
       "    <tr>\n",
       "      <th>1</th>\n",
       "      <td>18</td>\n",
       "      <td>33.770</td>\n",
       "      <td>1</td>\n",
       "    </tr>\n",
       "    <tr>\n",
       "      <th>2</th>\n",
       "      <td>28</td>\n",
       "      <td>33.000</td>\n",
       "      <td>3</td>\n",
       "    </tr>\n",
       "    <tr>\n",
       "      <th>3</th>\n",
       "      <td>33</td>\n",
       "      <td>22.705</td>\n",
       "      <td>0</td>\n",
       "    </tr>\n",
       "    <tr>\n",
       "      <th>4</th>\n",
       "      <td>32</td>\n",
       "      <td>28.880</td>\n",
       "      <td>0</td>\n",
       "    </tr>\n",
       "  </tbody>\n",
       "</table>\n",
       "</div>"
      ],
      "text/plain": [
       "   age     bmi  children\n",
       "0   19  27.900         0\n",
       "1   18  33.770         1\n",
       "2   28  33.000         3\n",
       "3   33  22.705         0\n",
       "4   32  28.880         0"
      ]
     },
     "execution_count": 42,
     "metadata": {},
     "output_type": "execute_result"
    }
   ],
   "source": [
    "# 다중 회귀분석\n",
    "\n",
    "df = data.iloc[:, [0,2,3]]\n",
    "df.head()"
   ]
  },
  {
   "cell_type": "code",
   "execution_count": 43,
   "metadata": {},
   "outputs": [
    {
     "data": {
      "text/html": [
       "<div>\n",
       "<style scoped>\n",
       "    .dataframe tbody tr th:only-of-type {\n",
       "        vertical-align: middle;\n",
       "    }\n",
       "\n",
       "    .dataframe tbody tr th {\n",
       "        vertical-align: top;\n",
       "    }\n",
       "\n",
       "    .dataframe thead th {\n",
       "        text-align: right;\n",
       "    }\n",
       "</style>\n",
       "<table border=\"1\" class=\"dataframe\">\n",
       "  <thead>\n",
       "    <tr style=\"text-align: right;\">\n",
       "      <th></th>\n",
       "      <th>charges</th>\n",
       "    </tr>\n",
       "  </thead>\n",
       "  <tbody>\n",
       "    <tr>\n",
       "      <th>0</th>\n",
       "      <td>16884.92400</td>\n",
       "    </tr>\n",
       "    <tr>\n",
       "      <th>1</th>\n",
       "      <td>1725.55230</td>\n",
       "    </tr>\n",
       "    <tr>\n",
       "      <th>2</th>\n",
       "      <td>4449.46200</td>\n",
       "    </tr>\n",
       "    <tr>\n",
       "      <th>3</th>\n",
       "      <td>21984.47061</td>\n",
       "    </tr>\n",
       "    <tr>\n",
       "      <th>4</th>\n",
       "      <td>3866.85520</td>\n",
       "    </tr>\n",
       "  </tbody>\n",
       "</table>\n",
       "</div>"
      ],
      "text/plain": [
       "       charges\n",
       "0  16884.92400\n",
       "1   1725.55230\n",
       "2   4449.46200\n",
       "3  21984.47061\n",
       "4   3866.85520"
      ]
     },
     "execution_count": 43,
     "metadata": {},
     "output_type": "execute_result"
    }
   ],
   "source": [
    "y = data.iloc[:, [9]]\n",
    "y.head()"
   ]
  },
  {
   "cell_type": "code",
   "execution_count": 52,
   "metadata": {},
   "outputs": [
    {
     "name": "stdout",
     "output_type": "stream",
     "text": [
      "회귀계수: \n",
      " age         205.509604\n",
      "bmi         162.508428\n",
      "children    407.682683\n",
      "dtype: float64\n",
      "R-squared: \n",
      " 0.5957184482734048\n",
      "P values: \n",
      " age         1.202690e-22\n",
      "bmi         8.153462e-09\n",
      "children    1.133688e-01\n",
      "dtype: float64\n"
     ]
    }
   ],
   "source": [
    "model = sm.OLS(y, df)\n",
    "result = model.fit()\n",
    "\n",
    "print(\"회귀계수: \\n\", result.params)\n",
    "print(\"R-squared: \\n\", result.rsquared)\n",
    "print(\"P values: \\n\", result.pvalues)"
   ]
  },
  {
   "cell_type": "code",
   "execution_count": 53,
   "metadata": {},
   "outputs": [
    {
     "name": "stdout",
     "output_type": "stream",
     "text": [
      "                                 OLS Regression Results                                \n",
      "=======================================================================================\n",
      "Dep. Variable:                charges   R-squared (uncentered):                   0.596\n",
      "Model:                            OLS   Adj. R-squared (uncentered):              0.595\n",
      "Method:                 Least Squares   F-statistic:                              655.7\n",
      "Date:                Mon, 06 Dec 2021   Prob (F-statistic):                   6.52e-262\n",
      "Time:                        12:42:15   Log-Likelihood:                         -14400.\n",
      "No. Observations:                1338   AIC:                                  2.881e+04\n",
      "Df Residuals:                    1335   BIC:                                  2.882e+04\n",
      "Df Model:                           3                                                  \n",
      "Covariance Type:            nonrobust                                                  \n",
      "==============================================================================\n",
      "                 coef    std err          t      P>|t|      [0.025      0.975]\n",
      "------------------------------------------------------------------------------\n",
      "age          205.5096     20.605      9.974      0.000     165.088     245.931\n",
      "bmi          162.5084     28.007      5.802      0.000     107.566     217.451\n",
      "children     407.6827    257.331      1.584      0.113     -97.135     912.501\n",
      "==============================================================================\n",
      "Omnibus:                      369.789   Durbin-Watson:                   2.018\n",
      "Prob(Omnibus):                  0.000   Jarque-Bera (JB):              750.403\n",
      "Skew:                           1.648   Prob(JB):                    1.13e-163\n",
      "Kurtosis:                       4.610   Cond. No.                         42.2\n",
      "==============================================================================\n",
      "\n",
      "Notes:\n",
      "[1] R² is computed without centering (uncentered) since the model does not contain a constant.\n",
      "[2] Standard Errors assume that the covariance matrix of the errors is correctly specified.\n"
     ]
    }
   ],
   "source": [
    "print(result.summary())"
   ]
  },
  {
   "cell_type": "code",
   "execution_count": 54,
   "metadata": {},
   "outputs": [
    {
     "name": "stdout",
     "output_type": "stream",
     "text": [
      "회귀계수: \n",
      " age    208.863249\n",
      "bmi    172.394322\n",
      "dtype: float64\n",
      "R-squared: \n",
      " 0.5949583640125078\n",
      "P values: \n",
      " age    1.634082e-23\n",
      "bmi    3.773924e-10\n",
      "dtype: float64\n"
     ]
    }
   ],
   "source": [
    "df2 = data.iloc[:, [0,2]]\n",
    "y2 = data.iloc[:, [9]]\n",
    "\n",
    "model2 = sm.OLS(y2, df2)\n",
    "result2 = model2.fit()\n",
    "\n",
    "print(\"회귀계수: \\n\", result2.params)\n",
    "print(\"R-squared: \\n\", result2.rsquared)\n",
    "print(\"P values: \\n\", result2.pvalues)"
   ]
  },
  {
   "cell_type": "code",
   "execution_count": 55,
   "metadata": {},
   "outputs": [
    {
     "name": "stdout",
     "output_type": "stream",
     "text": [
      "                                 OLS Regression Results                                \n",
      "=======================================================================================\n",
      "Dep. Variable:                charges   R-squared (uncentered):                   0.595\n",
      "Model:                            OLS   Adj. R-squared (uncentered):              0.594\n",
      "Method:                 Least Squares   F-statistic:                              981.2\n",
      "Date:                Mon, 06 Dec 2021   Prob (F-statistic):                   6.45e-263\n",
      "Time:                        12:42:31   Log-Likelihood:                         -14401.\n",
      "No. Observations:                1338   AIC:                                  2.881e+04\n",
      "Df Residuals:                    1336   BIC:                                  2.882e+04\n",
      "Df Model:                           2                                                  \n",
      "Covariance Type:            nonrobust                                                  \n",
      "==============================================================================\n",
      "                 coef    std err          t      P>|t|      [0.025      0.975]\n",
      "------------------------------------------------------------------------------\n",
      "age          208.8632     20.507     10.185      0.000     168.633     249.094\n",
      "bmi          172.3943     27.318      6.311      0.000     118.803     225.986\n",
      "==============================================================================\n",
      "Omnibus:                      364.702   Durbin-Watson:                   2.016\n",
      "Prob(Omnibus):                  0.000   Jarque-Bera (JB):              732.185\n",
      "Skew:                           1.634   Prob(JB):                    1.02e-159\n",
      "Kurtosis:                       4.567   Cond. No.                         5.51\n",
      "==============================================================================\n",
      "\n",
      "Notes:\n",
      "[1] R² is computed without centering (uncentered) since the model does not contain a constant.\n",
      "[2] Standard Errors assume that the covariance matrix of the errors is correctly specified.\n"
     ]
    }
   ],
   "source": [
    "print(result2.summary())"
   ]
  },
  {
   "cell_type": "code",
   "execution_count": null,
   "metadata": {},
   "outputs": [],
   "source": [
    "# 레버리지와 이상치"
   ]
  },
  {
   "cell_type": "code",
   "execution_count": 1,
   "metadata": {},
   "outputs": [],
   "source": [
    "from sklearn.datasets import make_regression\n",
    "import numpy as np\n",
    "import statsmodels.api as sm\n",
    "\n",
    "X0, y, coef = make_regression(n_samples=100, n_features=1, noise=20, coef=True, random_state=1)"
   ]
  },
  {
   "cell_type": "code",
   "execution_count": 2,
   "metadata": {},
   "outputs": [],
   "source": [
    "data_100 = (4, 300)\n",
    "data_101 = (3, 150)\n",
    "\n",
    "X0 = np.vstack([X0, np.array([data_100[:1], data_101[:1]])])\n",
    "\n",
    "X = sm.add_constant(X0)\n",
    "y = np.hstack([y, [data_100[1], data_101[1]]])"
   ]
  },
  {
   "cell_type": "code",
   "execution_count": 3,
   "metadata": {},
   "outputs": [
    {
     "data": {
      "text/plain": [
       "array([[ 1.        , -0.61175641],\n",
       "       [ 1.        , -0.24937038],\n",
       "       [ 1.        ,  0.48851815],\n",
       "       [ 1.        ,  0.76201118],\n",
       "       [ 1.        ,  1.51981682]])"
      ]
     },
     "execution_count": 3,
     "metadata": {},
     "output_type": "execute_result"
    }
   ],
   "source": [
    "X[:5]"
   ]
  },
  {
   "cell_type": "code",
   "execution_count": 4,
   "metadata": {},
   "outputs": [
    {
     "data": {
      "image/png": "[encoded data removed]",
      "text/plain": [
       "<Figure size 432x288 with 1 Axes>"
      ]
     },
     "metadata": {
      "needs_background": "light"
     },
     "output_type": "display_data"
    }
   ],
   "source": [
    "%matplotlib inline\n",
    "import matplotlib.pyplot as plt\n",
    "\n",
    "plt.scatter(X0, y)\n",
    "plt.xlabel(\"x\")\n",
    "plt.ylabel(\"y\")\n",
    "plt.show()"
   ]
  },
  {
   "cell_type": "code",
   "execution_count": 5,
   "metadata": {},
   "outputs": [
    {
     "data": {
      "text/html": [
       "<table class=\"simpletable\">\n",
       "<caption>OLS Regression Results</caption>\n",
       "<tr>\n",
       "  <th>Dep. Variable:</th>            <td>0</td>        <th>  R-squared:         </th> <td>   0.936</td>\n",
       "</tr>\n",
       "<tr>\n",
       "  <th>Model:</th>                   <td>OLS</td>       <th>  Adj. R-squared:    </th> <td>   0.935</td>\n",
       "</tr>\n",
       "<tr>\n",
       "  <th>Method:</th>             <td>Least Squares</td>  <th>  F-statistic:       </th> <td>   1464.</td>\n",
       "</tr>\n",
       "<tr>\n",
       "  <th>Date:</th>             <td>Mon, 06 Dec 2021</td> <th>  Prob (F-statistic):</th> <td>1.61e-61</td>\n",
       "</tr>\n",
       "<tr>\n",
       "  <th>Time:</th>                 <td>13:04:19</td>     <th>  Log-Likelihood:    </th> <td> -452.71</td>\n",
       "</tr>\n",
       "<tr>\n",
       "  <th>No. Observations:</th>      <td>   102</td>      <th>  AIC:               </th> <td>   909.4</td>\n",
       "</tr>\n",
       "<tr>\n",
       "  <th>Df Residuals:</th>          <td>   100</td>      <th>  BIC:               </th> <td>   914.7</td>\n",
       "</tr>\n",
       "<tr>\n",
       "  <th>Df Model:</th>              <td>     1</td>      <th>                     </th>     <td> </td>   \n",
       "</tr>\n",
       "<tr>\n",
       "  <th>Covariance Type:</th>      <td>nonrobust</td>    <th>                     </th>     <td> </td>   \n",
       "</tr>\n",
       "</table>\n",
       "<table class=\"simpletable\">\n",
       "<tr>\n",
       "  <td></td>     <th>coef</th>     <th>std err</th>      <th>t</th>      <th>P>|t|</th>  <th>[0.025</th>    <th>0.975]</th>  \n",
       "</tr>\n",
       "<tr>\n",
       "  <th>0</th> <td>    3.2565</td> <td>    2.065</td> <td>    1.577</td> <td> 0.118</td> <td>   -0.840</td> <td>    7.353</td>\n",
       "</tr>\n",
       "<tr>\n",
       "  <th>1</th> <td>   78.3379</td> <td>    2.048</td> <td>   38.260</td> <td> 0.000</td> <td>   74.276</td> <td>   82.400</td>\n",
       "</tr>\n",
       "</table>\n",
       "<table class=\"simpletable\">\n",
       "<tr>\n",
       "  <th>Omnibus:</th>       <td>16.191</td> <th>  Durbin-Watson:     </th> <td>   1.885</td>\n",
       "</tr>\n",
       "<tr>\n",
       "  <th>Prob(Omnibus):</th> <td> 0.000</td> <th>  Jarque-Bera (JB):  </th> <td>  36.807</td>\n",
       "</tr>\n",
       "<tr>\n",
       "  <th>Skew:</th>          <td>-0.534</td> <th>  Prob(JB):          </th> <td>1.02e-08</td>\n",
       "</tr>\n",
       "<tr>\n",
       "  <th>Kurtosis:</th>      <td> 5.742</td> <th>  Cond. No.          </th> <td>    1.14</td>\n",
       "</tr>\n",
       "</table><br/><br/>Notes:<br/>[1] Standard Errors assume that the covariance matrix of the errors is correctly specified."
      ],
      "text/plain": [
       "<class 'statsmodels.iolib.summary.Summary'>\n",
       "\"\"\"\n",
       "                            OLS Regression Results                            \n",
       "==============================================================================\n",
       "Dep. Variable:                      0   R-squared:                       0.936\n",
       "Model:                            OLS   Adj. R-squared:                  0.935\n",
       "Method:                 Least Squares   F-statistic:                     1464.\n",
       "Date:                Mon, 06 Dec 2021   Prob (F-statistic):           1.61e-61\n",
       "Time:                        13:04:19   Log-Likelihood:                -452.71\n",
       "No. Observations:                 102   AIC:                             909.4\n",
       "Df Residuals:                     100   BIC:                             914.7\n",
       "Df Model:                           1                                         \n",
       "Covariance Type:            nonrobust                                         \n",
       "==============================================================================\n",
       "                 coef    std err          t      P>|t|      [0.025      0.975]\n",
       "------------------------------------------------------------------------------\n",
       "0              3.2565      2.065      1.577      0.118      -0.840       7.353\n",
       "1             78.3379      2.048     38.260      0.000      74.276      82.400\n",
       "==============================================================================\n",
       "Omnibus:                       16.191   Durbin-Watson:                   1.885\n",
       "Prob(Omnibus):                  0.000   Jarque-Bera (JB):               36.807\n",
       "Skew:                          -0.534   Prob(JB):                     1.02e-08\n",
       "Kurtosis:                       5.742   Cond. No.                         1.14\n",
       "==============================================================================\n",
       "\n",
       "Notes:\n",
       "[1] Standard Errors assume that the covariance matrix of the errors is correctly specified.\n",
       "\"\"\""
      ]
     },
     "execution_count": 5,
     "metadata": {},
     "output_type": "execute_result"
    }
   ],
   "source": [
    "import pandas as pd\n",
    "\n",
    "model = sm.OLS(pd.DataFrame(y), pd.DataFrame(X))\n",
    "result = model.fit()\n",
    "result.summary()"
   ]
  },
  {
   "cell_type": "code",
   "execution_count": 6,
   "metadata": {},
   "outputs": [
    {
     "data": {
      "image/png": "[encoded data removed]",
      "text/plain": [
       "<Figure size 720x360 with 1 Axes>"
      ]
     },
     "metadata": {
      "needs_background": "light"
     },
     "output_type": "display_data"
    }
   ],
   "source": [
    "influence = result.get_influence()\n",
    "hat = influence.hat_matrix_diag\n",
    "\n",
    "plt.figure(figsize=(10,5))\n",
    "plt.stem(hat)\n",
    "plt.axhline(0.02, c=\"g\", ls=\"--\")\n",
    "plt.show()"
   ]
  },
  {
   "cell_type": "code",
   "execution_count": 7,
   "metadata": {},
   "outputs": [
    {
     "data": {
      "text/plain": [
       "2.0000000000000004"
      ]
     },
     "execution_count": 7,
     "metadata": {},
     "output_type": "execute_result"
    }
   ],
   "source": [
    "hat.sum()"
   ]
  },
  {
   "cell_type": "code",
   "execution_count": 8,
   "metadata": {},
   "outputs": [
    {
     "data": {
      "image/png": "[encoded data removed]",
      "text/plain": [
       "<Figure size 432x288 with 1 Axes>"
      ]
     },
     "metadata": {
      "needs_background": "light"
     },
     "output_type": "display_data"
    }
   ],
   "source": [
    "ax = plt.subplot()\n",
    "plt.scatter(X0, y)\n",
    "sm.graphics.abline_plot(model_results=result, ax=ax)\n",
    "\n",
    "idx = hat > 0.05\n",
    "plt.scatter(X0[idx], y[idx], s=300, c=\"r\", alpha=0.5)\n",
    "plt.show()"
   ]
  },
  {
   "cell_type": "code",
   "execution_count": 9,
   "metadata": {},
   "outputs": [
    {
     "data": {
      "image/png": "[encoded data removed]",
      "text/plain": [
       "<Figure size 432x288 with 1 Axes>"
      ]
     },
     "metadata": {
      "needs_background": "light"
     },
     "output_type": "display_data"
    }
   ],
   "source": [
    "model2 = sm.OLS(y[:-1], X[:-1]) # 마지막 샘플 제외\n",
    "result2 = model2.fit()\n",
    "\n",
    "ax = plt.subplot()\n",
    "plt.scatter(X0, y)\n",
    "sm.graphics.abline_plot(model_results=result, c=\"r\", linestyle=\"--\", ax=ax, label='A') # 마지막 샘플 포함\n",
    "sm.graphics.abline_plot(model_results=result2, c=\"g\", alpha=0.7, ax=ax, label='B') # 마지막 샘플 제외\n",
    "\n",
    "plt.plot(X0[-1], y[-1], marker='x', c='m', ms=20, mew=5)\n",
    "plt.legend()\n",
    "plt.show()"
   ]
  },
  {
   "cell_type": "code",
   "execution_count": 10,
   "metadata": {},
   "outputs": [
    {
     "data": {
      "image/png": "[encoded data removed]",
      "text/plain": [
       "<Figure size 720x360 with 1 Axes>"
      ]
     },
     "metadata": {
      "needs_background": "light"
     },
     "output_type": "display_data"
    }
   ],
   "source": [
    "plt.figure(figsize=(10, 5))\n",
    "plt.stem(result.resid)\n",
    "plt.show()"
   ]
  },
  {
   "cell_type": "code",
   "execution_count": 11,
   "metadata": {},
   "outputs": [
    {
     "data": {
      "image/png": "[encoded data removed]",
      "text/plain": [
       "<Figure size 720x360 with 1 Axes>"
      ]
     },
     "metadata": {
      "needs_background": "light"
     },
     "output_type": "display_data"
    }
   ],
   "source": [
    "plt.figure(figsize=(10, 5))\n",
    "plt.stem(result.resid_pearson)\n",
    "plt.axhline(3, c='g', ls='--')\n",
    "plt.axhline(-3, c='g', ls='--')\n",
    "plt.show()"
   ]
  },
  {
   "cell_type": "code",
   "execution_count": 13,
   "metadata": {},
   "outputs": [
    {
     "data": {
      "image/png": "[encoded data removed]",
      "text/plain": [
       "<Figure size 432x288 with 1 Axes>"
      ]
     },
     "metadata": {
      "needs_background": "light"
     },
     "output_type": "display_data"
    }
   ],
   "source": [
    "sm.graphics.plot_leverage_resid2(result)\n",
    "plt.show()"
   ]
  },
  {
   "cell_type": "code",
   "execution_count": 14,
   "metadata": {},
   "outputs": [
    {
     "data": {
      "image/png": "[encoded data removed]",
      "text/plain": [
       "<Figure size 432x288 with 1 Axes>"
      ]
     },
     "metadata": {
      "needs_background": "light"
     },
     "output_type": "display_data"
    }
   ],
   "source": [
    "sm.graphics.influence_plot(result, plot_alpha=0.3)\n",
    "plt.show()"
   ]
  },
  {
   "cell_type": "code",
   "execution_count": 17,
   "metadata": {},
   "outputs": [],
   "source": [
    "from sklearn.datasets import load_boston\n",
    "boston = load_boston()\n",
    "\n",
    "dfX0 = pd.DataFrame(boston.data, columns=boston.feature_names)\n",
    "dfX = sm.add_constant(dfX0)\n",
    "dfy = pd.DataFrame(boston.target, columns=[\"MEDV\"])"
   ]
  },
  {
   "cell_type": "code",
   "execution_count": 18,
   "metadata": {},
   "outputs": [
    {
     "name": "stdout",
     "output_type": "stream",
     "text": [
      "                            OLS Regression Results                            \n",
      "==============================================================================\n",
      "Dep. Variable:                   MEDV   R-squared:                       0.741\n",
      "Model:                            OLS   Adj. R-squared:                  0.734\n",
      "Method:                 Least Squares   F-statistic:                     108.1\n",
      "Date:                Mon, 06 Dec 2021   Prob (F-statistic):          6.72e-135\n",
      "Time:                        13:11:54   Log-Likelihood:                -1498.8\n",
      "No. Observations:                 506   AIC:                             3026.\n",
      "Df Residuals:                     492   BIC:                             3085.\n",
      "Df Model:                          13                                         \n",
      "Covariance Type:            nonrobust                                         \n",
      "==============================================================================\n",
      "                 coef    std err          t      P>|t|      [0.025      0.975]\n",
      "------------------------------------------------------------------------------\n",
      "const         36.4595      5.103      7.144      0.000      26.432      46.487\n",
      "CRIM          -0.1080      0.033     -3.287      0.001      -0.173      -0.043\n",
      "ZN             0.0464      0.014      3.382      0.001       0.019       0.073\n",
      "INDUS          0.0206      0.061      0.334      0.738      -0.100       0.141\n",
      "CHAS           2.6867      0.862      3.118      0.002       0.994       4.380\n",
      "NOX          -17.7666      3.820     -4.651      0.000     -25.272     -10.262\n",
      "RM             3.8099      0.418      9.116      0.000       2.989       4.631\n",
      "AGE            0.0007      0.013      0.052      0.958      -0.025       0.027\n",
      "DIS           -1.4756      0.199     -7.398      0.000      -1.867      -1.084\n",
      "RAD            0.3060      0.066      4.613      0.000       0.176       0.436\n",
      "TAX           -0.0123      0.004     -3.280      0.001      -0.020      -0.005\n",
      "PTRATIO       -0.9527      0.131     -7.283      0.000      -1.210      -0.696\n",
      "B              0.0093      0.003      3.467      0.001       0.004       0.015\n",
      "LSTAT         -0.5248      0.051    -10.347      0.000      -0.624      -0.425\n",
      "==============================================================================\n",
      "Omnibus:                      178.041   Durbin-Watson:                   1.078\n",
      "Prob(Omnibus):                  0.000   Jarque-Bera (JB):              783.126\n",
      "Skew:                           1.521   Prob(JB):                    8.84e-171\n",
      "Kurtosis:                       8.281   Cond. No.                     1.51e+04\n",
      "==============================================================================\n",
      "\n",
      "Notes:\n",
      "[1] Standard Errors assume that the covariance matrix of the errors is correctly specified.\n",
      "[2] The condition number is large, 1.51e+04. This might indicate that there are\n",
      "strong multicollinearity or other numerical problems.\n"
     ]
    }
   ],
   "source": [
    "model_boston = sm.OLS(dfy, dfX)\n",
    "result_boston = model_boston.fit()\n",
    "print(result_boston.summary())"
   ]
  },
  {
   "cell_type": "code",
   "execution_count": 19,
   "metadata": {},
   "outputs": [
    {
     "data": {
      "text/plain": [
       "<AxesSubplot:>"
      ]
     },
     "execution_count": 19,
     "metadata": {},
     "output_type": "execute_result"
    },
    {
     "data": {
      "image/png": "[encoded data removed]",
      "text/plain": [
       "<Figure size 432x288 with 1 Axes>"
      ]
     },
     "metadata": {
      "needs_background": "light"
     },
     "output_type": "display_data"
    }
   ],
   "source": [
    "dfy.boxplot()"
   ]
  },
  {
   "cell_type": "code",
   "execution_count": 20,
   "metadata": {},
   "outputs": [
    {
     "data": {
      "text/html": [
       "<table class=\"simpletable\">\n",
       "<caption>OLS Regression Results</caption>\n",
       "<tr>\n",
       "  <th>Dep. Variable:</th>          <td>MEDV</td>       <th>  R-squared:         </th> <td>   0.782</td> \n",
       "</tr>\n",
       "<tr>\n",
       "  <th>Model:</th>                   <td>OLS</td>       <th>  Adj. R-squared:    </th> <td>   0.776</td> \n",
       "</tr>\n",
       "<tr>\n",
       "  <th>Method:</th>             <td>Least Squares</td>  <th>  F-statistic:       </th> <td>   135.8</td> \n",
       "</tr>\n",
       "<tr>\n",
       "  <th>Date:</th>             <td>Mon, 06 Dec 2021</td> <th>  Prob (F-statistic):</th> <td>2.23e-153</td>\n",
       "</tr>\n",
       "<tr>\n",
       "  <th>Time:</th>                 <td>13:12:53</td>     <th>  Log-Likelihood:    </th> <td> -1385.7</td> \n",
       "</tr>\n",
       "<tr>\n",
       "  <th>No. Observations:</th>      <td>   506</td>      <th>  AIC:               </th> <td>   2799.</td> \n",
       "</tr>\n",
       "<tr>\n",
       "  <th>Df Residuals:</th>          <td>   492</td>      <th>  BIC:               </th> <td>   2859.</td> \n",
       "</tr>\n",
       "<tr>\n",
       "  <th>Df Model:</th>              <td>    13</td>      <th>                     </th>     <td> </td>    \n",
       "</tr>\n",
       "<tr>\n",
       "  <th>Covariance Type:</th>      <td>nonrobust</td>    <th>                     </th>     <td> </td>    \n",
       "</tr>\n",
       "</table>\n",
       "<table class=\"simpletable\">\n",
       "<tr>\n",
       "     <td></td>        <th>coef</th>     <th>std err</th>      <th>t</th>      <th>P>|t|</th>  <th>[0.025</th>    <th>0.975]</th>  \n",
       "</tr>\n",
       "<tr>\n",
       "  <th>const</th>   <td>   38.1624</td> <td>    4.081</td> <td>    9.350</td> <td> 0.000</td> <td>   30.143</td> <td>   46.182</td>\n",
       "</tr>\n",
       "<tr>\n",
       "  <th>CRIM</th>    <td>   -0.1109</td> <td>    0.026</td> <td>   -4.219</td> <td> 0.000</td> <td>   -0.163</td> <td>   -0.059</td>\n",
       "</tr>\n",
       "<tr>\n",
       "  <th>ZN</th>      <td>    0.0370</td> <td>    0.011</td> <td>    3.374</td> <td> 0.001</td> <td>    0.015</td> <td>    0.059</td>\n",
       "</tr>\n",
       "<tr>\n",
       "  <th>INDUS</th>   <td>   -0.0139</td> <td>    0.049</td> <td>   -0.283</td> <td> 0.777</td> <td>   -0.111</td> <td>    0.083</td>\n",
       "</tr>\n",
       "<tr>\n",
       "  <th>CHAS</th>    <td>    1.7865</td> <td>    0.689</td> <td>    2.593</td> <td> 0.010</td> <td>    0.433</td> <td>    3.140</td>\n",
       "</tr>\n",
       "<tr>\n",
       "  <th>NOX</th>     <td>  -15.4649</td> <td>    3.055</td> <td>   -5.062</td> <td> 0.000</td> <td>  -21.467</td> <td>   -9.463</td>\n",
       "</tr>\n",
       "<tr>\n",
       "  <th>RM</th>      <td>    2.8793</td> <td>    0.334</td> <td>    8.615</td> <td> 0.000</td> <td>    2.223</td> <td>    3.536</td>\n",
       "</tr>\n",
       "<tr>\n",
       "  <th>AGE</th>     <td>   -0.0060</td> <td>    0.011</td> <td>   -0.567</td> <td> 0.571</td> <td>   -0.027</td> <td>    0.015</td>\n",
       "</tr>\n",
       "<tr>\n",
       "  <th>DIS</th>     <td>   -1.2519</td> <td>    0.160</td> <td>   -7.848</td> <td> 0.000</td> <td>   -1.565</td> <td>   -0.938</td>\n",
       "</tr>\n",
       "<tr>\n",
       "  <th>RAD</th>     <td>    0.2704</td> <td>    0.053</td> <td>    5.096</td> <td> 0.000</td> <td>    0.166</td> <td>    0.375</td>\n",
       "</tr>\n",
       "<tr>\n",
       "  <th>TAX</th>     <td>   -0.0116</td> <td>    0.003</td> <td>   -3.867</td> <td> 0.000</td> <td>   -0.018</td> <td>   -0.006</td>\n",
       "</tr>\n",
       "<tr>\n",
       "  <th>PTRATIO</th> <td>   -0.8203</td> <td>    0.105</td> <td>   -7.840</td> <td> 0.000</td> <td>   -1.026</td> <td>   -0.615</td>\n",
       "</tr>\n",
       "<tr>\n",
       "  <th>B</th>       <td>    0.0083</td> <td>    0.002</td> <td>    3.843</td> <td> 0.000</td> <td>    0.004</td> <td>    0.012</td>\n",
       "</tr>\n",
       "<tr>\n",
       "  <th>LSTAT</th>   <td>   -0.4797</td> <td>    0.041</td> <td>  -11.828</td> <td> 0.000</td> <td>   -0.559</td> <td>   -0.400</td>\n",
       "</tr>\n",
       "</table>\n",
       "<table class=\"simpletable\">\n",
       "<tr>\n",
       "  <th>Omnibus:</th>       <td>93.466</td> <th>  Durbin-Watson:     </th> <td>   1.115</td>\n",
       "</tr>\n",
       "<tr>\n",
       "  <th>Prob(Omnibus):</th> <td> 0.000</td> <th>  Jarque-Bera (JB):  </th> <td> 210.094</td>\n",
       "</tr>\n",
       "<tr>\n",
       "  <th>Skew:</th>          <td> 0.971</td> <th>  Prob(JB):          </th> <td>2.39e-46</td>\n",
       "</tr>\n",
       "<tr>\n",
       "  <th>Kurtosis:</th>      <td> 5.488</td> <th>  Cond. No.          </th> <td>1.51e+04</td>\n",
       "</tr>\n",
       "</table><br/><br/>Notes:<br/>[1] Standard Errors assume that the covariance matrix of the errors is correctly specified.<br/>[2] The condition number is large, 1.51e+04. This might indicate that there are<br/>strong multicollinearity or other numerical problems."
      ],
      "text/plain": [
       "<class 'statsmodels.iolib.summary.Summary'>\n",
       "\"\"\"\n",
       "                            OLS Regression Results                            \n",
       "==============================================================================\n",
       "Dep. Variable:                   MEDV   R-squared:                       0.782\n",
       "Model:                            OLS   Adj. R-squared:                  0.776\n",
       "Method:                 Least Squares   F-statistic:                     135.8\n",
       "Date:                Mon, 06 Dec 2021   Prob (F-statistic):          2.23e-153\n",
       "Time:                        13:12:53   Log-Likelihood:                -1385.7\n",
       "No. Observations:                 506   AIC:                             2799.\n",
       "Df Residuals:                     492   BIC:                             2859.\n",
       "Df Model:                          13                                         \n",
       "Covariance Type:            nonrobust                                         \n",
       "==============================================================================\n",
       "                 coef    std err          t      P>|t|      [0.025      0.975]\n",
       "------------------------------------------------------------------------------\n",
       "const         38.1624      4.081      9.350      0.000      30.143      46.182\n",
       "CRIM          -0.1109      0.026     -4.219      0.000      -0.163      -0.059\n",
       "ZN             0.0370      0.011      3.374      0.001       0.015       0.059\n",
       "INDUS         -0.0139      0.049     -0.283      0.777      -0.111       0.083\n",
       "CHAS           1.7865      0.689      2.593      0.010       0.433       3.140\n",
       "NOX          -15.4649      3.055     -5.062      0.000     -21.467      -9.463\n",
       "RM             2.8793      0.334      8.615      0.000       2.223       3.536\n",
       "AGE           -0.0060      0.011     -0.567      0.571      -0.027       0.015\n",
       "DIS           -1.2519      0.160     -7.848      0.000      -1.565      -0.938\n",
       "RAD            0.2704      0.053      5.096      0.000       0.166       0.375\n",
       "TAX           -0.0116      0.003     -3.867      0.000      -0.018      -0.006\n",
       "PTRATIO       -0.8203      0.105     -7.840      0.000      -1.026      -0.615\n",
       "B              0.0083      0.002      3.843      0.000       0.004       0.012\n",
       "LSTAT         -0.4797      0.041    -11.828      0.000      -0.559      -0.400\n",
       "==============================================================================\n",
       "Omnibus:                       93.466   Durbin-Watson:                   1.115\n",
       "Prob(Omnibus):                  0.000   Jarque-Bera (JB):              210.094\n",
       "Skew:                           0.971   Prob(JB):                     2.39e-46\n",
       "Kurtosis:                       5.488   Cond. No.                     1.51e+04\n",
       "==============================================================================\n",
       "\n",
       "Notes:\n",
       "[1] Standard Errors assume that the covariance matrix of the errors is correctly specified.\n",
       "[2] The condition number is large, 1.51e+04. This might indicate that there are\n",
       "strong multicollinearity or other numerical problems.\n",
       "\"\"\""
      ]
     },
     "execution_count": 20,
     "metadata": {},
     "output_type": "execute_result"
    }
   ],
   "source": [
    "dfy.loc[dfy.MEDV >= 40, 'MEDV'] = 40\n",
    "model_boston2 = sm.OLS(dfy, dfX)\n",
    "result_boston2 = model_boston2.fit()\n",
    "result_boston2.summary()"
   ]
  },
  {
   "cell_type": "code",
   "execution_count": 21,
   "metadata": {},
   "outputs": [
    {
     "data": {
      "text/plain": [
       "array([ 98, 157, 161, 162, 163, 166, 186, 195, 202, 203, 204, 224, 225,\n",
       "       228, 232, 233, 253, 256, 257, 261, 262, 267, 268, 280, 282, 283,\n",
       "       368, 369, 370, 371, 372], dtype=int64)"
      ]
     },
     "execution_count": 21,
     "metadata": {},
     "output_type": "execute_result"
    }
   ],
   "source": [
    "idx = np.where(dfy >= 40)[0] # 40 이상인 값들의 인덱스\n",
    "idx"
   ]
  },
  {
   "cell_type": "code",
   "execution_count": 22,
   "metadata": {},
   "outputs": [
    {
     "name": "stdout",
     "output_type": "stream",
     "text": [
      "                            OLS Regression Results                            \n",
      "==============================================================================\n",
      "Dep. Variable:                   MEDV   R-squared:                       0.771\n",
      "Model:                            OLS   Adj. R-squared:                  0.764\n",
      "Method:                 Least Squares   F-statistic:                     119.1\n",
      "Date:                Mon, 06 Dec 2021   Prob (F-statistic):          3.90e-138\n",
      "Time:                        13:14:25   Log-Likelihood:                -1234.3\n",
      "No. Observations:                 475   AIC:                             2497.\n",
      "Df Residuals:                     461   BIC:                             2555.\n",
      "Df Model:                          13                                         \n",
      "Covariance Type:            nonrobust                                         \n",
      "==============================================================================\n",
      "                 coef    std err          t      P>|t|      [0.025      0.975]\n",
      "------------------------------------------------------------------------------\n",
      "const         38.2701      3.718     10.293      0.000      30.964      45.577\n",
      "CRIM          -0.1131      0.023     -4.928      0.000      -0.158      -0.068\n",
      "ZN             0.0386      0.010      3.714      0.000       0.018       0.059\n",
      "INDUS         -0.0573      0.044     -1.293      0.197      -0.144       0.030\n",
      "CHAS           0.8353      0.665      1.256      0.210      -0.471       2.142\n",
      "NOX          -12.6094      2.712     -4.650      0.000     -17.939      -7.280\n",
      "RM             2.2707      0.340      6.681      0.000       1.603       2.939\n",
      "AGE           -0.0174      0.010     -1.819      0.070      -0.036       0.001\n",
      "DIS           -1.1167      0.145     -7.718      0.000      -1.401      -0.832\n",
      "RAD            0.2335      0.047      4.965      0.000       0.141       0.326\n",
      "TAX           -0.0124      0.003     -4.663      0.000      -0.018      -0.007\n",
      "PTRATIO       -0.6986      0.094     -7.396      0.000      -0.884      -0.513\n",
      "B              0.0070      0.002      3.750      0.000       0.003       0.011\n",
      "LSTAT         -0.3774      0.038     -9.999      0.000      -0.452      -0.303\n",
      "==============================================================================\n",
      "Omnibus:                       49.781   Durbin-Watson:                   1.179\n",
      "Prob(Omnibus):                  0.000   Jarque-Bera (JB):               73.965\n",
      "Skew:                           0.719   Prob(JB):                     8.68e-17\n",
      "Kurtosis:                       4.292   Cond. No.                     1.53e+04\n",
      "==============================================================================\n",
      "\n",
      "Notes:\n",
      "[1] Standard Errors assume that the covariance matrix of the errors is correctly specified.\n",
      "[2] The condition number is large, 1.53e+04. This might indicate that there are\n",
      "strong multicollinearity or other numerical problems.\n"
     ]
    }
   ],
   "source": [
    "idx2 = list(set(range(len(dfX))).difference(idx))\n",
    "\n",
    "dfX = dfX.iloc[idx2, :].reset_index(drop=True) # 빠진 인덱스들 때문에 인덱스 번호 리셋해줌\n",
    "dfy = dfy.iloc[idx2, :].reset_index(drop=True)\n",
    "\n",
    "model_boston3 = sm.OLS(dfy, dfX)\n",
    "result_boston3 = model_boston3.fit()\n",
    "\n",
    "print(result_boston3.summary())"
   ]
  },
  {
   "cell_type": "code",
   "execution_count": null,
   "metadata": {},
   "outputs": [],
   "source": [
    "# 신용카드 거래 금액 예측"
   ]
  },
  {
   "cell_type": "code",
   "execution_count": 23,
   "metadata": {},
   "outputs": [],
   "source": [
    "import pandas as pd\n",
    "import matplotlib.pyplot as plt\n",
    "import seaborn as sns"
   ]
  },
  {
   "cell_type": "code",
   "execution_count": 24,
   "metadata": {},
   "outputs": [
    {
     "name": "stderr",
     "output_type": "stream",
     "text": [
      "C:\\anaconda3\\lib\\site-packages\\seaborn\\_decorators.py:36: FutureWarning: Pass the following variable as a keyword arg: x. From version 0.12, the only valid positional argument will be `data`, and passing other arguments without an explicit keyword will result in an error or misinterpretation.\n",
      "  warnings.warn(\n"
     ]
    },
    {
     "data": {
      "image/png": "[encoded data removed]",
      "text/plain": [
       "<Figure size 432x288 with 1 Axes>"
      ]
     },
     "metadata": {
      "needs_background": "light"
     },
     "output_type": "display_data"
    }
   ],
   "source": [
    "df = pd.read_csv(\"c:/data/creditcard/creditcard.csv\")\n",
    "\n",
    "from matplotlib import font_manager, rc\n",
    "font_name = font_manager.FontProperties(fname=\"c:/Windows/Fonts/malgun.ttf\").get_name()\n",
    "rc('font', family=font_name)\n",
    "\n",
    "colors = [\"yellow\", \"red\"]\n",
    "\n",
    "sns.countplot('Class', data=df, palette=colors)\n",
    "plt.title('분류\\n (0:정상거래 / 1:사기거래)', fontsize=12)\n",
    "plt.show()"
   ]
  },
  {
   "cell_type": "code",
   "execution_count": 25,
   "metadata": {},
   "outputs": [
    {
     "name": "stdout",
     "output_type": "stream",
     "text": [
      "사기거래:  count     492.000000\n",
      "mean      122.211321\n",
      "std       256.683288\n",
      "min         0.000000\n",
      "25%         1.000000\n",
      "50%         9.250000\n",
      "75%       105.890000\n",
      "max      2125.870000\n",
      "Name: Amount, dtype: float64\n",
      "\n",
      "정상거래:  count    284315.000000\n",
      "mean         88.291022\n",
      "std         250.105092\n",
      "min           0.000000\n",
      "25%           5.650000\n",
      "50%          22.000000\n",
      "75%          77.050000\n",
      "max       25691.160000\n",
      "Name: Amount, dtype: float64\n"
     ]
    }
   ],
   "source": [
    "print(\"사기거래: \", df.Amount[df.Class == 1].describe())\n",
    "print()\n",
    "print(\"정상거래: \", df.Amount[df.Class == 0].describe())"
   ]
  },
  {
   "cell_type": "code",
   "execution_count": 26,
   "metadata": {},
   "outputs": [
    {
     "name": "stdout",
     "output_type": "stream",
     "text": [
      "Index(['V1', 'V2', 'V3', 'V4', 'V5', 'V6', 'V7', 'V8', 'V9', 'V10', 'V11',\n",
      "       'V12', 'V13', 'V14', 'V15', 'V16', 'V17', 'V18', 'V19', 'V20', 'V21',\n",
      "       'V22', 'V23', 'V24', 'V25', 'V26', 'V27', 'V28'],\n",
      "      dtype='object')\n"
     ]
    }
   ],
   "source": [
    "train_cols = df.columns[1:29]\n",
    "print(train_cols)"
   ]
  },
  {
   "cell_type": "code",
   "execution_count": 33,
   "metadata": {},
   "outputs": [
    {
     "name": "stdout",
     "output_type": "stream",
     "text": [
      "         V1        V2        V3        V4        V5        V6        V7  \\\n",
      "0 -1.359807 -0.072781  2.536347  1.378155 -0.338321  0.462388  0.239599   \n",
      "1  1.191857  0.266151  0.166480  0.448154  0.060018 -0.082361 -0.078803   \n",
      "2 -1.358354 -1.340163  1.773209  0.379780 -0.503198  1.800499  0.791461   \n",
      "3 -0.966272 -0.185226  1.792993 -0.863291 -0.010309  1.247203  0.237609   \n",
      "4 -1.158233  0.877737  1.548718  0.403034 -0.407193  0.095921  0.592941   \n",
      "\n",
      "         V8        V9       V10  ...       V19       V20       V21       V22  \\\n",
      "0  0.098698  0.363787  0.090794  ...  0.403993  0.251412 -0.018307  0.277838   \n",
      "1  0.085102 -0.255425 -0.166974  ... -0.145783 -0.069083 -0.225775 -0.638672   \n",
      "2  0.247676 -1.514654  0.207643  ... -2.261857  0.524980  0.247998  0.771679   \n",
      "3  0.377436 -1.387024 -0.054952  ... -1.232622 -0.208038 -0.108300  0.005274   \n",
      "4 -0.270533  0.817739  0.753074  ...  0.803487  0.408542 -0.009431  0.798278   \n",
      "\n",
      "        V23       V24       V25       V26       V27       V28  \n",
      "0 -0.110474  0.066928  0.128539 -0.189115  0.133558 -0.021053  \n",
      "1  0.101288 -0.339846  0.167170  0.125895 -0.008983  0.014724  \n",
      "2  0.909412 -0.689281 -0.327642 -0.139097 -0.055353 -0.059752  \n",
      "3 -0.190321 -1.175575  0.647376 -0.221929  0.062723  0.061458  \n",
      "4 -0.137458  0.141267 -0.206010  0.502292  0.219422  0.215153  \n",
      "\n",
      "[5 rows x 28 columns]\n",
      "0    149.62\n",
      "1      2.69\n",
      "2    378.66\n",
      "3    123.50\n",
      "4     69.99\n",
      "Name: Amount, dtype: float64\n"
     ]
    }
   ],
   "source": [
    "X = df[train_cols]\n",
    "y = df[\"Amount\"]\n",
    "\n",
    "print(X.head())\n",
    "print(y.head())"
   ]
  },
  {
   "cell_type": "code",
   "execution_count": 34,
   "metadata": {},
   "outputs": [],
   "source": [
    "from sklearn.model_selection import train_test_split\n",
    "\n",
    "X_train, X_test, y_train, y_test = train_test_split(X, y, test_size=0.2, random_state=10)"
   ]
  },
  {
   "cell_type": "code",
   "execution_count": 39,
   "metadata": {},
   "outputs": [
    {
     "name": "stdout",
     "output_type": "stream",
     "text": [
      "회귀계수: \n",
      " V1     -29.071163\n",
      "V2     -80.740965\n",
      "V3     -34.990065\n",
      "V4      17.634759\n",
      "V5     -70.401473\n",
      "V6      40.960005\n",
      "V7      80.872687\n",
      "V8     -21.747735\n",
      "V9      -9.858902\n",
      "V10    -23.512566\n",
      "V11     -0.032073\n",
      "V12     -2.442332\n",
      "V13      1.471566\n",
      "V14      8.686637\n",
      "V15     -0.765415\n",
      "V16     -0.958718\n",
      "V17      1.750542\n",
      "V18     10.561197\n",
      "V19    -17.228021\n",
      "V20    109.111737\n",
      "V21     36.131645\n",
      "V22    -22.338471\n",
      "V23    -45.934831\n",
      "V24      2.164762\n",
      "V25    -22.725643\n",
      "V26     -1.270434\n",
      "V27     19.827197\n",
      "V28      7.125640\n",
      "dtype: float64\n",
      "R-squared: \n",
      " 0.8140433994103969\n",
      "P values: \n",
      " V1      0.000000e+00\n",
      "V2      0.000000e+00\n",
      "V3      0.000000e+00\n",
      "V4      0.000000e+00\n",
      "V5      0.000000e+00\n",
      "V6      0.000000e+00\n",
      "V7      0.000000e+00\n",
      "V8      0.000000e+00\n",
      "V9      0.000000e+00\n",
      "V10     0.000000e+00\n",
      "V11     8.908527e-01\n",
      "V12     1.411787e-24\n",
      "V13     8.025868e-10\n",
      "V14    1.903362e-265\n",
      "V15     3.279689e-03\n",
      "V16     4.377964e-04\n",
      "V17     4.152944e-10\n",
      "V18    3.816983e-301\n",
      "V19     0.000000e+00\n",
      "V20     0.000000e+00\n",
      "V21     0.000000e+00\n",
      "V22     0.000000e+00\n",
      "V23     0.000000e+00\n",
      "V24     3.881635e-08\n",
      "V25     0.000000e+00\n",
      "V26     1.014109e-02\n",
      "V27    2.912978e-248\n",
      "V28     1.376318e-23\n",
      "dtype: float64\n"
     ]
    }
   ],
   "source": [
    "import statsmodels.api as sm\n",
    "\n",
    "model = sm.OLS(y_train, X_train)\n",
    "result = model.fit()\n",
    "\n",
    "print(\"회귀계수: \\n\", result.params)\n",
    "print(\"R-squared: \\n\", result.rsquared)\n",
    "print(\"P values: \\n\", result.pvalues)"
   ]
  },
  {
   "cell_type": "code",
   "execution_count": 40,
   "metadata": {},
   "outputs": [
    {
     "name": "stdout",
     "output_type": "stream",
     "text": [
      "                                 OLS Regression Results                                \n",
      "=======================================================================================\n",
      "Dep. Variable:                 Amount   R-squared (uncentered):                   0.814\n",
      "Model:                            OLS   Adj. R-squared (uncentered):              0.814\n",
      "Method:                 Least Squares   F-statistic:                          3.562e+04\n",
      "Date:                Mon, 06 Dec 2021   Prob (F-statistic):                        0.00\n",
      "Time:                        14:56:01   Log-Likelihood:                     -1.4021e+06\n",
      "No. Observations:              227845   AIC:                                  2.804e+06\n",
      "Df Residuals:                  227817   BIC:                                  2.805e+06\n",
      "Df Model:                          28                                                  \n",
      "Covariance Type:            nonrobust                                                  \n",
      "==============================================================================\n",
      "                 coef    std err          t      P>|t|      [0.025      0.975]\n",
      "------------------------------------------------------------------------------\n",
      "V1           -29.0712      0.122   -238.550      0.000     -29.310     -28.832\n",
      "V2           -80.7410      0.144   -559.103      0.000     -81.024     -80.458\n",
      "V3           -34.9901      0.157   -222.699      0.000     -35.298     -34.682\n",
      "V4            17.6348      0.169    104.571      0.000      17.304      17.965\n",
      "V5           -70.4015      0.172   -408.924      0.000     -70.739     -70.064\n",
      "V6            40.9600      0.179    229.221      0.000      40.610      41.310\n",
      "V7            80.8727      0.192    420.793      0.000      80.496      81.249\n",
      "V8           -21.7477      0.201   -108.455      0.000     -22.141     -21.355\n",
      "V9            -9.8589      0.217    -45.371      0.000     -10.285      -9.433\n",
      "V10          -23.5126      0.219   -107.411      0.000     -23.942     -23.084\n",
      "V11           -0.0321      0.234     -0.137      0.891      -0.490       0.426\n",
      "V12           -2.4423      0.239    -10.234      0.000      -2.910      -1.975\n",
      "V13            1.4716      0.239      6.145      0.000       1.002       1.941\n",
      "V14            8.6866      0.249     34.853      0.000       8.198       9.175\n",
      "V15           -0.7654      0.260     -2.940      0.003      -1.276      -0.255\n",
      "V16           -0.9587      0.273     -3.516      0.000      -1.493      -0.424\n",
      "V17            1.7505      0.280      6.248      0.000       1.201       2.300\n",
      "V18           10.5612      0.284     37.148      0.000      10.004      11.118\n",
      "V19          -17.2280      0.293    -58.781      0.000     -17.802     -16.654\n",
      "V20          109.1117      0.311    350.781      0.000     108.502     109.721\n",
      "V21           36.1316      0.328    110.291      0.000      35.490      36.774\n",
      "V22          -22.3385      0.329    -67.881      0.000     -22.983     -21.693\n",
      "V23          -45.9348      0.387   -118.681      0.000     -46.693     -45.176\n",
      "V24            2.1648      0.394      5.496      0.000       1.393       2.937\n",
      "V25          -22.7256      0.459    -49.542      0.000     -23.625     -21.827\n",
      "V26           -1.2704      0.494     -2.571      0.010      -2.239      -0.302\n",
      "V27           19.8272      0.588     33.694      0.000      18.674      20.981\n",
      "V28            7.1256      0.712     10.011      0.000       5.731       8.521\n",
      "==============================================================================\n",
      "Omnibus:                   391012.898   Durbin-Watson:                   0.796\n",
      "Prob(Omnibus):                  0.000   Jarque-Bera (JB):      13742252161.964\n",
      "Skew:                         -10.605   Prob(JB):                         0.00\n",
      "Kurtosis:                    1205.949   Cond. No.                         5.84\n",
      "==============================================================================\n",
      "\n",
      "Notes:\n",
      "[1] R² is computed without centering (uncentered) since the model does not contain a constant.\n",
      "[2] Standard Errors assume that the covariance matrix of the errors is correctly specified.\n"
     ]
    }
   ],
   "source": [
    "print(result.summary())"
   ]
  },
  {
   "cell_type": "code",
   "execution_count": 41,
   "metadata": {},
   "outputs": [
    {
     "data": {
      "text/plain": [
       "0.800011929991444"
      ]
     },
     "execution_count": 41,
     "metadata": {},
     "output_type": "execute_result"
    }
   ],
   "source": [
    "from sklearn.metrics import r2_score\n",
    "\n",
    "pred = result.predict(X_test)\n",
    "r2_score(y_test, pred)"
   ]
  },
  {
   "cell_type": "code",
   "execution_count": 42,
   "metadata": {},
   "outputs": [
    {
     "name": "stdout",
     "output_type": "stream",
     "text": [
      "학습용:  0.9166679569637542\n",
      "검증용:  0.9202403809857429\n"
     ]
    }
   ],
   "source": [
    "from sklearn.linear_model import LinearRegression\n",
    "model = LinearRegression().fit(X_train, y_train)\n",
    "\n",
    "print(\"학습용: \", model.score(X_train, y_train))\n",
    "print(\"검증용: \", model.score(X_test, y_test))"
   ]
  },
  {
   "cell_type": "code",
   "execution_count": 43,
   "metadata": {},
   "outputs": [],
   "source": [
    "from scipy import stats"
   ]
  },
  {
   "cell_type": "code",
   "execution_count": 44,
   "metadata": {},
   "outputs": [],
   "source": [
    "df = pd.read_csv(\"c:/data/hdi/hdi_data2.csv\")\n",
    "train_cols = df.columns[0:5]\n",
    "X = df[train_cols]\n",
    "y = df[\"HDI\"]"
   ]
  },
  {
   "cell_type": "code",
   "execution_count": 45,
   "metadata": {},
   "outputs": [
    {
     "data": {
      "text/html": [
       "<table class=\"simpletable\">\n",
       "<caption>OLS Regression Results</caption>\n",
       "<tr>\n",
       "  <th>Dep. Variable:</th>           <td>HDI</td>       <th>  R-squared (uncentered):</th>      <td>   0.998</td> \n",
       "</tr>\n",
       "<tr>\n",
       "  <th>Model:</th>                   <td>OLS</td>       <th>  Adj. R-squared (uncentered):</th> <td>   0.998</td> \n",
       "</tr>\n",
       "<tr>\n",
       "  <th>Method:</th>             <td>Least Squares</td>  <th>  F-statistic:       </th>          <td>1.722e+04</td>\n",
       "</tr>\n",
       "<tr>\n",
       "  <th>Date:</th>             <td>Mon, 06 Dec 2021</td> <th>  Prob (F-statistic):</th>          <td>5.06e-198</td>\n",
       "</tr>\n",
       "<tr>\n",
       "  <th>Time:</th>                 <td>15:05:23</td>     <th>  Log-Likelihood:    </th>          <td>  320.29</td> \n",
       "</tr>\n",
       "<tr>\n",
       "  <th>No. Observations:</th>      <td>   149</td>      <th>  AIC:               </th>          <td>  -630.6</td> \n",
       "</tr>\n",
       "<tr>\n",
       "  <th>Df Residuals:</th>          <td>   144</td>      <th>  BIC:               </th>          <td>  -615.6</td> \n",
       "</tr>\n",
       "<tr>\n",
       "  <th>Df Model:</th>              <td>     5</td>      <th>                     </th>              <td> </td>    \n",
       "</tr>\n",
       "<tr>\n",
       "  <th>Covariance Type:</th>      <td>nonrobust</td>    <th>                     </th>              <td> </td>    \n",
       "</tr>\n",
       "</table>\n",
       "<table class=\"simpletable\">\n",
       "<tr>\n",
       "               <td></td>                  <th>coef</th>     <th>std err</th>      <th>t</th>      <th>P>|t|</th>  <th>[0.025</th>    <th>0.975]</th>  \n",
       "</tr>\n",
       "<tr>\n",
       "  <th>Life expectancy at birth</th>    <td>    0.0047</td> <td>    0.000</td> <td>   19.852</td> <td> 0.000</td> <td>    0.004</td> <td>    0.005</td>\n",
       "</tr>\n",
       "<tr>\n",
       "  <th>Mean years of schooling</th>     <td>    0.0221</td> <td>    0.001</td> <td>   15.040</td> <td> 0.000</td> <td>    0.019</td> <td>    0.025</td>\n",
       "</tr>\n",
       "<tr>\n",
       "  <th>Expected years of schooling</th> <td>    0.0115</td> <td>    0.002</td> <td>    6.825</td> <td> 0.000</td> <td>    0.008</td> <td>    0.015</td>\n",
       "</tr>\n",
       "<tr>\n",
       "  <th>GNI</th>                         <td> 2.847e-06</td> <td> 2.04e-07</td> <td>   13.957</td> <td> 0.000</td> <td> 2.44e-06</td> <td> 3.25e-06</td>\n",
       "</tr>\n",
       "<tr>\n",
       "  <th>Export</th>                      <td>   -0.0001</td> <td> 8.86e-05</td> <td>   -1.444</td> <td> 0.151</td> <td>   -0.000</td> <td> 4.72e-05</td>\n",
       "</tr>\n",
       "</table>\n",
       "<table class=\"simpletable\">\n",
       "<tr>\n",
       "  <th>Omnibus:</th>       <td>43.417</td> <th>  Durbin-Watson:     </th> <td>   2.086</td>\n",
       "</tr>\n",
       "<tr>\n",
       "  <th>Prob(Omnibus):</th> <td> 0.000</td> <th>  Jarque-Bera (JB):  </th> <td>  97.013</td>\n",
       "</tr>\n",
       "<tr>\n",
       "  <th>Skew:</th>          <td>-1.241</td> <th>  Prob(JB):          </th> <td>8.59e-22</td>\n",
       "</tr>\n",
       "<tr>\n",
       "  <th>Kurtosis:</th>      <td> 6.076</td> <th>  Cond. No.          </th> <td>1.70e+04</td>\n",
       "</tr>\n",
       "</table><br/><br/>Notes:<br/>[1] R² is computed without centering (uncentered) since the model does not contain a constant.<br/>[2] Standard Errors assume that the covariance matrix of the errors is correctly specified.<br/>[3] The condition number is large, 1.7e+04. This might indicate that there are<br/>strong multicollinearity or other numerical problems."
      ],
      "text/plain": [
       "<class 'statsmodels.iolib.summary.Summary'>\n",
       "\"\"\"\n",
       "                                 OLS Regression Results                                \n",
       "=======================================================================================\n",
       "Dep. Variable:                    HDI   R-squared (uncentered):                   0.998\n",
       "Model:                            OLS   Adj. R-squared (uncentered):              0.998\n",
       "Method:                 Least Squares   F-statistic:                          1.722e+04\n",
       "Date:                Mon, 06 Dec 2021   Prob (F-statistic):                   5.06e-198\n",
       "Time:                        15:05:23   Log-Likelihood:                          320.29\n",
       "No. Observations:                 149   AIC:                                     -630.6\n",
       "Df Residuals:                     144   BIC:                                     -615.6\n",
       "Df Model:                           5                                                  \n",
       "Covariance Type:            nonrobust                                                  \n",
       "===============================================================================================\n",
       "                                  coef    std err          t      P>|t|      [0.025      0.975]\n",
       "-----------------------------------------------------------------------------------------------\n",
       "Life expectancy at birth        0.0047      0.000     19.852      0.000       0.004       0.005\n",
       "Mean years of schooling         0.0221      0.001     15.040      0.000       0.019       0.025\n",
       "Expected years of schooling     0.0115      0.002      6.825      0.000       0.008       0.015\n",
       "GNI                          2.847e-06   2.04e-07     13.957      0.000    2.44e-06    3.25e-06\n",
       "Export                         -0.0001   8.86e-05     -1.444      0.151      -0.000    4.72e-05\n",
       "==============================================================================\n",
       "Omnibus:                       43.417   Durbin-Watson:                   2.086\n",
       "Prob(Omnibus):                  0.000   Jarque-Bera (JB):               97.013\n",
       "Skew:                          -1.241   Prob(JB):                     8.59e-22\n",
       "Kurtosis:                       6.076   Cond. No.                     1.70e+04\n",
       "==============================================================================\n",
       "\n",
       "Notes:\n",
       "[1] R² is computed without centering (uncentered) since the model does not contain a constant.\n",
       "[2] Standard Errors assume that the covariance matrix of the errors is correctly specified.\n",
       "[3] The condition number is large, 1.7e+04. This might indicate that there are\n",
       "strong multicollinearity or other numerical problems.\n",
       "\"\"\""
      ]
     },
     "execution_count": 45,
     "metadata": {},
     "output_type": "execute_result"
    }
   ],
   "source": [
    "X_train, X_test, y_train, y_test = train_test_split(X, y, test_size=0.2, random_state=10)\n",
    "\n",
    "model = sm.OLS(y_train, X_train)\n",
    "result = model.fit()\n",
    "\n",
    "result.summary()"
   ]
  },
  {
   "cell_type": "code",
   "execution_count": 48,
   "metadata": {},
   "outputs": [
    {
     "data": {
      "text/plain": [
       "0.9258621508415218"
      ]
     },
     "execution_count": 48,
     "metadata": {},
     "output_type": "execute_result"
    }
   ],
   "source": [
    "pred = result.predict(X_test)\n",
    "rsquared = r2_score(y_test, pred)\n",
    "rsquared"
   ]
  },
  {
   "cell_type": "code",
   "execution_count": 49,
   "metadata": {},
   "outputs": [],
   "source": [
    "from sklearn.linear_model import LinearRegression\n",
    "\n",
    "model = LinearRegression().fit(X_train, y_train)"
   ]
  },
  {
   "cell_type": "code",
   "execution_count": 50,
   "metadata": {},
   "outputs": [
    {
     "name": "stdout",
     "output_type": "stream",
     "text": [
      "학습용:  0.9795845422991336\n",
      "검증용:  0.9432099785667012\n"
     ]
    }
   ],
   "source": [
    "print(\"학습용: \", model.score(X_train, y_train))\n",
    "print(\"검증용: \", model.score(X_test, y_test))"
   ]
  },
  {
   "cell_type": "code",
   "execution_count": 52,
   "metadata": {},
   "outputs": [
    {
     "data": {
      "text/html": [
       "<table class=\"simpletable\">\n",
       "<caption>OLS Regression Results</caption>\n",
       "<tr>\n",
       "  <th>Dep. Variable:</th>           <td>Y1</td>        <th>  R-squared (uncentered):</th>      <td>   0.985</td>\n",
       "</tr>\n",
       "<tr>\n",
       "  <th>Model:</th>                   <td>OLS</td>       <th>  Adj. R-squared (uncentered):</th> <td>   0.985</td>\n",
       "</tr>\n",
       "<tr>\n",
       "  <th>Method:</th>             <td>Least Squares</td>  <th>  F-statistic:       </th>          <td>   7347.</td>\n",
       "</tr>\n",
       "<tr>\n",
       "  <th>Date:</th>             <td>Mon, 06 Dec 2021</td> <th>  Prob (F-statistic):</th>           <td>  0.00</td> \n",
       "</tr>\n",
       "<tr>\n",
       "  <th>Time:</th>                 <td>15:19:33</td>     <th>  Log-Likelihood:    </th>          <td> -1922.2</td>\n",
       "</tr>\n",
       "<tr>\n",
       "  <th>No. Observations:</th>      <td>   768</td>      <th>  AIC:               </th>          <td>   3858.</td>\n",
       "</tr>\n",
       "<tr>\n",
       "  <th>Df Residuals:</th>          <td>   761</td>      <th>  BIC:               </th>          <td>   3891.</td>\n",
       "</tr>\n",
       "<tr>\n",
       "  <th>Df Model:</th>              <td>     7</td>      <th>                     </th>              <td> </td>   \n",
       "</tr>\n",
       "<tr>\n",
       "  <th>Covariance Type:</th>      <td>nonrobust</td>    <th>                     </th>              <td> </td>   \n",
       "</tr>\n",
       "</table>\n",
       "<table class=\"simpletable\">\n",
       "<tr>\n",
       "   <td></td>     <th>coef</th>     <th>std err</th>      <th>t</th>      <th>P>|t|</th>  <th>[0.025</th>    <th>0.975]</th>  \n",
       "</tr>\n",
       "<tr>\n",
       "  <th>X1</th> <td>  -20.0442</td> <td>    1.806</td> <td>  -11.101</td> <td> 0.000</td> <td>  -23.589</td> <td>  -16.500</td>\n",
       "</tr>\n",
       "<tr>\n",
       "  <th>X2</th> <td>   -0.0037</td> <td>    0.001</td> <td>   -2.912</td> <td> 0.004</td> <td>   -0.006</td> <td>   -0.001</td>\n",
       "</tr>\n",
       "<tr>\n",
       "  <th>X3</th> <td>    0.0322</td> <td>    0.004</td> <td>    8.497</td> <td> 0.000</td> <td>    0.025</td> <td>    0.040</td>\n",
       "</tr>\n",
       "<tr>\n",
       "  <th>X4</th> <td>   -0.0179</td> <td>    0.002</td> <td>   -7.352</td> <td> 0.000</td> <td>   -0.023</td> <td>   -0.013</td>\n",
       "</tr>\n",
       "<tr>\n",
       "  <th>X5</th> <td>    5.2968</td> <td>    0.224</td> <td>   23.627</td> <td> 0.000</td> <td>    4.857</td> <td>    5.737</td>\n",
       "</tr>\n",
       "<tr>\n",
       "  <th>X6</th> <td>   -0.0160</td> <td>    0.096</td> <td>   -0.167</td> <td> 0.867</td> <td>   -0.204</td> <td>    0.172</td>\n",
       "</tr>\n",
       "<tr>\n",
       "  <th>X7</th> <td>   19.9608</td> <td>    0.824</td> <td>   24.231</td> <td> 0.000</td> <td>   18.344</td> <td>   21.578</td>\n",
       "</tr>\n",
       "<tr>\n",
       "  <th>X8</th> <td>    0.2063</td> <td>    0.071</td> <td>    2.916</td> <td> 0.004</td> <td>    0.067</td> <td>    0.345</td>\n",
       "</tr>\n",
       "</table>\n",
       "<table class=\"simpletable\">\n",
       "<tr>\n",
       "  <th>Omnibus:</th>       <td>13.549</td> <th>  Durbin-Watson:     </th> <td>   0.608</td>\n",
       "</tr>\n",
       "<tr>\n",
       "  <th>Prob(Omnibus):</th> <td> 0.001</td> <th>  Jarque-Bera (JB):  </th> <td>  23.976</td>\n",
       "</tr>\n",
       "<tr>\n",
       "  <th>Skew:</th>          <td>-0.005</td> <th>  Prob(JB):          </th> <td>6.22e-06</td>\n",
       "</tr>\n",
       "<tr>\n",
       "  <th>Kurtosis:</th>      <td> 3.866</td> <th>  Cond. No.          </th> <td>3.22e+16</td>\n",
       "</tr>\n",
       "</table><br/><br/>Notes:<br/>[1] R² is computed without centering (uncentered) since the model does not contain a constant.<br/>[2] Standard Errors assume that the covariance matrix of the errors is correctly specified.<br/>[3] The smallest eigenvalue is 4.39e-25. This might indicate that there are<br/>strong multicollinearity problems or that the design matrix is singular."
      ],
      "text/plain": [
       "<class 'statsmodels.iolib.summary.Summary'>\n",
       "\"\"\"\n",
       "                                 OLS Regression Results                                \n",
       "=======================================================================================\n",
       "Dep. Variable:                     Y1   R-squared (uncentered):                   0.985\n",
       "Model:                            OLS   Adj. R-squared (uncentered):              0.985\n",
       "Method:                 Least Squares   F-statistic:                              7347.\n",
       "Date:                Mon, 06 Dec 2021   Prob (F-statistic):                        0.00\n",
       "Time:                        15:19:33   Log-Likelihood:                         -1922.2\n",
       "No. Observations:                 768   AIC:                                      3858.\n",
       "Df Residuals:                     761   BIC:                                      3891.\n",
       "Df Model:                           7                                                  \n",
       "Covariance Type:            nonrobust                                                  \n",
       "==============================================================================\n",
       "                 coef    std err          t      P>|t|      [0.025      0.975]\n",
       "------------------------------------------------------------------------------\n",
       "X1           -20.0442      1.806    -11.101      0.000     -23.589     -16.500\n",
       "X2            -0.0037      0.001     -2.912      0.004      -0.006      -0.001\n",
       "X3             0.0322      0.004      8.497      0.000       0.025       0.040\n",
       "X4            -0.0179      0.002     -7.352      0.000      -0.023      -0.013\n",
       "X5             5.2968      0.224     23.627      0.000       4.857       5.737\n",
       "X6            -0.0160      0.096     -0.167      0.867      -0.204       0.172\n",
       "X7            19.9608      0.824     24.231      0.000      18.344      21.578\n",
       "X8             0.2063      0.071      2.916      0.004       0.067       0.345\n",
       "==============================================================================\n",
       "Omnibus:                       13.549   Durbin-Watson:                   0.608\n",
       "Prob(Omnibus):                  0.001   Jarque-Bera (JB):               23.976\n",
       "Skew:                          -0.005   Prob(JB):                     6.22e-06\n",
       "Kurtosis:                       3.866   Cond. No.                     3.22e+16\n",
       "==============================================================================\n",
       "\n",
       "Notes:\n",
       "[1] R² is computed without centering (uncentered) since the model does not contain a constant.\n",
       "[2] Standard Errors assume that the covariance matrix of the errors is correctly specified.\n",
       "[3] The smallest eigenvalue is 4.39e-25. This might indicate that there are\n",
       "strong multicollinearity problems or that the design matrix is singular.\n",
       "\"\"\""
      ]
     },
     "execution_count": 52,
     "metadata": {},
     "output_type": "execute_result"
    }
   ],
   "source": [
    "df = pd.read_csv(\"c:/data/energy/energy_data.csv\")\n",
    "\n",
    "train_cols = df.columns[0:8]\n",
    "X = df[train_cols]\n",
    "y = df[\"Y1\"]\n",
    "\n",
    "model = sm.OLS(y, X)\n",
    "result = model.fit()\n",
    "\n",
    "result.summary()"
   ]
  },
  {
   "cell_type": "code",
   "execution_count": 54,
   "metadata": {},
   "outputs": [
    {
     "name": "stdout",
     "output_type": "stream",
     "text": [
      "학습용:  0.9123488471973692\n",
      "검증용:  0.9313289941747572\n"
     ]
    }
   ],
   "source": [
    "X_train, X_test, y_train, y_test = train_test_split(X, y, test_size=0.2, random_state=10)\n",
    "model = LinearRegression().fit(X_train, y_train)\n",
    "print(\"학습용: \", model.score(X_train, y_train))\n",
    "print(\"검증용: \", model.score(X_test, y_test))"
   ]
  },
  {
   "cell_type": "code",
   "execution_count": 56,
   "metadata": {},
   "outputs": [
    {
     "data": {
      "text/html": [
       "<table class=\"simpletable\">\n",
       "<caption>OLS Regression Results</caption>\n",
       "<tr>\n",
       "  <th>Dep. Variable:</th>           <td>Y1</td>        <th>  R-squared (uncentered):</th>      <td>   0.985</td>\n",
       "</tr>\n",
       "<tr>\n",
       "  <th>Model:</th>                   <td>OLS</td>       <th>  Adj. R-squared (uncentered):</th> <td>   0.985</td>\n",
       "</tr>\n",
       "<tr>\n",
       "  <th>Method:</th>             <td>Least Squares</td>  <th>  F-statistic:       </th>          <td>   8582.</td>\n",
       "</tr>\n",
       "<tr>\n",
       "  <th>Date:</th>             <td>Mon, 06 Dec 2021</td> <th>  Prob (F-statistic):</th>           <td>  0.00</td> \n",
       "</tr>\n",
       "<tr>\n",
       "  <th>Time:</th>                 <td>15:32:26</td>     <th>  Log-Likelihood:    </th>          <td> -1922.2</td>\n",
       "</tr>\n",
       "<tr>\n",
       "  <th>No. Observations:</th>      <td>   768</td>      <th>  AIC:               </th>          <td>   3856.</td>\n",
       "</tr>\n",
       "<tr>\n",
       "  <th>Df Residuals:</th>          <td>   762</td>      <th>  BIC:               </th>          <td>   3884.</td>\n",
       "</tr>\n",
       "<tr>\n",
       "  <th>Df Model:</th>              <td>     6</td>      <th>                     </th>              <td> </td>   \n",
       "</tr>\n",
       "<tr>\n",
       "  <th>Covariance Type:</th>      <td>nonrobust</td>    <th>                     </th>              <td> </td>   \n",
       "</tr>\n",
       "</table>\n",
       "<table class=\"simpletable\">\n",
       "<tr>\n",
       "   <td></td>     <th>coef</th>     <th>std err</th>      <th>t</th>      <th>P>|t|</th>  <th>[0.025</th>    <th>0.975]</th>  \n",
       "</tr>\n",
       "<tr>\n",
       "  <th>X1</th> <td>  -20.0741</td> <td>    1.796</td> <td>  -11.180</td> <td> 0.000</td> <td>  -23.599</td> <td>  -16.549</td>\n",
       "</tr>\n",
       "<tr>\n",
       "  <th>X2</th> <td>   -0.0037</td> <td>    0.001</td> <td>   -2.997</td> <td> 0.003</td> <td>   -0.006</td> <td>   -0.001</td>\n",
       "</tr>\n",
       "<tr>\n",
       "  <th>X3</th> <td>    0.0322</td> <td>    0.004</td> <td>    8.503</td> <td> 0.000</td> <td>    0.025</td> <td>    0.040</td>\n",
       "</tr>\n",
       "<tr>\n",
       "  <th>X4</th> <td>   -0.0180</td> <td>    0.002</td> <td>   -7.375</td> <td> 0.000</td> <td>   -0.023</td> <td>   -0.013</td>\n",
       "</tr>\n",
       "<tr>\n",
       "  <th>X5</th> <td>    5.2960</td> <td>    0.224</td> <td>   23.643</td> <td> 0.000</td> <td>    4.856</td> <td>    5.736</td>\n",
       "</tr>\n",
       "<tr>\n",
       "  <th>X7</th> <td>   19.9608</td> <td>    0.823</td> <td>   24.246</td> <td> 0.000</td> <td>   18.345</td> <td>   21.577</td>\n",
       "</tr>\n",
       "<tr>\n",
       "  <th>X8</th> <td>    0.2063</td> <td>    0.071</td> <td>    2.917</td> <td> 0.004</td> <td>    0.067</td> <td>    0.345</td>\n",
       "</tr>\n",
       "</table>\n",
       "<table class=\"simpletable\">\n",
       "<tr>\n",
       "  <th>Omnibus:</th>       <td>13.560</td> <th>  Durbin-Watson:     </th> <td>   0.608</td>\n",
       "</tr>\n",
       "<tr>\n",
       "  <th>Prob(Omnibus):</th> <td> 0.001</td> <th>  Jarque-Bera (JB):  </th> <td>  24.003</td>\n",
       "</tr>\n",
       "<tr>\n",
       "  <th>Skew:</th>          <td>-0.005</td> <th>  Prob(JB):          </th> <td>6.14e-06</td>\n",
       "</tr>\n",
       "<tr>\n",
       "  <th>Kurtosis:</th>      <td> 3.866</td> <th>  Cond. No.          </th> <td>3.22e+16</td>\n",
       "</tr>\n",
       "</table><br/><br/>Notes:<br/>[1] R² is computed without centering (uncentered) since the model does not contain a constant.<br/>[2] Standard Errors assume that the covariance matrix of the errors is correctly specified.<br/>[3] The smallest eigenvalue is 4.4e-25. This might indicate that there are<br/>strong multicollinearity problems or that the design matrix is singular."
      ],
      "text/plain": [
       "<class 'statsmodels.iolib.summary.Summary'>\n",
       "\"\"\"\n",
       "                                 OLS Regression Results                                \n",
       "=======================================================================================\n",
       "Dep. Variable:                     Y1   R-squared (uncentered):                   0.985\n",
       "Model:                            OLS   Adj. R-squared (uncentered):              0.985\n",
       "Method:                 Least Squares   F-statistic:                              8582.\n",
       "Date:                Mon, 06 Dec 2021   Prob (F-statistic):                        0.00\n",
       "Time:                        15:32:26   Log-Likelihood:                         -1922.2\n",
       "No. Observations:                 768   AIC:                                      3856.\n",
       "Df Residuals:                     762   BIC:                                      3884.\n",
       "Df Model:                           6                                                  \n",
       "Covariance Type:            nonrobust                                                  \n",
       "==============================================================================\n",
       "                 coef    std err          t      P>|t|      [0.025      0.975]\n",
       "------------------------------------------------------------------------------\n",
       "X1           -20.0741      1.796    -11.180      0.000     -23.599     -16.549\n",
       "X2            -0.0037      0.001     -2.997      0.003      -0.006      -0.001\n",
       "X3             0.0322      0.004      8.503      0.000       0.025       0.040\n",
       "X4            -0.0180      0.002     -7.375      0.000      -0.023      -0.013\n",
       "X5             5.2960      0.224     23.643      0.000       4.856       5.736\n",
       "X7            19.9608      0.823     24.246      0.000      18.345      21.577\n",
       "X8             0.2063      0.071      2.917      0.004       0.067       0.345\n",
       "==============================================================================\n",
       "Omnibus:                       13.560   Durbin-Watson:                   0.608\n",
       "Prob(Omnibus):                  0.001   Jarque-Bera (JB):               24.003\n",
       "Skew:                          -0.005   Prob(JB):                     6.14e-06\n",
       "Kurtosis:                       3.866   Cond. No.                     3.22e+16\n",
       "==============================================================================\n",
       "\n",
       "Notes:\n",
       "[1] R² is computed without centering (uncentered) since the model does not contain a constant.\n",
       "[2] Standard Errors assume that the covariance matrix of the errors is correctly specified.\n",
       "[3] The smallest eigenvalue is 4.4e-25. This might indicate that there are\n",
       "strong multicollinearity problems or that the design matrix is singular.\n",
       "\"\"\""
      ]
     },
     "execution_count": 56,
     "metadata": {},
     "output_type": "execute_result"
    }
   ],
   "source": [
    "train_cols = df.columns[[0,1,2,3,4,6,7]]\n",
    "X = df[train_cols]\n",
    "y = df[\"Y1\"]\n",
    "\n",
    "model = sm.OLS(y, X)\n",
    "result = model.fit()\n",
    "\n",
    "result.summary()"
   ]
  },
  {
   "cell_type": "code",
   "execution_count": 58,
   "metadata": {},
   "outputs": [
    {
     "data": {
      "text/html": [
       "<table class=\"simpletable\">\n",
       "<caption>OLS Regression Results</caption>\n",
       "<tr>\n",
       "  <th>Dep. Variable:</th>           <td>Y2</td>        <th>  R-squared (uncentered):</th>      <td>   0.985</td>\n",
       "</tr>\n",
       "<tr>\n",
       "  <th>Model:</th>                   <td>OLS</td>       <th>  Adj. R-squared (uncentered):</th> <td>   0.985</td>\n",
       "</tr>\n",
       "<tr>\n",
       "  <th>Method:</th>             <td>Least Squares</td>  <th>  F-statistic:       </th>          <td>   7132.</td>\n",
       "</tr>\n",
       "<tr>\n",
       "  <th>Date:</th>             <td>Mon, 06 Dec 2021</td> <th>  Prob (F-statistic):</th>           <td>  0.00</td> \n",
       "</tr>\n",
       "<tr>\n",
       "  <th>Time:</th>                 <td>15:39:39</td>     <th>  Log-Likelihood:    </th>          <td> -1990.2</td>\n",
       "</tr>\n",
       "<tr>\n",
       "  <th>No. Observations:</th>      <td>   768</td>      <th>  AIC:               </th>          <td>   3994.</td>\n",
       "</tr>\n",
       "<tr>\n",
       "  <th>Df Residuals:</th>          <td>   761</td>      <th>  BIC:               </th>          <td>   4027.</td>\n",
       "</tr>\n",
       "<tr>\n",
       "  <th>Df Model:</th>              <td>     7</td>      <th>                     </th>              <td> </td>   \n",
       "</tr>\n",
       "<tr>\n",
       "  <th>Covariance Type:</th>      <td>nonrobust</td>    <th>                     </th>              <td> </td>   \n",
       "</tr>\n",
       "</table>\n",
       "<table class=\"simpletable\">\n",
       "<tr>\n",
       "   <td></td>     <th>coef</th>     <th>std err</th>      <th>t</th>      <th>P>|t|</th>  <th>[0.025</th>    <th>0.975]</th>  \n",
       "</tr>\n",
       "<tr>\n",
       "  <th>X1</th> <td>  -19.0135</td> <td>    1.973</td> <td>   -9.638</td> <td> 0.000</td> <td>  -22.886</td> <td>  -15.141</td>\n",
       "</tr>\n",
       "<tr>\n",
       "  <th>X2</th> <td>    0.0021</td> <td>    0.001</td> <td>    1.522</td> <td> 0.128</td> <td>   -0.001</td> <td>    0.005</td>\n",
       "</tr>\n",
       "<tr>\n",
       "  <th>X3</th> <td>    0.0180</td> <td>    0.004</td> <td>    4.343</td> <td> 0.000</td> <td>    0.010</td> <td>    0.026</td>\n",
       "</tr>\n",
       "<tr>\n",
       "  <th>X4</th> <td>   -0.0079</td> <td>    0.003</td> <td>   -2.977</td> <td> 0.003</td> <td>   -0.013</td> <td>   -0.003</td>\n",
       "</tr>\n",
       "<tr>\n",
       "  <th>X5</th> <td>    5.5881</td> <td>    0.245</td> <td>   22.812</td> <td> 0.000</td> <td>    5.107</td> <td>    6.069</td>\n",
       "</tr>\n",
       "<tr>\n",
       "  <th>X6</th> <td>    0.1299</td> <td>    0.105</td> <td>    1.241</td> <td> 0.215</td> <td>   -0.076</td> <td>    0.335</td>\n",
       "</tr>\n",
       "<tr>\n",
       "  <th>X7</th> <td>   14.7496</td> <td>    0.900</td> <td>   16.386</td> <td> 0.000</td> <td>   12.983</td> <td>   16.517</td>\n",
       "</tr>\n",
       "<tr>\n",
       "  <th>X8</th> <td>    0.0436</td> <td>    0.077</td> <td>    0.564</td> <td> 0.573</td> <td>   -0.108</td> <td>    0.195</td>\n",
       "</tr>\n",
       "</table>\n",
       "<table class=\"simpletable\">\n",
       "<tr>\n",
       "  <th>Omnibus:</th>       <td>77.438</td> <th>  Durbin-Watson:     </th> <td>   1.037</td>\n",
       "</tr>\n",
       "<tr>\n",
       "  <th>Prob(Omnibus):</th> <td> 0.000</td> <th>  Jarque-Bera (JB):  </th> <td> 164.254</td>\n",
       "</tr>\n",
       "<tr>\n",
       "  <th>Skew:</th>          <td> 0.596</td> <th>  Prob(JB):          </th> <td>2.15e-36</td>\n",
       "</tr>\n",
       "<tr>\n",
       "  <th>Kurtosis:</th>      <td> 4.927</td> <th>  Cond. No.          </th> <td>3.22e+16</td>\n",
       "</tr>\n",
       "</table><br/><br/>Notes:<br/>[1] R² is computed without centering (uncentered) since the model does not contain a constant.<br/>[2] Standard Errors assume that the covariance matrix of the errors is correctly specified.<br/>[3] The smallest eigenvalue is 4.39e-25. This might indicate that there are<br/>strong multicollinearity problems or that the design matrix is singular."
      ],
      "text/plain": [
       "<class 'statsmodels.iolib.summary.Summary'>\n",
       "\"\"\"\n",
       "                                 OLS Regression Results                                \n",
       "=======================================================================================\n",
       "Dep. Variable:                     Y2   R-squared (uncentered):                   0.985\n",
       "Model:                            OLS   Adj. R-squared (uncentered):              0.985\n",
       "Method:                 Least Squares   F-statistic:                              7132.\n",
       "Date:                Mon, 06 Dec 2021   Prob (F-statistic):                        0.00\n",
       "Time:                        15:39:39   Log-Likelihood:                         -1990.2\n",
       "No. Observations:                 768   AIC:                                      3994.\n",
       "Df Residuals:                     761   BIC:                                      4027.\n",
       "Df Model:                           7                                                  \n",
       "Covariance Type:            nonrobust                                                  \n",
       "==============================================================================\n",
       "                 coef    std err          t      P>|t|      [0.025      0.975]\n",
       "------------------------------------------------------------------------------\n",
       "X1           -19.0135      1.973     -9.638      0.000     -22.886     -15.141\n",
       "X2             0.0021      0.001      1.522      0.128      -0.001       0.005\n",
       "X3             0.0180      0.004      4.343      0.000       0.010       0.026\n",
       "X4            -0.0079      0.003     -2.977      0.003      -0.013      -0.003\n",
       "X5             5.5881      0.245     22.812      0.000       5.107       6.069\n",
       "X6             0.1299      0.105      1.241      0.215      -0.076       0.335\n",
       "X7            14.7496      0.900     16.386      0.000      12.983      16.517\n",
       "X8             0.0436      0.077      0.564      0.573      -0.108       0.195\n",
       "==============================================================================\n",
       "Omnibus:                       77.438   Durbin-Watson:                   1.037\n",
       "Prob(Omnibus):                  0.000   Jarque-Bera (JB):              164.254\n",
       "Skew:                           0.596   Prob(JB):                     2.15e-36\n",
       "Kurtosis:                       4.927   Cond. No.                     3.22e+16\n",
       "==============================================================================\n",
       "\n",
       "Notes:\n",
       "[1] R² is computed without centering (uncentered) since the model does not contain a constant.\n",
       "[2] Standard Errors assume that the covariance matrix of the errors is correctly specified.\n",
       "[3] The smallest eigenvalue is 4.39e-25. This might indicate that there are\n",
       "strong multicollinearity problems or that the design matrix is singular.\n",
       "\"\"\""
      ]
     },
     "execution_count": 58,
     "metadata": {},
     "output_type": "execute_result"
    }
   ],
   "source": [
    "train_cols = df.columns[0:8]\n",
    "X = df[train_cols]\n",
    "y = df[\"Y2\"]\n",
    "\n",
    "model = sm.OLS(y, X)\n",
    "result = model.fit()\n",
    "\n",
    "result.summary()"
   ]
  },
  {
   "cell_type": "code",
   "execution_count": 59,
   "metadata": {},
   "outputs": [
    {
     "name": "stdout",
     "output_type": "stream",
     "text": [
      "학습용:  0.8824724641607591\n",
      "검증용:  0.907978623553135\n"
     ]
    }
   ],
   "source": [
    "X_train, X_test, y_train, y_test = train_test_split(X, y, test_size=0.2, random_state=10)\n",
    "model = LinearRegression().fit(X_train, y_train)\n",
    "print(\"학습용: \", model.score(X_train, y_train))\n",
    "print(\"검증용: \", model.score(X_test, y_test))"
   ]
  },
  {
   "cell_type": "code",
   "execution_count": 61,
   "metadata": {},
   "outputs": [
    {
     "data": {
      "text/html": [
       "<div>\n",
       "<style scoped>\n",
       "    .dataframe tbody tr th:only-of-type {\n",
       "        vertical-align: middle;\n",
       "    }\n",
       "\n",
       "    .dataframe tbody tr th {\n",
       "        vertical-align: top;\n",
       "    }\n",
       "\n",
       "    .dataframe thead th {\n",
       "        text-align: right;\n",
       "    }\n",
       "</style>\n",
       "<table border=\"1\" class=\"dataframe\">\n",
       "  <thead>\n",
       "    <tr style=\"text-align: right;\">\n",
       "      <th></th>\n",
       "      <th>weekend</th>\n",
       "      <th>num.child</th>\n",
       "      <th>distance</th>\n",
       "      <th>rides</th>\n",
       "      <th>games</th>\n",
       "      <th>wait</th>\n",
       "      <th>clean</th>\n",
       "      <th>overall</th>\n",
       "    </tr>\n",
       "  </thead>\n",
       "  <tbody>\n",
       "    <tr>\n",
       "      <th>0</th>\n",
       "      <td>yes</td>\n",
       "      <td>0</td>\n",
       "      <td>114.648259</td>\n",
       "      <td>87</td>\n",
       "      <td>73</td>\n",
       "      <td>60</td>\n",
       "      <td>89</td>\n",
       "      <td>47</td>\n",
       "    </tr>\n",
       "    <tr>\n",
       "      <th>1</th>\n",
       "      <td>yes</td>\n",
       "      <td>2</td>\n",
       "      <td>27.014097</td>\n",
       "      <td>87</td>\n",
       "      <td>78</td>\n",
       "      <td>76</td>\n",
       "      <td>87</td>\n",
       "      <td>65</td>\n",
       "    </tr>\n",
       "    <tr>\n",
       "      <th>2</th>\n",
       "      <td>no</td>\n",
       "      <td>1</td>\n",
       "      <td>63.300975</td>\n",
       "      <td>85</td>\n",
       "      <td>80</td>\n",
       "      <td>70</td>\n",
       "      <td>88</td>\n",
       "      <td>61</td>\n",
       "    </tr>\n",
       "    <tr>\n",
       "      <th>3</th>\n",
       "      <td>yes</td>\n",
       "      <td>0</td>\n",
       "      <td>25.909931</td>\n",
       "      <td>88</td>\n",
       "      <td>72</td>\n",
       "      <td>66</td>\n",
       "      <td>89</td>\n",
       "      <td>37</td>\n",
       "    </tr>\n",
       "    <tr>\n",
       "      <th>4</th>\n",
       "      <td>no</td>\n",
       "      <td>4</td>\n",
       "      <td>54.718307</td>\n",
       "      <td>84</td>\n",
       "      <td>87</td>\n",
       "      <td>74</td>\n",
       "      <td>87</td>\n",
       "      <td>68</td>\n",
       "    </tr>\n",
       "  </tbody>\n",
       "</table>\n",
       "</div>"
      ],
      "text/plain": [
       "  weekend  num.child    distance  rides  games  wait  clean  overall\n",
       "0     yes          0  114.648259     87     73    60     89       47\n",
       "1     yes          2   27.014097     87     78    76     87       65\n",
       "2      no          1   63.300975     85     80    70     88       61\n",
       "3     yes          0   25.909931     88     72    66     89       37\n",
       "4      no          4   54.718307     84     87    74     87       68"
      ]
     },
     "execution_count": 61,
     "metadata": {},
     "output_type": "execute_result"
    }
   ],
   "source": [
    "df = pd.read_csv(\"c:/data/rides/rides.csv\")\n",
    "df.head()"
   ]
  },
  {
   "cell_type": "code",
   "execution_count": 62,
   "metadata": {},
   "outputs": [
    {
     "data": {
      "text/html": [
       "<div>\n",
       "<style scoped>\n",
       "    .dataframe tbody tr th:only-of-type {\n",
       "        vertical-align: middle;\n",
       "    }\n",
       "\n",
       "    .dataframe tbody tr th {\n",
       "        vertical-align: top;\n",
       "    }\n",
       "\n",
       "    .dataframe thead th {\n",
       "        text-align: right;\n",
       "    }\n",
       "</style>\n",
       "<table border=\"1\" class=\"dataframe\">\n",
       "  <thead>\n",
       "    <tr style=\"text-align: right;\">\n",
       "      <th></th>\n",
       "      <th>num.child</th>\n",
       "      <th>distance</th>\n",
       "      <th>rides</th>\n",
       "      <th>games</th>\n",
       "      <th>wait</th>\n",
       "      <th>clean</th>\n",
       "      <th>overall</th>\n",
       "      <th>weekend_no</th>\n",
       "      <th>weekend_yes</th>\n",
       "    </tr>\n",
       "  </thead>\n",
       "  <tbody>\n",
       "    <tr>\n",
       "      <th>0</th>\n",
       "      <td>0</td>\n",
       "      <td>114.648259</td>\n",
       "      <td>87</td>\n",
       "      <td>73</td>\n",
       "      <td>60</td>\n",
       "      <td>89</td>\n",
       "      <td>47</td>\n",
       "      <td>0</td>\n",
       "      <td>1</td>\n",
       "    </tr>\n",
       "    <tr>\n",
       "      <th>1</th>\n",
       "      <td>2</td>\n",
       "      <td>27.014097</td>\n",
       "      <td>87</td>\n",
       "      <td>78</td>\n",
       "      <td>76</td>\n",
       "      <td>87</td>\n",
       "      <td>65</td>\n",
       "      <td>0</td>\n",
       "      <td>1</td>\n",
       "    </tr>\n",
       "    <tr>\n",
       "      <th>2</th>\n",
       "      <td>1</td>\n",
       "      <td>63.300975</td>\n",
       "      <td>85</td>\n",
       "      <td>80</td>\n",
       "      <td>70</td>\n",
       "      <td>88</td>\n",
       "      <td>61</td>\n",
       "      <td>1</td>\n",
       "      <td>0</td>\n",
       "    </tr>\n",
       "    <tr>\n",
       "      <th>3</th>\n",
       "      <td>0</td>\n",
       "      <td>25.909931</td>\n",
       "      <td>88</td>\n",
       "      <td>72</td>\n",
       "      <td>66</td>\n",
       "      <td>89</td>\n",
       "      <td>37</td>\n",
       "      <td>0</td>\n",
       "      <td>1</td>\n",
       "    </tr>\n",
       "    <tr>\n",
       "      <th>4</th>\n",
       "      <td>4</td>\n",
       "      <td>54.718307</td>\n",
       "      <td>84</td>\n",
       "      <td>87</td>\n",
       "      <td>74</td>\n",
       "      <td>87</td>\n",
       "      <td>68</td>\n",
       "      <td>1</td>\n",
       "      <td>0</td>\n",
       "    </tr>\n",
       "  </tbody>\n",
       "</table>\n",
       "</div>"
      ],
      "text/plain": [
       "   num.child    distance  rides  games  wait  clean  overall  weekend_no  \\\n",
       "0          0  114.648259     87     73    60     89       47           0   \n",
       "1          2   27.014097     87     78    76     87       65           0   \n",
       "2          1   63.300975     85     80    70     88       61           1   \n",
       "3          0   25.909931     88     72    66     89       37           0   \n",
       "4          4   54.718307     84     87    74     87       68           1   \n",
       "\n",
       "   weekend_yes  \n",
       "0            1  \n",
       "1            1  \n",
       "2            0  \n",
       "3            1  \n",
       "4            0  "
      ]
     },
     "execution_count": 62,
     "metadata": {},
     "output_type": "execute_result"
    }
   ],
   "source": [
    "df2 = pd.get_dummies(df['weekend'], prefix='weekend')\n",
    "df = pd.concat([df, df2], axis=1)\n",
    "del df['weekend']\n",
    "df.head()"
   ]
  },
  {
   "cell_type": "code",
   "execution_count": 63,
   "metadata": {},
   "outputs": [
    {
     "data": {
      "text/html": [
       "<table class=\"simpletable\">\n",
       "<caption>OLS Regression Results</caption>\n",
       "<tr>\n",
       "  <th>Dep. Variable:</th>         <td>overall</td>     <th>  R-squared:         </th> <td>   0.683</td> \n",
       "</tr>\n",
       "<tr>\n",
       "  <th>Model:</th>                   <td>OLS</td>       <th>  Adj. R-squared:    </th> <td>   0.679</td> \n",
       "</tr>\n",
       "<tr>\n",
       "  <th>Method:</th>             <td>Least Squares</td>  <th>  F-statistic:       </th> <td>   151.6</td> \n",
       "</tr>\n",
       "<tr>\n",
       "  <th>Date:</th>             <td>Mon, 06 Dec 2021</td> <th>  Prob (F-statistic):</th> <td>1.73e-118</td>\n",
       "</tr>\n",
       "<tr>\n",
       "  <th>Time:</th>                 <td>15:55:26</td>     <th>  Log-Likelihood:    </th> <td> -1804.1</td> \n",
       "</tr>\n",
       "<tr>\n",
       "  <th>No. Observations:</th>      <td>   500</td>      <th>  AIC:               </th> <td>   3624.</td> \n",
       "</tr>\n",
       "<tr>\n",
       "  <th>Df Residuals:</th>          <td>   492</td>      <th>  BIC:               </th> <td>   3658.</td> \n",
       "</tr>\n",
       "<tr>\n",
       "  <th>Df Model:</th>              <td>     7</td>      <th>                     </th>     <td> </td>    \n",
       "</tr>\n",
       "<tr>\n",
       "  <th>Covariance Type:</th>      <td>nonrobust</td>    <th>                     </th>     <td> </td>    \n",
       "</tr>\n",
       "</table>\n",
       "<table class=\"simpletable\">\n",
       "<tr>\n",
       "       <td></td>          <th>coef</th>     <th>std err</th>      <th>t</th>      <th>P>|t|</th>  <th>[0.025</th>    <th>0.975]</th>  \n",
       "</tr>\n",
       "<tr>\n",
       "  <th>num.child</th>   <td>    3.6160</td> <td>    0.270</td> <td>   13.403</td> <td> 0.000</td> <td>    3.086</td> <td>    4.146</td>\n",
       "</tr>\n",
       "<tr>\n",
       "  <th>distance</th>    <td>    0.0449</td> <td>    0.012</td> <td>    3.686</td> <td> 0.000</td> <td>    0.021</td> <td>    0.069</td>\n",
       "</tr>\n",
       "<tr>\n",
       "  <th>rides</th>       <td>    0.6136</td> <td>    0.121</td> <td>    5.072</td> <td> 0.000</td> <td>    0.376</td> <td>    0.851</td>\n",
       "</tr>\n",
       "<tr>\n",
       "  <th>games</th>       <td>    0.1383</td> <td>    0.059</td> <td>    2.356</td> <td> 0.019</td> <td>    0.023</td> <td>    0.254</td>\n",
       "</tr>\n",
       "<tr>\n",
       "  <th>wait</th>        <td>    0.5648</td> <td>    0.041</td> <td>   13.896</td> <td> 0.000</td> <td>    0.485</td> <td>    0.645</td>\n",
       "</tr>\n",
       "<tr>\n",
       "  <th>clean</th>       <td>    0.9272</td> <td>    0.136</td> <td>    6.821</td> <td> 0.000</td> <td>    0.660</td> <td>    1.194</td>\n",
       "</tr>\n",
       "<tr>\n",
       "  <th>weekend_no</th>  <td> -140.6125</td> <td>    7.154</td> <td>  -19.655</td> <td> 0.000</td> <td> -154.669</td> <td> -126.556</td>\n",
       "</tr>\n",
       "<tr>\n",
       "  <th>weekend_yes</th> <td> -141.3283</td> <td>    7.121</td> <td>  -19.847</td> <td> 0.000</td> <td> -155.319</td> <td> -127.337</td>\n",
       "</tr>\n",
       "</table>\n",
       "<table class=\"simpletable\">\n",
       "<tr>\n",
       "  <th>Omnibus:</th>       <td> 2.188</td> <th>  Durbin-Watson:     </th> <td>   2.007</td>\n",
       "</tr>\n",
       "<tr>\n",
       "  <th>Prob(Omnibus):</th> <td> 0.335</td> <th>  Jarque-Bera (JB):  </th> <td>   1.943</td>\n",
       "</tr>\n",
       "<tr>\n",
       "  <th>Skew:</th>          <td>-0.050</td> <th>  Prob(JB):          </th> <td>   0.379</td>\n",
       "</tr>\n",
       "<tr>\n",
       "  <th>Kurtosis:</th>      <td> 2.712</td> <th>  Cond. No.          </th> <td>4.14e+03</td>\n",
       "</tr>\n",
       "</table><br/><br/>Notes:<br/>[1] Standard Errors assume that the covariance matrix of the errors is correctly specified.<br/>[2] The condition number is large, 4.14e+03. This might indicate that there are<br/>strong multicollinearity or other numerical problems."
      ],
      "text/plain": [
       "<class 'statsmodels.iolib.summary.Summary'>\n",
       "\"\"\"\n",
       "                            OLS Regression Results                            \n",
       "==============================================================================\n",
       "Dep. Variable:                overall   R-squared:                       0.683\n",
       "Model:                            OLS   Adj. R-squared:                  0.679\n",
       "Method:                 Least Squares   F-statistic:                     151.6\n",
       "Date:                Mon, 06 Dec 2021   Prob (F-statistic):          1.73e-118\n",
       "Time:                        15:55:26   Log-Likelihood:                -1804.1\n",
       "No. Observations:                 500   AIC:                             3624.\n",
       "Df Residuals:                     492   BIC:                             3658.\n",
       "Df Model:                           7                                         \n",
       "Covariance Type:            nonrobust                                         \n",
       "===============================================================================\n",
       "                  coef    std err          t      P>|t|      [0.025      0.975]\n",
       "-------------------------------------------------------------------------------\n",
       "num.child       3.6160      0.270     13.403      0.000       3.086       4.146\n",
       "distance        0.0449      0.012      3.686      0.000       0.021       0.069\n",
       "rides           0.6136      0.121      5.072      0.000       0.376       0.851\n",
       "games           0.1383      0.059      2.356      0.019       0.023       0.254\n",
       "wait            0.5648      0.041     13.896      0.000       0.485       0.645\n",
       "clean           0.9272      0.136      6.821      0.000       0.660       1.194\n",
       "weekend_no   -140.6125      7.154    -19.655      0.000    -154.669    -126.556\n",
       "weekend_yes  -141.3283      7.121    -19.847      0.000    -155.319    -127.337\n",
       "==============================================================================\n",
       "Omnibus:                        2.188   Durbin-Watson:                   2.007\n",
       "Prob(Omnibus):                  0.335   Jarque-Bera (JB):                1.943\n",
       "Skew:                          -0.050   Prob(JB):                        0.379\n",
       "Kurtosis:                       2.712   Cond. No.                     4.14e+03\n",
       "==============================================================================\n",
       "\n",
       "Notes:\n",
       "[1] Standard Errors assume that the covariance matrix of the errors is correctly specified.\n",
       "[2] The condition number is large, 4.14e+03. This might indicate that there are\n",
       "strong multicollinearity or other numerical problems.\n",
       "\"\"\""
      ]
     },
     "execution_count": 63,
     "metadata": {},
     "output_type": "execute_result"
    }
   ],
   "source": [
    "X = df[['num.child', 'distance', 'rides', 'games', 'wait', 'clean', 'weekend_no', 'weekend_yes']]\n",
    "y = df['overall']\n",
    "\n",
    "model = sm.OLS(y, X)\n",
    "result = model.fit()\n",
    "\n",
    "result.summary()"
   ]
  },
  {
   "cell_type": "code",
   "execution_count": 64,
   "metadata": {},
   "outputs": [
    {
     "data": {
      "text/plain": [
       "array([54.20768166])"
      ]
     },
     "execution_count": 64,
     "metadata": {},
     "output_type": "execute_result"
    }
   ],
   "source": [
    "result.predict([2, 20, 80, 70, 80, 90, 0, 1])"
   ]
  },
  {
   "cell_type": "code",
   "execution_count": 65,
   "metadata": {},
   "outputs": [
    {
     "name": "stdout",
     "output_type": "stream",
     "text": [
      "학습:  0.6670609590984946\n",
      "검증:  0.7212343349658579\n"
     ]
    }
   ],
   "source": [
    "X_train, X_test, y_train, y_test = train_test_split(X, y, test_size=0.2, random_state=10)\n",
    "model = LinearRegression().fit(X_train, y_train)\n",
    "print(\"학습: \", model.score(X_train, y_train))\n",
    "print(\"검증: \", model.score(X_test, y_test))"
   ]
  },
  {
   "cell_type": "code",
   "execution_count": 66,
   "metadata": {},
   "outputs": [
    {
     "data": {
      "text/plain": [
       "array([57.97589809])"
      ]
     },
     "execution_count": 66,
     "metadata": {},
     "output_type": "execute_result"
    }
   ],
   "source": [
    "model.predict([[3, 10, 80, 70, 80, 90, 1, 0]])\n",
    "\n",
    "# sklearn으로 만든 모형은 2차원 배열로 써야 함"
   ]
  },
  {
   "cell_type": "code",
   "execution_count": 68,
   "metadata": {},
   "outputs": [
    {
     "data": {
      "text/plain": [
       "['c:/data/rides/rides_regress.model']"
      ]
     },
     "execution_count": 68,
     "metadata": {},
     "output_type": "execute_result"
    }
   ],
   "source": [
    "import joblib\n",
    "\n",
    "joblib.dump(model, 'c:/data/rides/rides_regress.model')"
   ]
  },
  {
   "cell_type": "code",
   "execution_count": 69,
   "metadata": {},
   "outputs": [
    {
     "data": {
      "text/plain": [
       "array([53.30062057])"
      ]
     },
     "execution_count": 69,
     "metadata": {},
     "output_type": "execute_result"
    }
   ],
   "source": [
    "model = joblib.load('c:/data/rides/rides_regress.model')\n",
    "\n",
    "model.predict([[2, 20, 80, 70, 80, 90, 0, 1]])"
   ]
  },
  {
   "cell_type": "code",
   "execution_count": null,
   "metadata": {},
   "outputs": [],
   "source": []
  },
  {
   "cell_type": "code",
   "execution_count": null,
   "metadata": {},
   "outputs": [],
   "source": []
  }
 ],
 "metadata": {
  "interpreter": {
   "hash": "cef9e06bb236b2a8629b07e87a04b187b952a0f661eff5533360a155783f0c33"
  },
  "kernelspec": {
   "display_name": "Python 3.8.8 64-bit ('base': conda)",
   "language": "python",
   "name": "python3"
  },
  "language_info": {
   "codemirror_mode": {
    "name": "ipython",
    "version": 3
   },
   "file_extension": ".py",
   "mimetype": "text/x-python",
   "name": "python",
   "nbconvert_exporter": "python",
   "pygments_lexer": "ipython3",
   "version": "3.8.8"
  },
  "orig_nbformat": 4
 },
 "nbformat": 4,
 "nbformat_minor": 2
}
