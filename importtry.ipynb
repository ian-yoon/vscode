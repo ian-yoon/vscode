{
 "cells": [
  {
   "cell_type": "code",
   "execution_count": 2,
   "metadata": {},
   "outputs": [],
   "source": [
    "import csv\n",
    "import MySQLdb"
   ]
  },
  {
   "cell_type": "code",
   "execution_count": 3,
   "metadata": {},
   "outputs": [
    {
     "name": "stdout",
     "output_type": "stream",
     "text": [
      "('AS', 'Alaska Airlines Inc.', 15316)\n",
      "('WN', 'Southwest Airlines Co.', 29129)\n",
      "('PS', 'Pacific Southwest Airlines', 31140)\n",
      "('HP', 'America West Airlines Inc. (Merged with US Airways 9/05. Stopped reporting 10/07.)', 32585)\n",
      "('TW', 'Trans World Airways LLC', 42510)\n",
      "('EA', 'Eastern Air Lines Inc.', 60018)\n",
      "('CO', 'Continental Air Lines Inc.', 62300)\n",
      "('US', 'US Airways Inc. (Merged with America West 9/05. Reporting for both starting 10/07.)', 63959)\n",
      "('NW', 'Northwest Airlines Inc.', 74688)\n",
      "('PI', 'Piedmont Aviation Inc.', 80570)\n",
      "('UA', 'United Air Lines Inc.', 81104)\n",
      "('AA', 'American Airlines Inc.', 83421)\n",
      "('DL', 'Delta Air Lines Inc.', 142189)\n"
     ]
    }
   ],
   "source": [
    "conn = MySQLdb.connect(host='localhost', port=3306, db='ontime', user='web', passwd='1234')\n",
    "cursor = conn.cursor()\n",
    "cursor.execute('''\n",
    "SELECT a.uniquecarrier, c.description, COUNT(*)\n",
    "FROM ontime a, carrier c\n",
    "WHERE a.uniquecarrier = c.code\n",
    "AND a.arrdelay > 0\n",
    "GROUP BY a.uniquecarrier, c.description\n",
    "ORDER BY COUNT(*)\n",
    "''')\n",
    "rows = cursor.fetchall()\n",
    "for row in rows:\n",
    "    print(row)\n",
    "\n",
    "cursor.close()\n",
    "conn.close()"
   ]
  },
  {
   "cell_type": "code",
   "execution_count": 6,
   "metadata": {},
   "outputs": [
    {
     "name": "stdout",
     "output_type": "stream",
     "text": [
      "(10, 448620)\n",
      "(11, 422803)\n",
      "(12, 440403)\n"
     ]
    }
   ],
   "source": [
    "conn = MySQLdb.connect(host='localhost', port=3306, db='ontime', user='web', passwd='1234')\n",
    "cursor = conn.cursor()\n",
    "cursor.execute('''\n",
    "select month, count(*) from ontime\n",
    "group by month\n",
    "''')\n",
    "rows = cursor.fetchall()\n",
    "for row in rows:\n",
    "    print(row)\n",
    "\n",
    "cursor.close()\n",
    "conn.close()"
   ]
  },
  {
   "cell_type": "code",
   "execution_count": 10,
   "metadata": {},
   "outputs": [
    {
     "name": "stdout",
     "output_type": "stream",
     "text": [
      "[10, 11, 12]\n",
      "[448620, 422803, 440403]\n"
     ]
    }
   ],
   "source": [
    "x = [10, 11, 12]\n",
    "y = []\n",
    "for row in rows:\n",
    "    y.append(row[1])\n",
    "print(x)\n",
    "print(y)"
   ]
  },
  {
   "cell_type": "code",
   "execution_count": 11,
   "metadata": {},
   "outputs": [
    {
     "data": {
      "text/plain": [
       "<BarContainer object of 3 artists>"
      ]
     },
     "execution_count": 11,
     "metadata": {},
     "output_type": "execute_result"
    },
    {
     "data": {
      "image/png": "[encoded data removed]",
      "text/plain": [
       "<Figure size 432x288 with 1 Axes>"
      ]
     },
     "metadata": {
      "needs_background": "light"
     },
     "output_type": "display_data"
    }
   ],
   "source": [
    "%matplotlib inline\n",
    "import matplotlib.pyplot as plt\n",
    "\n",
    "plt.plot(x, y)\n",
    "plt.bar(x, y)"
   ]
  },
  {
   "cell_type": "code",
   "execution_count": null,
   "metadata": {},
   "outputs": [],
   "source": [
    "conn = MySQLdb.connect(host='localhost', port=3306, db='ontime', user='web', passwd='1234')\n",
    "cursor = conn.cursor()\n",
    "cursor.execute('''\n",
    "select CRSDepTime, avg(arrdelay) arrdelay\n",
    "from ontime\n",
    "where month=10 and dayofweek=1\n",
    "group by CRSDepTime\n",
    "order by dayofweek\n",
    "limit 1\n",
    "''')\n",
    "rows = cursor.fetchall()\n",
    "for row in rows:\n",
    "    print(row)\n",
    "\n",
    "cursor.close()\n",
    "conn.close()"
   ]
  },
  {
   "cell_type": "code",
   "execution_count": null,
   "metadata": {},
   "outputs": [],
   "source": []
  },
  {
   "cell_type": "code",
   "execution_count": null,
   "metadata": {},
   "outputs": [],
   "source": []
  },
  {
   "cell_type": "code",
   "execution_count": null,
   "metadata": {},
   "outputs": [],
   "source": []
  },
  {
   "cell_type": "code",
   "execution_count": null,
   "metadata": {},
   "outputs": [],
   "source": []
  },
  {
   "cell_type": "code",
   "execution_count": null,
   "metadata": {},
   "outputs": [],
   "source": []
  },
  {
   "cell_type": "code",
   "execution_count": null,
   "metadata": {},
   "outputs": [],
   "source": []
  },
  {
   "cell_type": "code",
   "execution_count": null,
   "metadata": {},
   "outputs": [],
   "source": []
  },
  {
   "cell_type": "code",
   "execution_count": null,
   "metadata": {},
   "outputs": [],
   "source": []
  },
  {
   "cell_type": "code",
   "execution_count": null,
   "metadata": {},
   "outputs": [],
   "source": []
  },
  {
   "cell_type": "code",
   "execution_count": null,
   "metadata": {},
   "outputs": [],
   "source": []
  },
  {
   "cell_type": "code",
   "execution_count": null,
   "metadata": {},
   "outputs": [],
   "source": []
  },
  {
   "cell_type": "code",
   "execution_count": null,
   "metadata": {},
   "outputs": [],
   "source": []
  }
 ],
 "metadata": {
  "interpreter": {
   "hash": "cef9e06bb236b2a8629b07e87a04b187b952a0f661eff5533360a155783f0c33"
  },
  "kernelspec": {
   "display_name": "Python 3.8.8 64-bit ('base': conda)",
   "language": "python",
   "name": "python3"
  },
  "language_info": {
   "codemirror_mode": {
    "name": "ipython",
    "version": 3
   },
   "file_extension": ".py",
   "mimetype": "text/x-python",
   "name": "python",
   "nbconvert_exporter": "python",
   "pygments_lexer": "ipython3",
   "version": "3.8.8"
  },
  "orig_nbformat": 4
 },
 "nbformat": 4,
 "nbformat_minor": 2
}
