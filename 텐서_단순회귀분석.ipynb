{
 "cells": [
  {
   "cell_type": "code",
   "execution_count": null,
   "metadata": {},
   "outputs": [],
   "source": [
    "# 단순회귀분석\n",
    "# 텐서플로 1.0 버전으로"
   ]
  },
  {
   "cell_type": "code",
   "execution_count": 1,
   "metadata": {},
   "outputs": [
    {
     "name": "stdout",
     "output_type": "stream",
     "text": [
      "WARNING:tensorflow:From /Library/Frameworks/Python.framework/Versions/3.8/lib/python3.8/site-packages/tensorflow/python/compat/v2_compat.py:111: disable_resource_variables (from tensorflow.python.ops.variable_scope) is deprecated and will be removed in a future version.\n",
      "Instructions for updating:\n",
      "non-resource variables are not supported in the long term\n"
     ]
    }
   ],
   "source": [
    "import tensorflow.compat.v1 as tf\n",
    "tf.disable_v2_behavior()\n",
    "\n",
    "learning_rate = 0.01 # 학습률 설정. 기울기를 얼만큼 이동시킬 것인지\n",
    "epochs = 1000 # 학습 횟수\n",
    "step_display = 50 # 출력은 50번에 한번씩\n",
    "\n",
    "x = [3.52, 2.58, 3.31, 4.07, 4.62, 3.98, 4.29, 4.83, 3.71, 4.61, 3.90, 3.20]\n",
    "y = [2.48, 2.27, 2.47, 2.77, 2.98, 3.05, 3.18, 3.46, 3.03, 3.25, 2.67, 2.53]\n",
    "\n",
    "weight = tf.Variable(tf.random_uniform([1],-1.0,1.0), name=\"weight\") # 가중치\n",
    "bias = tf.Variable(tf.random_uniform([1],-1.0,1.0), name=\"bias\") # 절편\n",
    "\n",
    "X = tf.placeholder(dtype=tf.float32, name=\"X\")\n",
    "Y = tf.placeholder(dtype=tf.float32, name=\"Y\")"
   ]
  },
  {
   "cell_type": "code",
   "execution_count": 2,
   "metadata": {},
   "outputs": [
    {
     "name": "stderr",
     "output_type": "stream",
     "text": [
      "2021-12-24 10:20:13.657370: I tensorflow/core/platform/cpu_feature_guard.cc:151] This TensorFlow binary is optimized with oneAPI Deep Neural Network Library (oneDNN) to use the following CPU instructions in performance-critical operations:  AVX2 FMA\n",
      "To enable them in other operations, rebuild TensorFlow with the appropriate compiler flags.\n"
     ]
    }
   ],
   "source": [
    "y_pred = tf.add(tf.multiply(weight, X), bias) # 1차함수 출력값\n",
    "cost = tf.reduce_mean(tf.square(y_pred - Y)) # 손실함수\n",
    "optimizer = tf.train.AdamOptimizer(learning_rate).minimize(cost) # 오차를 최소로 만드는 최적화함수\n",
    "\n",
    "init = tf.global_variables_initializer() # 변수 초기화\n",
    "sess = tf.Session()\n",
    "sess.run(init)"
   ]
  },
  {
   "cell_type": "code",
   "execution_count": 3,
   "metadata": {},
   "outputs": [
    {
     "name": "stdout",
     "output_type": "stream",
     "text": [
      "Epoch: 50, cost: 0.05119900405406952, weight: [0.7341831], bias: [-0.06464151]\n",
      "Epoch: 100, cost: 0.04770997166633606, weight: [0.72925574], bias: [-0.01093418]\n",
      "Epoch: 150, cost: 0.044972073286771774, weight: [0.7153203], bias: [0.04798573]\n",
      "Epoch: 200, cost: 0.042133063077926636, weight: [0.6988725], bias: [0.11294726]\n",
      "Epoch: 250, cost: 0.03936782106757164, weight: [0.6815527], bias: [0.18169175]\n",
      "Epoch: 300, cost: 0.03679993748664856, weight: [0.6638905], bias: [0.2517733]\n",
      "Epoch: 350, cost: 0.034503232687711716, weight: [0.6463642], bias: [0.3213185]\n",
      "Epoch: 400, cost: 0.0325133390724659, weight: [0.62934566], bias: [0.38885003]\n",
      "Epoch: 450, cost: 0.030836990103125572, weight: [0.6131209], bias: [0.45323306]\n",
      "Epoch: 500, cost: 0.029460541903972626, weight: [0.59790057], bias: [0.5136308]\n",
      "Epoch: 550, cost: 0.028357097879052162, weight: [0.58383], bias: [0.569467]\n",
      "Epoch: 600, cost: 0.027492433786392212, weight: [0.570997], bias: [0.6203918]\n",
      "Epoch: 650, cost: 0.026829605922102928, weight: [0.55944145], bias: [0.666248]\n",
      "Epoch: 700, cost: 0.02633221447467804, weight: [0.54916215], bias: [0.7070401]\n",
      "Epoch: 750, cost: 0.025966757908463478, weight: [0.54012495], bias: [0.74290246]\n",
      "Epoch: 800, cost: 0.02570369653403759, weight: [0.5322705], bias: [0.7740719]\n",
      "Epoch: 850, cost: 0.025518223643302917, weight: [0.5255202], bias: [0.80085987]\n",
      "Epoch: 900, cost: 0.02539009042084217, weight: [0.5197827], bias: [0.823628]\n",
      "Epoch: 950, cost: 0.025303363800048828, weight: [0.5149594], bias: [0.8427687]\n",
      "Epoch: 1000, cost: 0.025245873257517815, weight: [0.5109489], bias: [0.85868436]\n"
     ]
    }
   ],
   "source": [
    "for epoch in range(epochs):\n",
    "    _, cost_val = sess.run([optimizer, cost], feed_dict={X: x, Y: y})\n",
    "    if (epoch + 1) % step_display == 0:\n",
    "        print(\"Epoch: {0}, cost: {1}, weight: {2}, bias: {3}\".format(epoch+1,\n",
    "        cost_val, sess.run(weight), sess.run(bias)))"
   ]
  },
  {
   "cell_type": "code",
   "execution_count": 4,
   "metadata": {},
   "outputs": [
    {
     "name": "stdout",
     "output_type": "stream",
     "text": [
      "최종 cost:  0.025245873\n",
      "정확도:  99.97475412674248\n",
      "최종 가중치:  [0.5109489]\n",
      "최종 절편:  [0.85868436]\n"
     ]
    }
   ],
   "source": [
    "training_cost = sess.run(cost, feed_dict={X: x, Y: y})\n",
    "\n",
    "print(\"최종 cost: \",cost_val)\n",
    "print(\"정확도: \",100-cost_val)\n",
    "print(\"최종 가중치: \",sess.run(weight))\n",
    "print(\"최종 절편: \",sess.run(bias))"
   ]
  },
  {
   "cell_type": "code",
   "execution_count": 5,
   "metadata": {},
   "outputs": [
    {
     "name": "stdout",
     "output_type": "stream",
     "text": [
      "X: 5, Y:  [3.4134288]\n",
      "X: 2.5, Y:  [2.1360567]\n"
     ]
    }
   ],
   "source": [
    "print(\"X: 5, Y: \",sess.run(y_pred, feed_dict={X: 5}))\n",
    "print(\"X: 2.5, Y: \",sess.run(y_pred, feed_dict={X: 2.5}))"
   ]
  },
  {
   "cell_type": "code",
   "execution_count": 6,
   "metadata": {},
   "outputs": [
    {
     "data": {
      "image/png": "[encoded data removed]",
      "text/plain": [
       "<Figure size 432x288 with 1 Axes>"
      ]
     },
     "metadata": {
      "needs_background": "light"
     },
     "output_type": "display_data"
    }
   ],
   "source": [
    "%matplotlib inline\n",
    "import matplotlib.pyplot as plt\n",
    "\n",
    "plt.plot(x,y,'ro')\n",
    "plt.plot(x, sess.run(weight)*x + sess.run(bias))\n",
    "plt.show()"
   ]
  },
  {
   "cell_type": "code",
   "execution_count": 7,
   "metadata": {},
   "outputs": [],
   "source": [
    "sess.close()"
   ]
  },
  {
   "cell_type": "code",
   "execution_count": null,
   "metadata": {},
   "outputs": [],
   "source": []
  },
  {
   "cell_type": "code",
   "execution_count": null,
   "metadata": {},
   "outputs": [],
   "source": []
  }
 ],
 "metadata": {
  "interpreter": {
   "hash": "949777d72b0d2535278d3dc13498b2535136f6dfe0678499012e853ee9abcab1"
  },
  "kernelspec": {
   "display_name": "Python 3.8.10 64-bit",
   "language": "python",
   "name": "python3"
  },
  "language_info": {
   "codemirror_mode": {
    "name": "ipython",
    "version": 3
   },
   "file_extension": ".py",
   "mimetype": "text/x-python",
   "name": "python",
   "nbconvert_exporter": "python",
   "pygments_lexer": "ipython3",
   "version": "3.8.10"
  },
  "orig_nbformat": 4
 },
 "nbformat": 4,
 "nbformat_minor": 2
}
