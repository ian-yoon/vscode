{
 "cells": [
  {
   "cell_type": "code",
   "execution_count": 1,
   "metadata": {},
   "outputs": [],
   "source": [
    "import pandas as pd\n",
    "from sklearn.datasets import make_classification"
   ]
  },
  {
   "cell_type": "code",
   "execution_count": 14,
   "metadata": {},
   "outputs": [
    {
     "data": {
      "text/html": [
       "<div>\n",
       "<style scoped>\n",
       "    .dataframe tbody tr th:only-of-type {\n",
       "        vertical-align: middle;\n",
       "    }\n",
       "\n",
       "    .dataframe tbody tr th {\n",
       "        vertical-align: top;\n",
       "    }\n",
       "\n",
       "    .dataframe thead th {\n",
       "        text-align: right;\n",
       "    }\n",
       "</style>\n",
       "<table border=\"1\" class=\"dataframe\">\n",
       "  <thead>\n",
       "    <tr style=\"text-align: right;\">\n",
       "      <th></th>\n",
       "      <th>a</th>\n",
       "      <th>b</th>\n",
       "      <th>y</th>\n",
       "    </tr>\n",
       "  </thead>\n",
       "  <tbody>\n",
       "    <tr>\n",
       "      <th>0</th>\n",
       "      <td>0.222014</td>\n",
       "      <td>0.540207</td>\n",
       "      <td>0</td>\n",
       "    </tr>\n",
       "    <tr>\n",
       "      <th>1</th>\n",
       "      <td>1.347439</td>\n",
       "      <td>1.412824</td>\n",
       "      <td>0</td>\n",
       "    </tr>\n",
       "    <tr>\n",
       "      <th>2</th>\n",
       "      <td>0.537238</td>\n",
       "      <td>0.372730</td>\n",
       "      <td>0</td>\n",
       "    </tr>\n",
       "    <tr>\n",
       "      <th>3</th>\n",
       "      <td>2.134462</td>\n",
       "      <td>1.404819</td>\n",
       "      <td>0</td>\n",
       "    </tr>\n",
       "    <tr>\n",
       "      <th>4</th>\n",
       "      <td>2.315827</td>\n",
       "      <td>1.356858</td>\n",
       "      <td>0</td>\n",
       "    </tr>\n",
       "    <tr>\n",
       "      <th>...</th>\n",
       "      <td>...</td>\n",
       "      <td>...</td>\n",
       "      <td>...</td>\n",
       "    </tr>\n",
       "    <tr>\n",
       "      <th>9995</th>\n",
       "      <td>2.440385</td>\n",
       "      <td>1.695643</td>\n",
       "      <td>0</td>\n",
       "    </tr>\n",
       "    <tr>\n",
       "      <th>9996</th>\n",
       "      <td>-0.790502</td>\n",
       "      <td>0.194243</td>\n",
       "      <td>0</td>\n",
       "    </tr>\n",
       "    <tr>\n",
       "      <th>9997</th>\n",
       "      <td>1.878130</td>\n",
       "      <td>0.829500</td>\n",
       "      <td>0</td>\n",
       "    </tr>\n",
       "    <tr>\n",
       "      <th>9998</th>\n",
       "      <td>2.585933</td>\n",
       "      <td>1.927995</td>\n",
       "      <td>0</td>\n",
       "    </tr>\n",
       "    <tr>\n",
       "      <th>9999</th>\n",
       "      <td>1.123356</td>\n",
       "      <td>1.045755</td>\n",
       "      <td>0</td>\n",
       "    </tr>\n",
       "  </tbody>\n",
       "</table>\n",
       "<p>10000 rows × 3 columns</p>\n",
       "</div>"
      ],
      "text/plain": [
       "             a         b  y\n",
       "0     0.222014  0.540207  0\n",
       "1     1.347439  1.412824  0\n",
       "2     0.537238  0.372730  0\n",
       "3     2.134462  1.404819  0\n",
       "4     2.315827  1.356858  0\n",
       "...        ...       ... ..\n",
       "9995  2.440385  1.695643  0\n",
       "9996 -0.790502  0.194243  0\n",
       "9997  1.878130  0.829500  0\n",
       "9998  2.585933  1.927995  0\n",
       "9999  1.123356  1.045755  0\n",
       "\n",
       "[10000 rows x 3 columns]"
      ]
     },
     "execution_count": 14,
     "metadata": {},
     "output_type": "execute_result"
    }
   ],
   "source": [
    "# 0이 99%, 1이 1%인 데이터셋 생성\n",
    "X, y = make_classification(n_samples=10000, n_features=2, n_redundant=0, n_clusters_per_class=1, weights=[0.99], flip_y=0, random_state=1)\n",
    "dfX = pd.DataFrame(X, columns=['a', 'b'])\n",
    "dfy = pd.DataFrame(y, columns=['y'])\n",
    "df = pd.concat([dfX, dfy], axis=1)\n",
    "df"
   ]
  },
  {
   "cell_type": "code",
   "execution_count": 15,
   "metadata": {},
   "outputs": [],
   "source": [
    "X1 = df[['a', 'b']]\n",
    "y1 = df['y']"
   ]
  },
  {
   "cell_type": "code",
   "execution_count": 16,
   "metadata": {},
   "outputs": [
    {
     "data": {
      "text/plain": [
       "0    9900\n",
       "1     100\n",
       "Name: y, dtype: int64"
      ]
     },
     "execution_count": 16,
     "metadata": {},
     "output_type": "execute_result"
    }
   ],
   "source": [
    "df['y'].value_counts()"
   ]
  },
  {
   "cell_type": "code",
   "execution_count": 17,
   "metadata": {},
   "outputs": [
    {
     "data": {
      "text/plain": [
       "LogisticRegression(random_state=42)"
      ]
     },
     "execution_count": 17,
     "metadata": {},
     "output_type": "execute_result"
    }
   ],
   "source": [
    "from sklearn.linear_model import LogisticRegression\n",
    "from sklearn.model_selection import train_test_split\n",
    "\n",
    "X_train, X_test, y_train, y_test = train_test_split(X1, y1, test_size=0.2, stratify=y1, random_state=10)\n",
    "\n",
    "model1 = LogisticRegression(random_state=42)\n",
    "model1.fit(X_train, y_train)"
   ]
  },
  {
   "cell_type": "code",
   "execution_count": 18,
   "metadata": {},
   "outputs": [
    {
     "name": "stdout",
     "output_type": "stream",
     "text": [
      "학습용 :  0.994125\n",
      "검증용 :  0.995\n"
     ]
    }
   ],
   "source": [
    "print(\"학습용 : \", model1.score(X_train, y_train))\n",
    "print(\"검증용 : \", model1.score(X_test, y_test))"
   ]
  },
  {
   "cell_type": "code",
   "execution_count": 19,
   "metadata": {},
   "outputs": [],
   "source": [
    "pred1 = model1.predict(X_test) # 모형이 분류한 값"
   ]
  },
  {
   "cell_type": "code",
   "execution_count": 20,
   "metadata": {},
   "outputs": [
    {
     "data": {
      "text/plain": [
       "array([[1980,    0],\n",
       "       [  10,   10]], dtype=int64)"
      ]
     },
     "execution_count": 20,
     "metadata": {},
     "output_type": "execute_result"
    }
   ],
   "source": [
    "from sklearn.metrics import confusion_matrix\n",
    "\n",
    "cm = confusion_matrix(y_test, pred1)\n",
    "cm\n",
    "\n",
    "# 클래스 1이 20개 있는데 모형에서는 10개밖에 못 찾아냄"
   ]
  },
  {
   "cell_type": "code",
   "execution_count": 21,
   "metadata": {},
   "outputs": [
    {
     "name": "stdout",
     "output_type": "stream",
     "text": [
      "              precision    recall  f1-score   support\n",
      "\n",
      "           0       0.99      1.00      1.00      1980\n",
      "           1       1.00      0.50      0.67        20\n",
      "\n",
      "    accuracy                           0.99      2000\n",
      "   macro avg       1.00      0.75      0.83      2000\n",
      "weighted avg       1.00      0.99      0.99      2000\n",
      "\n"
     ]
    }
   ],
   "source": [
    "from sklearn.metrics import classification_report\n",
    "\n",
    "print(classification_report(y_test, pred1))"
   ]
  },
  {
   "cell_type": "code",
   "execution_count": 22,
   "metadata": {},
   "outputs": [
    {
     "data": {
      "text/html": [
       "<div>\n",
       "<style scoped>\n",
       "    .dataframe tbody tr th:only-of-type {\n",
       "        vertical-align: middle;\n",
       "    }\n",
       "\n",
       "    .dataframe tbody tr th {\n",
       "        vertical-align: top;\n",
       "    }\n",
       "\n",
       "    .dataframe thead th {\n",
       "        text-align: right;\n",
       "    }\n",
       "</style>\n",
       "<table border=\"1\" class=\"dataframe\">\n",
       "  <thead>\n",
       "    <tr style=\"text-align: right;\">\n",
       "      <th></th>\n",
       "      <th>a</th>\n",
       "      <th>b</th>\n",
       "      <th>y</th>\n",
       "    </tr>\n",
       "  </thead>\n",
       "  <tbody>\n",
       "    <tr>\n",
       "      <th>0</th>\n",
       "      <td>0.222014</td>\n",
       "      <td>0.540207</td>\n",
       "      <td>0</td>\n",
       "    </tr>\n",
       "    <tr>\n",
       "      <th>1</th>\n",
       "      <td>-1.461718</td>\n",
       "      <td>1.556713</td>\n",
       "      <td>1</td>\n",
       "    </tr>\n",
       "    <tr>\n",
       "      <th>2</th>\n",
       "      <td>-0.185450</td>\n",
       "      <td>0.170503</td>\n",
       "      <td>1</td>\n",
       "    </tr>\n",
       "    <tr>\n",
       "      <th>3</th>\n",
       "      <td>-0.076351</td>\n",
       "      <td>1.745782</td>\n",
       "      <td>1</td>\n",
       "    </tr>\n",
       "    <tr>\n",
       "      <th>4</th>\n",
       "      <td>2.315827</td>\n",
       "      <td>1.356858</td>\n",
       "      <td>0</td>\n",
       "    </tr>\n",
       "    <tr>\n",
       "      <th>...</th>\n",
       "      <td>...</td>\n",
       "      <td>...</td>\n",
       "      <td>...</td>\n",
       "    </tr>\n",
       "    <tr>\n",
       "      <th>9995</th>\n",
       "      <td>-0.295564</td>\n",
       "      <td>2.153372</td>\n",
       "      <td>1</td>\n",
       "    </tr>\n",
       "    <tr>\n",
       "      <th>9996</th>\n",
       "      <td>-2.027697</td>\n",
       "      <td>-0.366690</td>\n",
       "      <td>1</td>\n",
       "    </tr>\n",
       "    <tr>\n",
       "      <th>9997</th>\n",
       "      <td>0.962237</td>\n",
       "      <td>1.027313</td>\n",
       "      <td>1</td>\n",
       "    </tr>\n",
       "    <tr>\n",
       "      <th>9998</th>\n",
       "      <td>-0.642143</td>\n",
       "      <td>2.454120</td>\n",
       "      <td>1</td>\n",
       "    </tr>\n",
       "    <tr>\n",
       "      <th>9999</th>\n",
       "      <td>1.123356</td>\n",
       "      <td>1.045755</td>\n",
       "      <td>0</td>\n",
       "    </tr>\n",
       "  </tbody>\n",
       "</table>\n",
       "<p>10000 rows × 3 columns</p>\n",
       "</div>"
      ],
      "text/plain": [
       "             a         b  y\n",
       "0     0.222014  0.540207  0\n",
       "1    -1.461718  1.556713  1\n",
       "2    -0.185450  0.170503  1\n",
       "3    -0.076351  1.745782  1\n",
       "4     2.315827  1.356858  0\n",
       "...        ...       ... ..\n",
       "9995 -0.295564  2.153372  1\n",
       "9996 -2.027697 -0.366690  1\n",
       "9997  0.962237  1.027313  1\n",
       "9998 -0.642143  2.454120  1\n",
       "9999  1.123356  1.045755  0\n",
       "\n",
       "[10000 rows x 3 columns]"
      ]
     },
     "execution_count": 22,
     "metadata": {},
     "output_type": "execute_result"
    }
   ],
   "source": [
    "# 균형 데이터\n",
    "\n",
    "X, y = make_classification(n_samples=10000, n_features=2, n_redundant=0, n_clusters_per_class=1, flip_y=0, random_state=1)\n",
    "dfX = pd.DataFrame(X, columns=['a', 'b'])\n",
    "dfy = pd.DataFrame(y, columns=['y'])\n",
    "df = pd.concat([dfX, dfy], axis=1)\n",
    "df"
   ]
  },
  {
   "cell_type": "code",
   "execution_count": 23,
   "metadata": {},
   "outputs": [],
   "source": [
    "X2 = df[['a', 'b']]\n",
    "y2 = df['y']"
   ]
  },
  {
   "cell_type": "code",
   "execution_count": 24,
   "metadata": {},
   "outputs": [
    {
     "data": {
      "text/plain": [
       "LogisticRegression(random_state=42)"
      ]
     },
     "execution_count": 24,
     "metadata": {},
     "output_type": "execute_result"
    }
   ],
   "source": [
    "X_train, X_test, y_train, y_test = train_test_split(X2, y2, test_size=0.2, stratify=y2, random_state=10)\n",
    "\n",
    "model2 = LogisticRegression(random_state=42)\n",
    "model2.fit(X_train, y_train)"
   ]
  },
  {
   "cell_type": "code",
   "execution_count": 25,
   "metadata": {},
   "outputs": [
    {
     "name": "stdout",
     "output_type": "stream",
     "text": [
      "학습용 :  0.896125\n",
      "검증용 :  0.891\n"
     ]
    }
   ],
   "source": [
    "print(\"학습용 : \", model2.score(X_train, y_train))\n",
    "print(\"검증용 : \", model2.score(X_test, y_test))"
   ]
  },
  {
   "cell_type": "code",
   "execution_count": 26,
   "metadata": {},
   "outputs": [],
   "source": [
    "pred2 = model2.predict(X_test)"
   ]
  },
  {
   "cell_type": "code",
   "execution_count": 27,
   "metadata": {},
   "outputs": [
    {
     "data": {
      "text/plain": [
       "array([[908,  92],\n",
       "       [126, 874]], dtype=int64)"
      ]
     },
     "execution_count": 27,
     "metadata": {},
     "output_type": "execute_result"
    }
   ],
   "source": [
    "cm = confusion_matrix(y_test, pred2)\n",
    "cm"
   ]
  },
  {
   "cell_type": "code",
   "execution_count": 28,
   "metadata": {},
   "outputs": [
    {
     "name": "stdout",
     "output_type": "stream",
     "text": [
      "              precision    recall  f1-score   support\n",
      "\n",
      "           0       0.88      0.91      0.89      1000\n",
      "           1       0.90      0.87      0.89      1000\n",
      "\n",
      "    accuracy                           0.89      2000\n",
      "   macro avg       0.89      0.89      0.89      2000\n",
      "weighted avg       0.89      0.89      0.89      2000\n",
      "\n"
     ]
    }
   ],
   "source": [
    "print(classification_report(y_test, pred2))"
   ]
  },
  {
   "cell_type": "code",
   "execution_count": 33,
   "metadata": {},
   "outputs": [
    {
     "name": "stdout",
     "output_type": "stream",
     "text": [
      "학습용 :  0.875\n",
      "검증용 :  0.95\n",
      "              precision    recall  f1-score   support\n",
      "\n",
      "           0       0.95      0.95      0.95        22\n",
      "           1       0.94      0.94      0.94        18\n",
      "\n",
      "    accuracy                           0.95        40\n",
      "   macro avg       0.95      0.95      0.95        40\n",
      "weighted avg       0.95      0.95      0.95        40\n",
      "\n"
     ]
    },
    {
     "name": "stderr",
     "output_type": "stream",
     "text": [
      "C:\\anaconda3\\lib\\site-packages\\sklearn\\utils\\validation.py:63: DataConversionWarning: A column-vector y was passed when a 1d array was expected. Please change the shape of y to (n_samples, ), for example using ravel().\n",
      "  return f(*args, **kwargs)\n"
     ]
    }
   ],
   "source": [
    "X, y = make_classification(n_samples=10000, n_features=2, n_redundant=0, n_clusters_per_class=1, weights=[0.99], flip_y=0, random_state=1)\n",
    "\n",
    "from imblearn.under_sampling import RandomUnderSampler\n",
    "\n",
    "X_sample, y_sample = RandomUnderSampler(random_state=0).fit_resample(X, y)\n",
    "\n",
    "X_samp = pd.DataFrame(data=X_sample, columns=['a', 'b'])\n",
    "y_samp = pd.DataFrame(data=y_sample, columns=['y'])\n",
    "\n",
    "y_samp.y.value_counts()\n",
    "\n",
    "X_train, X_test, y_train, y_test = train_test_split(X_samp, y_samp, test_size=0.2, random_state=10)\n",
    "\n",
    "from sklearn.svm import SVC\n",
    "\n",
    "model3 = SVC(random_state=42)\n",
    "model3.fit(X_train, y_train)\n",
    "\n",
    "print(\"학습용 : \", model3.score(X_train, y_train))\n",
    "print(\"검증용 : \", model3.score(X_test, y_test))\n",
    "\n",
    "pred3 = model3.predict(X_test)\n",
    "\n",
    "print(classification_report(y_test, pred3))"
   ]
  },
  {
   "cell_type": "code",
   "execution_count": 34,
   "metadata": {},
   "outputs": [
    {
     "data": {
      "text/plain": [
       "0    9874\n",
       "1     100\n",
       "Name: y, dtype: int64"
      ]
     },
     "execution_count": 34,
     "metadata": {},
     "output_type": "execute_result"
    }
   ],
   "source": [
    "X, y = make_classification(n_samples=10000, n_features=2, n_redundant=0, n_clusters_per_class=1, weights=[0.99], flip_y=0, random_state=1)\n",
    "\n",
    "from imblearn.under_sampling import RandomUnderSampler\n",
    "from imblearn.under_sampling import TomekLinks\n",
    "\n",
    "X_sample, y_sample = TomekLinks(sampling_strategy='majority').fit_resample(X, y)\n",
    "\n",
    "X_samp = pd.DataFrame(data=X_sample, columns=['a', 'b'])\n",
    "y_samp = pd.DataFrame(data=y_sample, columns=['y'])\n",
    "\n",
    "y_samp.y.value_counts()\n",
    "\n",
    "# X_train, X_test, y_train, y_test = train_test_split(X_samp, y_samp, test_size=0.2, random_state=10)\n",
    "\n",
    "# model3 = SVC(random_state=42)\n",
    "# model3.fit(X_train, y_train)\n",
    "\n",
    "# print(\"학습용 : \", model3.score(X_train, y_train))\n",
    "# print(\"검증용 : \", model3.score(X_test, y_test))\n",
    "\n",
    "# pred3 = model3.predict(X_test)\n",
    "\n",
    "# print(classification_report(y_test, pred3))"
   ]
  },
  {
   "cell_type": "code",
   "execution_count": 35,
   "metadata": {},
   "outputs": [
    {
     "data": {
      "text/plain": [
       "0    187\n",
       "1    100\n",
       "Name: y, dtype: int64"
      ]
     },
     "execution_count": 35,
     "metadata": {},
     "output_type": "execute_result"
    }
   ],
   "source": [
    "X, y = make_classification(n_samples=10000, n_features=2, n_redundant=0, n_clusters_per_class=1, weights=[0.99], flip_y=0, random_state=1)\n",
    "\n",
    "# from imblearn.under_sampling import RandomUnderSampler\n",
    "# from imblearn.under_sampling import TomekLinks\n",
    "from imblearn.under_sampling import CondensedNearestNeighbour\n",
    "\n",
    "X_sample, y_sample = CondensedNearestNeighbour(random_state=0).fit_resample(X, y)\n",
    "\n",
    "X_samp = pd.DataFrame(data=X_sample, columns=['a', 'b'])\n",
    "y_samp = pd.DataFrame(data=y_sample, columns=['y'])\n",
    "\n",
    "y_samp.y.value_counts()\n",
    "\n",
    "# X_train, X_test, y_train, y_test = train_test_split(X_samp, y_samp, test_size=0.2, random_state=10)\n",
    "\n",
    "# model3 = SVC(random_state=42)\n",
    "# model3.fit(X_train, y_train)\n",
    "\n",
    "# print(\"학습용 : \", model3.score(X_train, y_train))\n",
    "# print(\"검증용 : \", model3.score(X_test, y_test))\n",
    "\n",
    "# pred3 = model3.predict(X_test)\n",
    "\n",
    "# print(classification_report(y_test, pred3))"
   ]
  },
  {
   "cell_type": "code",
   "execution_count": 36,
   "metadata": {},
   "outputs": [
    {
     "data": {
      "text/plain": [
       "0    6593\n",
       "1     100\n",
       "Name: y, dtype: int64"
      ]
     },
     "execution_count": 36,
     "metadata": {},
     "output_type": "execute_result"
    }
   ],
   "source": [
    "X, y = make_classification(n_samples=10000, n_features=2, n_redundant=0, n_clusters_per_class=1, weights=[0.99], flip_y=0, random_state=1)\n",
    "\n",
    "# from imblearn.under_sampling import RandomUnderSampler\n",
    "# from imblearn.under_sampling import TomekLinks\n",
    "# from imblearn.under_sampling import CondensedNearestNeighbour\n",
    "from imblearn.under_sampling import OneSidedSelection\n",
    "\n",
    "X_sample, y_sample = OneSidedSelection(random_state=0).fit_resample(X, y)\n",
    "\n",
    "X_samp = pd.DataFrame(data=X_sample, columns=['a', 'b'])\n",
    "y_samp = pd.DataFrame(data=y_sample, columns=['y'])\n",
    "\n",
    "y_samp.y.value_counts()\n",
    "\n",
    "# X_train, X_test, y_train, y_test = train_test_split(X_samp, y_samp, test_size=0.2, random_state=10)\n",
    "\n",
    "# model3 = SVC(random_state=42)\n",
    "# model3.fit(X_train, y_train)\n",
    "\n",
    "# print(\"학습용 : \", model3.score(X_train, y_train))\n",
    "# print(\"검증용 : \", model3.score(X_test, y_test))\n",
    "\n",
    "# pred3 = model3.predict(X_test)\n",
    "\n",
    "# print(classification_report(y_test, pred3))"
   ]
  },
  {
   "cell_type": "code",
   "execution_count": 37,
   "metadata": {},
   "outputs": [
    {
     "data": {
      "text/plain": [
       "0    9747\n",
       "1     100\n",
       "Name: y, dtype: int64"
      ]
     },
     "execution_count": 37,
     "metadata": {},
     "output_type": "execute_result"
    }
   ],
   "source": [
    "X, y = make_classification(n_samples=10000, n_features=2, n_redundant=0, n_clusters_per_class=1, weights=[0.99], flip_y=0, random_state=1)\n",
    "\n",
    "# from imblearn.under_sampling import RandomUnderSampler\n",
    "# from imblearn.under_sampling import TomekLinks\n",
    "# from imblearn.under_sampling import CondensedNearestNeighbour\n",
    "from imblearn.under_sampling import EditedNearestNeighbours\n",
    "\n",
    "X_sample, y_sample = EditedNearestNeighbours(kind_sel='all', n_neighbors=5).fit_resample(X, y)\n",
    "\n",
    "X_samp = pd.DataFrame(data=X_sample, columns=['a', 'b'])\n",
    "y_samp = pd.DataFrame(data=y_sample, columns=['y'])\n",
    "\n",
    "y_samp.y.value_counts()\n",
    "\n",
    "# X_train, X_test, y_train, y_test = train_test_split(X_samp, y_samp, test_size=0.2, random_state=10)\n",
    "\n",
    "# model3 = SVC(random_state=42)\n",
    "# model3.fit(X_train, y_train)\n",
    "\n",
    "# print(\"학습용 : \", model3.score(X_train, y_train))\n",
    "# print(\"검증용 : \", model3.score(X_test, y_test))\n",
    "\n",
    "# pred3 = model3.predict(X_test)\n",
    "\n",
    "# print(classification_report(y_test, pred3))"
   ]
  },
  {
   "cell_type": "code",
   "execution_count": 38,
   "metadata": {},
   "outputs": [
    {
     "data": {
      "text/plain": [
       "0    9721\n",
       "1     100\n",
       "Name: y, dtype: int64"
      ]
     },
     "execution_count": 38,
     "metadata": {},
     "output_type": "execute_result"
    }
   ],
   "source": [
    "X, y = make_classification(n_samples=10000, n_features=2, n_redundant=0, n_clusters_per_class=1, weights=[0.99], flip_y=0, random_state=1)\n",
    "\n",
    "# from imblearn.under_sampling import RandomUnderSampler\n",
    "# from imblearn.under_sampling import TomekLinks\n",
    "# from imblearn.under_sampling import CondensedNearestNeighbour\n",
    "# from imblearn.under_sampling import EditedNearestNeighbours\n",
    "from imblearn.under_sampling import NeighbourhoodCleaningRule\n",
    "\n",
    "X_sample, y_sample = NeighbourhoodCleaningRule(kind_sel='all', n_neighbors=5).fit_resample(X, y)\n",
    "\n",
    "X_samp = pd.DataFrame(data=X_sample, columns=['a', 'b'])\n",
    "y_samp = pd.DataFrame(data=y_sample, columns=['y'])\n",
    "\n",
    "y_samp.y.value_counts()\n",
    "\n",
    "# X_train, X_test, y_train, y_test = train_test_split(X_samp, y_samp, test_size=0.2, random_state=10)\n",
    "\n",
    "# model3 = SVC(random_state=42)\n",
    "# model3.fit(X_train, y_train)\n",
    "\n",
    "# print(\"학습용 : \", model3.score(X_train, y_train))\n",
    "# print(\"검증용 : \", model3.score(X_test, y_test))\n",
    "\n",
    "# pred3 = model3.predict(X_test)\n",
    "\n",
    "# print(classification_report(y_test, pred3))"
   ]
  },
  {
   "cell_type": "code",
   "execution_count": null,
   "metadata": {},
   "outputs": [],
   "source": [
    "# 오버샘플링"
   ]
  },
  {
   "cell_type": "code",
   "execution_count": 40,
   "metadata": {},
   "outputs": [
    {
     "data": {
      "text/plain": [
       "0    9900\n",
       "1    9900\n",
       "Name: y, dtype: int64"
      ]
     },
     "execution_count": 40,
     "metadata": {},
     "output_type": "execute_result"
    }
   ],
   "source": [
    "X, y = make_classification(n_samples=10000, n_features=2, n_redundant=0, n_clusters_per_class=1, weights=[0.99], flip_y=0, random_state=1)\n",
    "\n",
    "from imblearn.over_sampling import RandomOverSampler\n",
    "\n",
    "X_sample, y_sample = RandomOverSampler(random_state=0).fit_resample(X, y)\n",
    "\n",
    "X_samp = pd.DataFrame(data=X_sample, columns=['a', 'b'])\n",
    "y_samp = pd.DataFrame(data=y_sample, columns=['y'])\n",
    "\n",
    "y_samp.y.value_counts()"
   ]
  },
  {
   "cell_type": "code",
   "execution_count": 41,
   "metadata": {},
   "outputs": [
    {
     "data": {
      "text/plain": [
       "0    9900\n",
       "1    9899\n",
       "Name: y, dtype: int64"
      ]
     },
     "execution_count": 41,
     "metadata": {},
     "output_type": "execute_result"
    }
   ],
   "source": [
    "X, y = make_classification(n_samples=10000, n_features=2, n_redundant=0, n_clusters_per_class=1, weights=[0.99], flip_y=0, random_state=1)\n",
    "\n",
    "# from imblearn.over_sampling import RandomOverSampler\n",
    "from imblearn.over_sampling import ADASYN\n",
    "\n",
    "X_sample, y_sample = ADASYN(random_state=0).fit_resample(X, y)\n",
    "\n",
    "X_samp = pd.DataFrame(data=X_sample, columns=['a', 'b'])\n",
    "y_samp = pd.DataFrame(data=y_sample, columns=['y'])\n",
    "\n",
    "y_samp.y.value_counts()"
   ]
  },
  {
   "cell_type": "code",
   "execution_count": 42,
   "metadata": {},
   "outputs": [
    {
     "data": {
      "text/plain": [
       "0    9900\n",
       "1    9900\n",
       "Name: y, dtype: int64"
      ]
     },
     "execution_count": 42,
     "metadata": {},
     "output_type": "execute_result"
    }
   ],
   "source": [
    "X, y = make_classification(n_samples=10000, n_features=2, n_redundant=0, n_clusters_per_class=1, weights=[0.99], flip_y=0, random_state=1)\n",
    "\n",
    "# from imblearn.over_sampling import RandomOverSampler\n",
    "# from imblearn.over_sampling import ADASYN\n",
    "from imblearn.over_sampling import SMOTE\n",
    "\n",
    "X_sample, y_sample = SMOTE(random_state=0).fit_resample(X, y)\n",
    "\n",
    "X_samp = pd.DataFrame(data=X_sample, columns=['a', 'b'])\n",
    "y_samp = pd.DataFrame(data=y_sample, columns=['y'])\n",
    "\n",
    "y_samp.y.value_counts()"
   ]
  },
  {
   "cell_type": "code",
   "execution_count": 43,
   "metadata": {},
   "outputs": [
    {
     "data": {
      "text/plain": [
       "1    8941\n",
       "0    8645\n",
       "Name: y, dtype: int64"
      ]
     },
     "execution_count": 43,
     "metadata": {},
     "output_type": "execute_result"
    }
   ],
   "source": [
    "X, y = make_classification(n_samples=10000, n_features=2, n_redundant=0, n_clusters_per_class=1, weights=[0.99], flip_y=0, random_state=1)\n",
    "\n",
    "# from imblearn.over_sampling import RandomOverSampler\n",
    "# from imblearn.over_sampling import ADASYN\n",
    "# from imblearn.over_sampling import SMOTE\n",
    "from imblearn.combine import SMOTEENN\n",
    "\n",
    "X_sample, y_sample = SMOTEENN(random_state=0).fit_resample(X, y)\n",
    "\n",
    "X_samp = pd.DataFrame(data=X_sample, columns=['a', 'b'])\n",
    "y_samp = pd.DataFrame(data=y_sample, columns=['y'])\n",
    "\n",
    "y_samp.y.value_counts()"
   ]
  },
  {
   "cell_type": "code",
   "execution_count": 44,
   "metadata": {},
   "outputs": [
    {
     "data": {
      "text/plain": [
       "0    9653\n",
       "1    9653\n",
       "Name: y, dtype: int64"
      ]
     },
     "execution_count": 44,
     "metadata": {},
     "output_type": "execute_result"
    }
   ],
   "source": [
    "X, y = make_classification(n_samples=10000, n_features=2, n_redundant=0, n_clusters_per_class=1, weights=[0.99], flip_y=0, random_state=1)\n",
    "\n",
    "# from imblearn.over_sampling import RandomOverSampler\n",
    "# from imblearn.over_sampling import ADASYN\n",
    "# from imblearn.over_sampling import SMOTE\n",
    "# from imblearn.combine import SMOTEENN\n",
    "from imblearn.combine import SMOTETomek\n",
    "\n",
    "X_sample, y_sample = SMOTETomek(random_state=0).fit_resample(X, y)\n",
    "\n",
    "X_samp = pd.DataFrame(data=X_sample, columns=['a', 'b'])\n",
    "y_samp = pd.DataFrame(data=y_sample, columns=['y'])\n",
    "\n",
    "y_samp.y.value_counts()"
   ]
  },
  {
   "cell_type": "code",
   "execution_count": null,
   "metadata": {},
   "outputs": [],
   "source": []
  },
  {
   "cell_type": "code",
   "execution_count": null,
   "metadata": {},
   "outputs": [],
   "source": []
  }
 ],
 "metadata": {
  "interpreter": {
   "hash": "cef9e06bb236b2a8629b07e87a04b187b952a0f661eff5533360a155783f0c33"
  },
  "kernelspec": {
   "display_name": "Python 3.8.8 64-bit ('base': conda)",
   "language": "python",
   "name": "python3"
  },
  "language_info": {
   "codemirror_mode": {
    "name": "ipython",
    "version": 3
   },
   "file_extension": ".py",
   "mimetype": "text/x-python",
   "name": "python",
   "nbconvert_exporter": "python",
   "pygments_lexer": "ipython3",
   "version": "3.8.8"
  },
  "orig_nbformat": 4
 },
 "nbformat": 4,
 "nbformat_minor": 2
}
