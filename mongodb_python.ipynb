{
 "cells": [
  {
   "cell_type": "code",
   "execution_count": 1,
   "metadata": {},
   "outputs": [],
   "source": [
    "import pymongo\n",
    "from pymongo import MongoClient"
   ]
  },
  {
   "cell_type": "code",
   "execution_count": 2,
   "metadata": {},
   "outputs": [
    {
     "data": {
      "text/plain": [
       "MongoClient(host=['localhost:27017'], document_class=dict, tz_aware=False, connect=True)"
      ]
     },
     "execution_count": 2,
     "metadata": {},
     "output_type": "execute_result"
    }
   ],
   "source": [
    "id = 'web'\n",
    "pwd = '1234'\n",
    "conn = MongoClient('mongodb://%s:%s@localhost/web' % (id, pwd))\n",
    "conn"
   ]
  },
  {
   "cell_type": "code",
   "execution_count": 3,
   "metadata": {},
   "outputs": [
    {
     "data": {
      "text/plain": [
       "Database(MongoClient(host=['localhost:27017'], document_class=dict, tz_aware=False, connect=True), 'web')"
      ]
     },
     "execution_count": 3,
     "metadata": {},
     "output_type": "execute_result"
    }
   ],
   "source": [
    "db = conn.web\n",
    "db"
   ]
  },
  {
   "cell_type": "code",
   "execution_count": 4,
   "metadata": {},
   "outputs": [
    {
     "data": {
      "text/plain": [
       "Collection(Database(MongoClient(host=['localhost:27017'], document_class=dict, tz_aware=False, connect=True), 'web'), 'students')"
      ]
     },
     "execution_count": 4,
     "metadata": {},
     "output_type": "execute_result"
    }
   ],
   "source": [
    "students = db.students\n",
    "students"
   ]
  },
  {
   "cell_type": "code",
   "execution_count": 5,
   "metadata": {},
   "outputs": [],
   "source": [
    "try:\n",
    "    students.drop()\n",
    "except:\n",
    "    print('No Data')\n"
   ]
  },
  {
   "cell_type": "code",
   "execution_count": 6,
   "metadata": {},
   "outputs": [
    {
     "name": "stdout",
     "output_type": "stream",
     "text": [
      "{'_id': ObjectId('61971f9ac87726732d2f5100'), 'no': 1, 'name': '김철수', 'kor': 90, 'eng': 80, 'mat': 77}\n",
      "{'_id': ObjectId('61971f9ac87726732d2f5101'), 'no': 2, 'name': '박민성', 'kor': 95, 'eng': 83, 'mat': 76}\n",
      "{'_id': ObjectId('61971f9ac87726732d2f5102'), 'no': 3, 'name': '송지수', 'kor': 92, 'eng': 87, 'mat': 75}\n"
     ]
    }
   ],
   "source": [
    "row1 = {'no':1, 'name':'김철수', 'kor':90, 'eng':80, 'mat':77}\n",
    "row2 = {'no':2, 'name':'박민성', 'kor':95, 'eng':83, 'mat':76}\n",
    "row3 = {'no':3, 'name':'송지수', 'kor':92, 'eng':87, 'mat':75}\n",
    "\n",
    "students.insert_one(row1)\n",
    "students.insert_one(row2)\n",
    "students.insert_one(row3)\n",
    "\n",
    "rows = students.find()\n",
    "for row in rows:\n",
    "    print(row)"
   ]
  },
  {
   "cell_type": "code",
   "execution_count": 7,
   "metadata": {},
   "outputs": [
    {
     "name": "stdout",
     "output_type": "stream",
     "text": [
      "{'_id': ObjectId('61971f9ac87726732d2f5100'), 'no': 1, 'name': '김철수', 'kor': 90, 'eng': 80, 'mat': 77}\n",
      "{'_id': ObjectId('61971f9ac87726732d2f5102'), 'no': 3, 'name': '송지수', 'kor': 92, 'eng': 87, 'mat': 75}\n"
     ]
    }
   ],
   "source": [
    "students.delete_one({'no':2})\n",
    "\n",
    "rows = students.find()\n",
    "for row in rows:\n",
    "    print(row)"
   ]
  },
  {
   "cell_type": "code",
   "execution_count": 8,
   "metadata": {},
   "outputs": [
    {
     "name": "stdout",
     "output_type": "stream",
     "text": [
      "{'_id': ObjectId('61971f9ac87726732d2f5100'), 'no': 1, 'name': '김철수', 'kor': 100, 'eng': 100, 'mat': 77}\n",
      "{'_id': ObjectId('61971f9ac87726732d2f5102'), 'no': 3, 'name': '송지수', 'kor': 92, 'eng': 87, 'mat': 75}\n"
     ]
    }
   ],
   "source": [
    "students.update_one({'no':1}, {'$set':{'kor':100, 'eng':100}})\n",
    "\n",
    "rows = students.find()\n",
    "for row in rows:\n",
    "    print(row)"
   ]
  },
  {
   "cell_type": "code",
   "execution_count": 9,
   "metadata": {},
   "outputs": [
    {
     "name": "stdout",
     "output_type": "stream",
     "text": [
      "{'_id': ObjectId('61971f9ac87726732d2f5100'), 'no': 1, 'name': '김철수', 'kor': 100, 'eng': 100, 'mat': 77, 'avg': 92.33333333333333, 'grade': 'A', 'tot': 277}\n",
      "{'_id': ObjectId('61971f9ac87726732d2f5102'), 'no': 3, 'name': '송지수', 'kor': 92, 'eng': 87, 'mat': 75, 'avg': 84.66666666666667, 'grade': 'B', 'tot': 254}\n"
     ]
    }
   ],
   "source": [
    "rows = students.find()\n",
    "for row in rows:\n",
    "    tot = row['kor']+row['eng']+row['mat']\n",
    "    avg = tot/3\n",
    "    if avg >= 90:\n",
    "        grade='A'\n",
    "    elif 80 <= avg < 90:\n",
    "        grade='B'\n",
    "    elif 70 <= avg < 80:\n",
    "        grade='C'\n",
    "    elif 60 <= avg < 70:\n",
    "        grade='D'\n",
    "    else:\n",
    "        grade='F'\n",
    "    students.update_one({'no':row['no']}, {'$set':{'tot':tot, 'avg':avg, 'grade':grade}}) # 'avg':f'{avg:.1f}'로 하면 소수점 한 자리만 나옴\n",
    "\n",
    "rows = students.find()\n",
    "for row in rows:\n",
    "    print(row)\n"
   ]
  },
  {
   "cell_type": "code",
   "execution_count": 14,
   "metadata": {},
   "outputs": [
    {
     "name": "stdout",
     "output_type": "stream",
     "text": [
      "학번\t이름\t국어\t영어\t수학\t총점\t평균\t등급\n",
      "============================================================\n",
      "1\t김철수\t100\t100\t77\t277\t92.33\tA\n",
      "3\t송지수\t92\t87\t75\t254\t84.67\tB\n"
     ]
    }
   ],
   "source": [
    "rows = students.find()\n",
    "print('학번\\t이름\\t국어\\t영어\\t수학\\t총점\\t평균\\t등급')\n",
    "print('='*60)\n",
    "for row in rows:\n",
    "    print('{}\\t{}\\t{}\\t{}\\t{}\\t{}\\t{:.2f}\\t{}'.format(row['no'], row['name'], row['kor'], row['eng'], row['mat'], row['tot'], row['avg'], row['grade']))"
   ]
  },
  {
   "cell_type": "code",
   "execution_count": 15,
   "metadata": {},
   "outputs": [
    {
     "name": "stdout",
     "output_type": "stream",
     "text": [
      "조건 검색\n",
      "{'_id': ObjectId('61971f9ac87726732d2f5102'), 'no': 3, 'name': '송지수', 'kor': 92, 'eng': 87, 'mat': 75, 'avg': 84.66666666666667, 'grade': 'B', 'tot': 254}\n"
     ]
    }
   ],
   "source": [
    "print('조건 검색')\n",
    "myrow=students.find({'no':3})\n",
    "for field in myrow:\n",
    "    print(field)"
   ]
  },
  {
   "cell_type": "code",
   "execution_count": null,
   "metadata": {},
   "outputs": [],
   "source": []
  },
  {
   "cell_type": "code",
   "execution_count": null,
   "metadata": {},
   "outputs": [],
   "source": []
  }
 ],
 "metadata": {
  "interpreter": {
   "hash": "cef9e06bb236b2a8629b07e87a04b187b952a0f661eff5533360a155783f0c33"
  },
  "kernelspec": {
   "display_name": "Python 3.8.8 64-bit ('base': conda)",
   "language": "python",
   "name": "python3"
  },
  "language_info": {
   "codemirror_mode": {
    "name": "ipython",
    "version": 3
   },
   "file_extension": ".py",
   "mimetype": "text/x-python",
   "name": "python",
   "nbconvert_exporter": "python",
   "pygments_lexer": "ipython3",
   "version": "3.8.8"
  },
  "orig_nbformat": 4
 },
 "nbformat": 4,
 "nbformat_minor": 2
}
