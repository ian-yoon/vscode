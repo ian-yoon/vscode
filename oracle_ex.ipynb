{
 "cells": [
  {
   "cell_type": "code",
   "execution_count": 8,
   "metadata": {},
   "outputs": [],
   "source": [
    "import cx_Oracle\n",
    "conn = cx_Oracle.connect(\"hr/hr@localhost:1521/xe\")\n",
    "cursor = conn.cursor()"
   ]
  },
  {
   "cell_type": "code",
   "execution_count": 9,
   "metadata": {},
   "outputs": [
    {
     "name": "stdout",
     "output_type": "stream",
     "text": [
      "상품개수:  6\n",
      "(1, '레몬', 1500, <cx_Oracle.LOB object at 0x000002225A6B4D20>, 'lemon.jpg')\n",
      "레몬에 포함된 구연산은 피로회복에 좋습니다. 비타민 C도 풍부합니다.\n",
      "(2, '오렌지', 2000, <cx_Oracle.LOB object at 0x000002225B3ED120>, 'orange.jpg')\n",
      "비타민 C가 풍부합니다. 생과일 주스로 마시면 좋습니다.\n",
      "(3, '키위', 3000, <cx_Oracle.LOB object at 0x000002225B3ED2D0>, 'kiwi.jpg')\n",
      "비타민 C가 매우 풍부합니다. 다이어트나 미용에 좋습니다.\n",
      "(4, '포도', 5000, <cx_Oracle.LOB object at 0x000002225B3ED5D0>, 'grape.jpg')\n",
      "폴리페놀을 다량 함유하고 있어 항산화 작용을 합니다.\n",
      "(5, '딸기', 8000, <cx_Oracle.LOB object at 0x000002225B3ED630>, 'strawberry.jpg')\n",
      "비타민 C나 플라보노이드를 다량 함유하고 있습니다.\n",
      "(6, '귤', 7000, <cx_Oracle.LOB object at 0x000002225B3ED600>, 'tangerine.jpg')\n",
      "시네피린을 함유하고 있어 감기 예방에 좋다고 합니다.\n"
     ]
    }
   ],
   "source": [
    "sql = \"select count(*) from product\"\n",
    "cursor.execute(sql)\n",
    "count = cursor.fetchone()\n",
    "print(\"상품개수: \",count[0])\n",
    "\n",
    "sql = \"select * from product\"\n",
    "cursor.execute(sql)\n",
    "for row in cursor:\n",
    "    description = row[3].read()\n",
    "    print(row)\n",
    "    print(description)\n",
    "\n",
    "cursor.close()\n",
    "conn.close()"
   ]
  },
  {
   "cell_type": "code",
   "execution_count": 14,
   "metadata": {},
   "outputs": [],
   "source": [
    "import cx_Oracle\n",
    "conn = cx_Oracle.connect(\"hr/hr@localhost:1521/xe\")\n",
    "cursor = conn.cursor()\n",
    "\n",
    "sql = \"delete from product\"\n",
    "cursor.execute(sql)"
   ]
  },
  {
   "cell_type": "code",
   "execution_count": 15,
   "metadata": {},
   "outputs": [
    {
     "name": "stdout",
     "output_type": "stream",
     "text": [
      "(1, '레몬', 1500, '레몬에 포함된 구연산은 피로회복에 좋습니다. 비타민 C도 풍부합니다.', 'lemon.jpg')\n",
      "(2, '오렌지', 2000, '비타민 C가 풍부합니다. 생과일 주스로 마시면 좋습니다.', 'orange.jpg')\n",
      "(3, '키위', 3000, '비타민 C가 매우 풍부합니다. 다이어트나 미용에 좋습니다.', 'kiwi.jpg')\n",
      "(4, '포도', 5000, '폴리페놀을 다량 함유하고 있어 항산화 작용을 합니다.', 'grape.jpg')\n",
      "(5, '딸기', 8000, '비타민 C나 플라보노이드를 다량 함유하고 있습니다.', 'strawberry.jpg')\n",
      "(6, '귤', 7000, '시네피린을 함유하고 있어 감기 예방에 좋다고 합니다.', 'tangerine.jpg')\n"
     ]
    }
   ],
   "source": [
    "items = [(1,'레몬',1500,'레몬에 포함된 구연산은 피로회복에 좋습니다. 비타민 C도 풍부합니다.','lemon.jpg'), (2,'오렌지',2000,'비타민 C가 풍부합니다. 생과일 주스로 마시면 좋습니다.','orange.jpg'), (3,'키위',3000,'비타민 C가 매우 풍부합니다. 다이어트나 미용에 좋습니다.','kiwi.jpg'), (4,'포도',5000,'폴리페놀을 다량 함유하고 있어 항산화 작용을 합니다.','grape.jpg'), (5,'딸기',8000,'비타민 C나 플라보노이드를 다량 함유하고 있습니다.','strawberry.jpg'), (6,'귤',7000,'시네피린을 함유하고 있어 감기 예방에 좋다고 합니다.','tangerine.jpg')]\n",
    "for row in items:\n",
    "    sql = \"insert into product values (:1, :2, :3, :4, :5)\"\n",
    "    cursor.execute(sql, row)\n",
    "    print(row)"
   ]
  },
  {
   "cell_type": "code",
   "execution_count": 16,
   "metadata": {},
   "outputs": [],
   "source": [
    "conn.commit()"
   ]
  },
  {
   "cell_type": "code",
   "execution_count": 17,
   "metadata": {},
   "outputs": [
    {
     "name": "stdout",
     "output_type": "stream",
     "text": [
      "상품개수:  6\n",
      "(1, '레몬', 1500, <cx_Oracle.LOB object at 0x000002225A816840>, 'lemon.jpg')\n",
      "레몬에 포함된 구연산은 피로회복에 좋습니다. 비타민 C도 풍부합니다.\n",
      "(2, '오렌지', 2000, <cx_Oracle.LOB object at 0x000002225B3ED360>, 'orange.jpg')\n",
      "비타민 C가 풍부합니다. 생과일 주스로 마시면 좋습니다.\n",
      "(3, '키위', 3000, <cx_Oracle.LOB object at 0x000002225B3ED4E0>, 'kiwi.jpg')\n",
      "비타민 C가 매우 풍부합니다. 다이어트나 미용에 좋습니다.\n",
      "(4, '포도', 5000, <cx_Oracle.LOB object at 0x000002225B3ED360>, 'grape.jpg')\n",
      "폴리페놀을 다량 함유하고 있어 항산화 작용을 합니다.\n",
      "(5, '딸기', 8000, <cx_Oracle.LOB object at 0x000002225B3ED4E0>, 'strawberry.jpg')\n",
      "비타민 C나 플라보노이드를 다량 함유하고 있습니다.\n",
      "(6, '귤', 7000, <cx_Oracle.LOB object at 0x000002225B3ED360>, 'tangerine.jpg')\n",
      "시네피린을 함유하고 있어 감기 예방에 좋다고 합니다.\n"
     ]
    }
   ],
   "source": [
    "sql = \"select count(*) from product\"\n",
    "cursor.execute(sql)\n",
    "count = cursor.fetchone()\n",
    "print(\"상품개수: \",count[0])\n",
    "\n",
    "sql = \"select * from product\"\n",
    "cursor.execute(sql)\n",
    "for row in cursor:\n",
    "    description = row[3].read()\n",
    "    print(row)\n",
    "    print(description)\n",
    "\n",
    "cursor.close()\n",
    "conn.close()"
   ]
  },
  {
   "cell_type": "code",
   "execution_count": 18,
   "metadata": {},
   "outputs": [],
   "source": [
    "import cx_Oracle\n",
    "conn = cx_Oracle.connect(\"hr/hr@localhost:1521/xe\")\n",
    "cursor = conn.cursor()\n",
    "\n",
    "sql = \"delete from product where product_id=6\"\n",
    "cursor.execute(sql)"
   ]
  },
  {
   "cell_type": "code",
   "execution_count": 19,
   "metadata": {},
   "outputs": [
    {
     "name": "stdout",
     "output_type": "stream",
     "text": [
      "(1, '레몬', 1500, <cx_Oracle.LOB object at 0x000002225A8167B0>, 'lemon.jpg')\n",
      "레몬에 포함된 구연산은 피로회복에 좋습니다. 비타민 C도 풍부합니다.\n",
      "(2, '오렌지', 2000, <cx_Oracle.LOB object at 0x000002225A7CFC90>, 'orange.jpg')\n",
      "비타민 C가 풍부합니다. 생과일 주스로 마시면 좋습니다.\n",
      "(3, '키위', 3000, <cx_Oracle.LOB object at 0x000002225A7CF6C0>, 'kiwi.jpg')\n",
      "비타민 C가 매우 풍부합니다. 다이어트나 미용에 좋습니다.\n",
      "(4, '포도', 5000, <cx_Oracle.LOB object at 0x000002225A7CFC90>, 'grape.jpg')\n",
      "폴리페놀을 다량 함유하고 있어 항산화 작용을 합니다.\n",
      "(5, '딸기', 8000, <cx_Oracle.LOB object at 0x000002225A7CF6C0>, 'strawberry.jpg')\n",
      "비타민 C나 플라보노이드를 다량 함유하고 있습니다.\n"
     ]
    }
   ],
   "source": [
    "sql = \"select * from product\"\n",
    "cursor.execute(sql)\n",
    "for row in cursor:\n",
    "    description = row[3].read()\n",
    "    print(row)\n",
    "    print(description)"
   ]
  },
  {
   "cell_type": "code",
   "execution_count": 20,
   "metadata": {},
   "outputs": [],
   "source": [
    "sql = \"delete from product\"\n",
    "cursor.execute(sql)"
   ]
  },
  {
   "cell_type": "code",
   "execution_count": 21,
   "metadata": {},
   "outputs": [],
   "source": [
    "sql = \"insert into product values (:1, :2, :3, :4, :5)\"\n",
    "cursor.bindarraysize=len(items)\n",
    "cursor.executemany(sql, items)"
   ]
  },
  {
   "cell_type": "code",
   "execution_count": 22,
   "metadata": {},
   "outputs": [
    {
     "name": "stdout",
     "output_type": "stream",
     "text": [
      "\n",
      "레코드셋:  [(1, '레몬', 1500, <cx_Oracle.LOB object at 0x000002225A6B4540>, 'lemon.jpg'), (2, '오렌지', 2000, <cx_Oracle.LOB object at 0x000002225A6B47E0>, 'orange.jpg'), (3, '키위', 3000, <cx_Oracle.LOB object at 0x000002225A6B48A0>, 'kiwi.jpg'), (4, '포도', 5000, <cx_Oracle.LOB object at 0x000002225A6B4A20>, 'grape.jpg'), (5, '딸기', 8000, <cx_Oracle.LOB object at 0x000002225B3ED420>, 'strawberry.jpg'), (6, '귤', 7000, <cx_Oracle.LOB object at 0x000002225B3EDC30>, 'tangerine.jpg')]\n",
      "(1, '레몬', 1500, <cx_Oracle.LOB object at 0x000002225A6B4540>, 'lemon.jpg')\n",
      "(2, '오렌지', 2000, <cx_Oracle.LOB object at 0x000002225A6B47E0>, 'orange.jpg')\n",
      "(3, '키위', 3000, <cx_Oracle.LOB object at 0x000002225A6B48A0>, 'kiwi.jpg')\n",
      "(4, '포도', 5000, <cx_Oracle.LOB object at 0x000002225A6B4A20>, 'grape.jpg')\n",
      "(5, '딸기', 8000, <cx_Oracle.LOB object at 0x000002225B3ED420>, 'strawberry.jpg')\n",
      "(6, '귤', 7000, <cx_Oracle.LOB object at 0x000002225B3EDC30>, 'tangerine.jpg')\n"
     ]
    }
   ],
   "source": [
    "sql = \"select * from product\"\n",
    "cursor.execute(sql)\n",
    "rs = cursor.fetchall()\n",
    "print(\"\\n레코드셋: \",rs)\n",
    "for row in rs:\n",
    "    print(row)\n",
    "\n",
    "conn.commit()\n",
    "cursor.close()\n",
    "conn.close()"
   ]
  },
  {
   "cell_type": "code",
   "execution_count": 23,
   "metadata": {},
   "outputs": [
    {
     "name": "stdout",
     "output_type": "stream",
     "text": [
      "(101, '컴퓨터공학', 7)\n",
      "(102, '데이터사이언스', 4)\n",
      "(103, '소프트웨어공학', 1)\n",
      "(201, '전자공학', 4)\n",
      "(202, '기계공학', 2)\n",
      "(301, '문헌정보학', 2)\n"
     ]
    }
   ],
   "source": [
    "import cx_Oracle\n",
    "conn = cx_Oracle.connect('hr/hr@localhost:1521/xe')\n",
    "cursor = conn.cursor()\n",
    "sql = '''\n",
    "select s.majorno, mname, count(*)\n",
    "from stud s, major m\n",
    "where s.majorno = m.majorno\n",
    "group by s.majorno, mname\n",
    "order by s.majorno\n",
    "'''\n",
    "cursor.execute(sql)\n",
    "rows = cursor.fetchall()\n",
    "for row in rows:\n",
    "    print(row)\n",
    "    "
   ]
  },
  {
   "cell_type": "code",
   "execution_count": 24,
   "metadata": {},
   "outputs": [
    {
     "name": "stdout",
     "output_type": "stream",
     "text": [
      "[1, 2, 3, 4, 5, 6]\n",
      "['컴퓨터공학', '데이터사이언스', '소프트웨어공학', '전자공학', '기계공학', '문헌정보학']\n",
      "[7, 4, 1, 4, 2, 2]\n"
     ]
    }
   ],
   "source": [
    "x = list(range(1,7))\n",
    "names = [] # 학과명\n",
    "y = [] # 학생수\n",
    "for row in rows:\n",
    "    names.append(row[1])\n",
    "    y.append(row[2])\n",
    "print(x)\n",
    "print(names)\n",
    "print(y)"
   ]
  },
  {
   "cell_type": "code",
   "execution_count": 26,
   "metadata": {},
   "outputs": [
    {
     "data": {
      "text/plain": [
       "<matplotlib.legend.Legend at 0x22262f82640>"
      ]
     },
     "execution_count": 26,
     "metadata": {},
     "output_type": "execute_result"
    },
    {
     "data": {
      "image/png": "[encoded data removed]",
      "text/plain": [
       "<Figure size 1152x648 with 1 Axes>"
      ]
     },
     "metadata": {},
     "output_type": "display_data"
    }
   ],
   "source": [
    "import matplotlib.pyplot as plt\n",
    "%matplotlib inline\n",
    "from matplotlib import rc,font_manager\n",
    "font_name = font_manager.FontProperties(\n",
    "    fname='c:/windows/fonts/gulim.ttc').get_name()\n",
    "rc('font', family=font_name)\n",
    "plt.rcParams['figure.figsize']=(16,9)\n",
    "plt.title('학과별 학생수',fontsize=15)\n",
    "plt.pie(y,labels=names,autopct='%.1f%%') # y데이터만으로 가능, 라벨 이름은 학과명으로, 퍼센티지는 소수점 한자리\n",
    "plt.legend(names,bbox_to_anchor=[1,1.2]) # 범례는 학과명으로, 범례위치는 1, 1.2로\n"
   ]
  },
  {
   "cell_type": "code",
   "execution_count": 27,
   "metadata": {},
   "outputs": [],
   "source": [
    "cursor.close()\n",
    "conn.close()"
   ]
  },
  {
   "cell_type": "code",
   "execution_count": 28,
   "metadata": {},
   "outputs": [
    {
     "data": {
      "text/html": [
       "<div>\n",
       "<style scoped>\n",
       "    .dataframe tbody tr th:only-of-type {\n",
       "        vertical-align: middle;\n",
       "    }\n",
       "\n",
       "    .dataframe tbody tr th {\n",
       "        vertical-align: top;\n",
       "    }\n",
       "\n",
       "    .dataframe thead th {\n",
       "        text-align: right;\n",
       "    }\n",
       "</style>\n",
       "<table border=\"1\" class=\"dataframe\">\n",
       "  <thead>\n",
       "    <tr style=\"text-align: right;\">\n",
       "      <th></th>\n",
       "      <th>SepalLength</th>\n",
       "      <th>SepalWidth</th>\n",
       "      <th>PetalLength</th>\n",
       "      <th>PetalWidth</th>\n",
       "      <th>Name</th>\n",
       "      <th>Species</th>\n",
       "    </tr>\n",
       "  </thead>\n",
       "  <tbody>\n",
       "    <tr>\n",
       "      <th>0</th>\n",
       "      <td>5.1</td>\n",
       "      <td>3.5</td>\n",
       "      <td>1.4</td>\n",
       "      <td>0.2</td>\n",
       "      <td>setosa</td>\n",
       "      <td>0</td>\n",
       "    </tr>\n",
       "    <tr>\n",
       "      <th>1</th>\n",
       "      <td>4.9</td>\n",
       "      <td>3.0</td>\n",
       "      <td>1.4</td>\n",
       "      <td>0.2</td>\n",
       "      <td>setosa</td>\n",
       "      <td>0</td>\n",
       "    </tr>\n",
       "    <tr>\n",
       "      <th>2</th>\n",
       "      <td>4.7</td>\n",
       "      <td>3.2</td>\n",
       "      <td>1.3</td>\n",
       "      <td>0.2</td>\n",
       "      <td>setosa</td>\n",
       "      <td>0</td>\n",
       "    </tr>\n",
       "    <tr>\n",
       "      <th>3</th>\n",
       "      <td>4.6</td>\n",
       "      <td>3.1</td>\n",
       "      <td>1.5</td>\n",
       "      <td>0.2</td>\n",
       "      <td>setosa</td>\n",
       "      <td>0</td>\n",
       "    </tr>\n",
       "    <tr>\n",
       "      <th>4</th>\n",
       "      <td>5.0</td>\n",
       "      <td>3.6</td>\n",
       "      <td>1.4</td>\n",
       "      <td>0.2</td>\n",
       "      <td>setosa</td>\n",
       "      <td>0</td>\n",
       "    </tr>\n",
       "  </tbody>\n",
       "</table>\n",
       "</div>"
      ],
      "text/plain": [
       "   SepalLength  SepalWidth  PetalLength  PetalWidth    Name  Species\n",
       "0          5.1         3.5          1.4         0.2  setosa        0\n",
       "1          4.9         3.0          1.4         0.2  setosa        0\n",
       "2          4.7         3.2          1.3         0.2  setosa        0\n",
       "3          4.6         3.1          1.5         0.2  setosa        0\n",
       "4          5.0         3.6          1.4         0.2  setosa        0"
      ]
     },
     "execution_count": 28,
     "metadata": {},
     "output_type": "execute_result"
    }
   ],
   "source": [
    "import pandas as pd\n",
    "df = pd.read_csv('c:/data/iris/iris.csv')\n",
    "df.head()"
   ]
  },
  {
   "cell_type": "code",
   "execution_count": 29,
   "metadata": {},
   "outputs": [],
   "source": [
    "from sqlalchemy import create_engine\n",
    "import cx_Oracle\n",
    "engine = create_engine('oracle+cx_oracle://hr:hr@xe')\n",
    "conn = engine.connect()\n",
    "df.to_sql(name='iris', con=engine, if_exists='replace', index=False)"
   ]
  },
  {
   "cell_type": "code",
   "execution_count": 30,
   "metadata": {},
   "outputs": [
    {
     "name": "stderr",
     "output_type": "stream",
     "text": [
      "Exception during reset or similar\n",
      "Traceback (most recent call last):\n",
      "  File \"C:\\anaconda3\\lib\\site-packages\\sqlalchemy\\pool\\base.py\", line 670, in _finalize_fairy\n",
      "    fairy._reset(pool)\n",
      "  File \"C:\\anaconda3\\lib\\site-packages\\sqlalchemy\\pool\\base.py\", line 875, in _reset\n",
      "    pool._dialect.do_rollback(self)\n",
      "  File \"C:\\anaconda3\\lib\\site-packages\\sqlalchemy\\engine\\default.py\", line 642, in do_rollback\n",
      "    dbapi_connection.rollback()\n",
      "cx_Oracle.DatabaseError: DPI-1080: connection was closed by ORA-3135\n"
     ]
    },
    {
     "name": "stdout",
     "output_type": "stream",
     "text": [
      "(2008, 1, 3, 4, '1556', 1455, '1704', 1600, 'WN', '354', 'N496WN', '68', '65', '41', '64', '61', 'LAS', 'LAX', '236', '9', '18', '0', None, '0', '61', '0', '3', '0', '0')\n",
      "(2008, 1, 3, 4, '1254', 1250, '1404', 1355, 'WN', '784', 'N401WN', '70', '65', '43', '9', '4', 'LAS', 'LAX', '236', '7', '20', '0', None, '0', 'NA', 'NA', 'NA', 'NA', 'NA')\n",
      "(2008, 1, 3, 4, '840', 840, '946', 945, 'WN', '790', 'N351SW', '66', '65', '43', '1', '0', 'LAS', 'LAX', '236', '11', '12', '0', None, '0', 'NA', 'NA', 'NA', 'NA', 'NA')\n",
      "(2008, 1, 3, 4, '1540', 1525, '1648', 1630, 'WN', '1061', 'N422WN', '68', '65', '47', '18', '15', 'LAS', 'LAX', '236', '5', '16', '0', None, '0', '10', '0', '3', '0', '5')\n"
     ]
    }
   ],
   "source": [
    "import cx_Oracle\n",
    "conn = cx_Oracle.connect(\"hr/hr@localhost:1521/xe\")\n",
    "\n",
    "cursor = conn.cursor()\n",
    "cursor.execute('select * from ontime where rownum < 5')\n",
    "\n",
    "rows = cursor.fetchall()\n",
    "for row in rows:\n",
    "    print(row)\n",
    "\n",
    "cursor.close()\n",
    "conn.close()"
   ]
  },
  {
   "cell_type": "code",
   "execution_count": 33,
   "metadata": {},
   "outputs": [
    {
     "name": "stdout",
     "output_type": "stream",
     "text": [
      "WN\t10.276262862449386\n",
      "OO\t7.2952999070807305\n",
      "DL\t7.887967410954327\n",
      "B6\t12.447679903718171\n",
      "CO\t13.023581444438861\n",
      "HA\t0.4510561899524472\n",
      "OH\t11.16054087152783\n",
      "AQ\t-1.3902564102564103\n",
      "9E\t6.5856228642909445\n",
      "NW\t6.409786223004613\n",
      "AA\t12.899916513056201\n",
      "AS\t6.752723325965242\n",
      "UA\t13.784372045426737\n",
      "FL\t9.183920300820837\n",
      "MQ\t10.29978622071234\n",
      "EV\t11.711389111645728\n",
      "YV\t11.572015847487545\n",
      "XE\t11.093709113241301\n",
      "US\t5.635456327203702\n",
      "F9\t5.901056786616821\n"
     ]
    }
   ],
   "source": [
    "conn = cx_Oracle.connect(\"hr/hr@localhost:1521/xe\")\n",
    "cursor = conn.cursor()\n",
    "cursor.execute('''\n",
    "select uniquecarrier, avg(depdelay)\n",
    "from ontime\n",
    "group by uniquecarrier''')\n",
    "rows = cursor.fetchall()\n",
    "for row in rows:\n",
    "    print(f'{row[0]}\\t{row[1]}')\n"
   ]
  },
  {
   "cell_type": "code",
   "execution_count": 34,
   "metadata": {},
   "outputs": [],
   "source": [
    "cursor.close()\n",
    "conn.close()"
   ]
  },
  {
   "cell_type": "code",
   "execution_count": 35,
   "metadata": {},
   "outputs": [
    {
     "name": "stdout",
     "output_type": "stream",
     "text": [
      "(1, 279427)\n",
      "(2, 278902)\n",
      "(3, 294556)\n",
      "(4, 256142)\n",
      "(5, 254673)\n",
      "(6, 295897)\n",
      "(7, 264630)\n",
      "(8, 239737)\n",
      "(9, 169959)\n",
      "(10, 183582)\n",
      "(11, 181506)\n",
      "(12, 280493)\n"
     ]
    }
   ],
   "source": [
    "conn = cx_Oracle.connect(\"hr/hr@localhost:1521/xe\")\n",
    "cursor = conn.cursor()\n",
    "cursor.execute('''\n",
    "select month, count(*)\n",
    "from ontime\n",
    "where arrdelay > 0\n",
    "group by month\n",
    "order by month''')\n",
    "rows = cursor.fetchall()\n",
    "for row in rows:\n",
    "    print(row)\n",
    "\n",
    "cursor.close()\n",
    "conn.close()"
   ]
  },
  {
   "cell_type": "code",
   "execution_count": 36,
   "metadata": {},
   "outputs": [
    {
     "name": "stdout",
     "output_type": "stream",
     "text": [
      "[1, 2, 3, 4, 5, 6, 7, 8, 9, 10, 11, 12]\n",
      "[279427, 278902, 294556, 256142, 254673, 295897, 264630, 239737, 169959, 183582, 181506, 280493]\n"
     ]
    },
    {
     "data": {
      "text/plain": [
       "<BarContainer object of 12 artists>"
      ]
     },
     "execution_count": 36,
     "metadata": {},
     "output_type": "execute_result"
    },
    {
     "data": {
      "image/png": "[encoded data removed]",
      "text/plain": [
       "<Figure size 432x288 with 1 Axes>"
      ]
     },
     "metadata": {
      "needs_background": "light"
     },
     "output_type": "display_data"
    }
   ],
   "source": [
    "x = list(range(1, 13))\n",
    "y = []\n",
    "for row in rows:\n",
    "    y.append(row[1])\n",
    "print(x)\n",
    "print(y)\n",
    "\n",
    "import pandas as pd\n",
    "%matplotlib inline\n",
    "import matplotlib.pyplot as plt\n",
    "\n",
    "plt.plot(x,y)\n",
    "plt.bar(x,y)"
   ]
  },
  {
   "cell_type": "code",
   "execution_count": 38,
   "metadata": {},
   "outputs": [
    {
     "name": "stdout",
     "output_type": "stream",
     "text": [
      "(1, 8.030254747872275)\n",
      "(2, 7.29232332960935)\n",
      "(3, 6.379804071503802)\n",
      "(4, 8.246549198623555)\n",
      "(5, 10.675214410055972)\n",
      "(6, 5.682499626837823)\n",
      "(7, 9.294087238339747)\n"
     ]
    }
   ],
   "source": [
    "conn = cx_Oracle.connect(\"hr/hr@localhost:1521/xe\")\n",
    "cursor = conn.cursor()\n",
    "cursor.execute('''\n",
    "select dayofweek, avg(arrdelay)\n",
    "from ontime\n",
    "group by dayofweek\n",
    "order by dayofweek\n",
    "''')\n",
    "rows = cursor.fetchall()\n",
    "for row in rows:\n",
    "    print(row)\n",
    "\n",
    "cursor.close()\n",
    "conn.close()"
   ]
  },
  {
   "cell_type": "code",
   "execution_count": 39,
   "metadata": {},
   "outputs": [
    {
     "name": "stdout",
     "output_type": "stream",
     "text": [
      "['월', '화', '수', '목', '금', '토', '일']\n",
      "[8.030254747872275, 7.29232332960935, 6.379804071503802, 8.246549198623555, 10.675214410055972, 5.682499626837823, 9.294087238339747]\n"
     ]
    },
    {
     "data": {
      "text/plain": [
       "<BarContainer object of 7 artists>"
      ]
     },
     "execution_count": 39,
     "metadata": {},
     "output_type": "execute_result"
    },
    {
     "data": {
      "image/png": "[encoded data removed]",
      "text/plain": [
       "<Figure size 432x288 with 1 Axes>"
      ]
     },
     "metadata": {
      "needs_background": "light"
     },
     "output_type": "display_data"
    }
   ],
   "source": [
    "x = ['월', '화', '수', '목', '금', '토', '일']\n",
    "y = []\n",
    "for row in rows:\n",
    "    y.append(row[1])\n",
    "print(x)\n",
    "print(y)\n",
    "\n",
    "import pandas as pd\n",
    "%matplotlib inline\n",
    "import matplotlib.pyplot as plt\n",
    "\n",
    "from matplotlib import rc,font_manager\n",
    "font_name = font_manager.FontProperties(fname='c:/windows/fonts/gulim.ttc').get_name()\n",
    "rc('font', family=font_name)\n",
    "\n",
    "plt.plot(x,y)\n",
    "plt.bar(x,y)"
   ]
  },
  {
   "cell_type": "code",
   "execution_count": 40,
   "metadata": {},
   "outputs": [
    {
     "name": "stdout",
     "output_type": "stream",
     "text": [
      "(1, 2202, -28)\n",
      "(2, 2216, -22.25)\n",
      "(3, 1807, -20)\n",
      "(4, 2154, -17.666666666666668)\n",
      "(5, 1948, -16)\n"
     ]
    }
   ],
   "source": [
    "conn = cx_Oracle.connect(\"hr/hr@localhost:1521/xe\")\n",
    "cursor = conn.cursor()\n",
    "cursor.execute('''\n",
    "select *\n",
    "from (\n",
    "    select rownum as rn, A.*\n",
    "    from (\n",
    "        select CRSDepTime, avg(arrdelay) arrdelay\n",
    "        from ontime\n",
    "        where month=10 and dayofweek=1\n",
    "        group by CRSDepTime\n",
    "        order by arrdelay\n",
    "    ) A\n",
    ") where rn between 1 and 5\n",
    "''')\n",
    "rows = cursor.fetchall()\n",
    "for row in rows:\n",
    "    print(row)\n",
    "\n",
    "cursor.close()\n",
    "conn.close()"
   ]
  },
  {
   "cell_type": "code",
   "execution_count": null,
   "metadata": {},
   "outputs": [],
   "source": []
  },
  {
   "cell_type": "code",
   "execution_count": null,
   "metadata": {},
   "outputs": [],
   "source": []
  },
  {
   "cell_type": "code",
   "execution_count": null,
   "metadata": {},
   "outputs": [],
   "source": []
  },
  {
   "cell_type": "code",
   "execution_count": null,
   "metadata": {},
   "outputs": [],
   "source": []
  },
  {
   "cell_type": "code",
   "execution_count": null,
   "metadata": {},
   "outputs": [],
   "source": []
  }
 ],
 "metadata": {
  "interpreter": {
   "hash": "cef9e06bb236b2a8629b07e87a04b187b952a0f661eff5533360a155783f0c33"
  },
  "kernelspec": {
   "display_name": "Python 3.8.8 64-bit ('base': conda)",
   "language": "python",
   "name": "python3"
  },
  "language_info": {
   "codemirror_mode": {
    "name": "ipython",
    "version": 3
   },
   "file_extension": ".py",
   "mimetype": "text/x-python",
   "name": "python",
   "nbconvert_exporter": "python",
   "pygments_lexer": "ipython3",
   "version": "3.8.8"
  },
  "orig_nbformat": 4
 },
 "nbformat": 4,
 "nbformat_minor": 2
}
