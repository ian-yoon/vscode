{
 "cells": [
  {
   "cell_type": "code",
   "execution_count": null,
   "metadata": {},
   "outputs": [],
   "source": [
    "from tensorflow.keras.models import Sequential\n",
    "from keras.layers import Dense\n",
    "import numpy as np\n",
    "\n",
    "x = np.array([0,1,2,3,4])\n",
    "y = x*2 + 1 # 가중치 2, 절편 1로 초기 설정\n",
    "\n",
    "model = Sequential()\n",
    "model.add(Dense(1,input_shape=(1,))) # 출력 노드 1, 입력 노드 1\n",
    "model.compile(optimizer='sgd', loss='mse') # 확률적경사하강법sgd\n",
    "model.fit(x[:2].reshape(-1,1), y[:2].reshape(-1,1), epochs=500, verbose=1)"
   ]
  },
  {
   "cell_type": "code",
   "execution_count": null,
   "metadata": {},
   "outputs": [],
   "source": [
    "mse = model.evaluate(x[2:], y[2:])\n",
    "print(mse)\n",
    "print('실제값: ',y[2:])\n",
    "print('예측값: ',model.predict(x[2:]).flatten()) # 원래 2차원 배열로 나오는 결과를 flatten()을 통해 1차원 배열로 바꿔줌"
   ]
  },
  {
   "cell_type": "code",
   "execution_count": null,
   "metadata": {},
   "outputs": [],
   "source": [
    "# mnist 손글씨 이미지 분류"
   ]
  },
  {
   "cell_type": "code",
   "execution_count": null,
   "metadata": {},
   "outputs": [],
   "source": [
    "from tensorflow.keras.datasets import mnist\n",
    "\n",
    "(X_train, y_train), (X_test, y_test) = mnist.load_data()\n",
    "\n",
    "# 이미지이다보니 픽셀화되면서 0에서 255의 값이 나오는데, \n",
    "# 이때 가중치가 붙는 것을 방지하기 위해 255로 나눔으로써 0에서 1 사이의 값이 나오도록 함\n",
    "X_train = X_train.reshape(60000, 784).astype('float32')/255.0\n",
    "X_test = X_test.reshape(10000, 784).astype('float32')/255.0"
   ]
  },
  {
   "cell_type": "code",
   "execution_count": null,
   "metadata": {},
   "outputs": [],
   "source": [
    "from sklearn.linear_model import LogisticRegression\n",
    "\n",
    "model = LogisticRegression()\n",
    "model.fit(X_train[:100], y_train[:100])\n",
    "\n",
    "print(model.score(X_train[:100],y_train[:100]))\n",
    "print(model.score(X_test[:100], y_test[:100]))"
   ]
  },
  {
   "cell_type": "code",
   "execution_count": null,
   "metadata": {},
   "outputs": [],
   "source": [
    "import pickle\n",
    "\n",
    "pickle.dump(model, open('/Users/ian/Desktop/Study/data/mnist/mnist_logit.model', 'wb'))"
   ]
  },
  {
   "cell_type": "code",
   "execution_count": null,
   "metadata": {},
   "outputs": [],
   "source": [
    "model = pickle.load(open(\"/Users/ian/Desktop/Study/data/mnist/mnist_logit.model\", \"rb\"))\n",
    "\n",
    "pred = model.predict(X_test[:10])\n",
    "print(pred[:10])\n",
    "print(y_test[:10])"
   ]
  },
  {
   "cell_type": "code",
   "execution_count": null,
   "metadata": {},
   "outputs": [],
   "source": [
    "from sklearn.metrics import confusion_matrix\n",
    "import pandas as pd\n",
    "\n",
    "pred = model.predict(X_test)\n",
    "\n",
    "cm = confusion_matrix(y_test, pred)\n",
    "df_cm = pd.DataFrame(cm, index=range(10), columns=range(10))\n",
    "df_cm"
   ]
  },
  {
   "cell_type": "code",
   "execution_count": null,
   "metadata": {},
   "outputs": [],
   "source": [
    "# 89페이지로~~~~~~~~~~~"
   ]
  },
  {
   "cell_type": "code",
   "execution_count": null,
   "metadata": {},
   "outputs": [],
   "source": [
    "from tensorflow.keras.datasets import mnist\n",
    "from keras.utils import np_utils\n",
    "from tensorflow.keras.models import Sequential\n",
    "from keras.layers import Dense\n",
    "\n",
    "(x_train, y_train), (x_test, y_test) = mnist.load_data()\n",
    "\n",
    "x_train = x_train.reshape(60000, 784).astype('float32')/255.0\n",
    "x_test = x_test.reshape(10000, 784).astype('float32')/255.0\n",
    "\n",
    "y_train = np_utils.to_categorical(y_train)\n",
    "y_test = np_utils.to_categorical(y_test)\n",
    "\n",
    "print(y_train[:5])"
   ]
  },
  {
   "cell_type": "code",
   "execution_count": null,
   "metadata": {},
   "outputs": [],
   "source": [
    "x_val = x_train[:12600]\n",
    "x_train = x_train[12600:]\n",
    "y_val = y_train[:12600]\n",
    "y_train = y_train[12600:]"
   ]
  },
  {
   "cell_type": "code",
   "execution_count": null,
   "metadata": {},
   "outputs": [],
   "source": [
    "model = Sequential()\n",
    "model.add(Dense(units=512, input_dim=28*28, activation='relu'))\n",
    "model.add(Dense(units=10, activation='softmax'))\n",
    "model.compile(loss='categorical_crossentropy', optimizer='sgd', metrics=['accuracy'])"
   ]
  },
  {
   "cell_type": "code",
   "execution_count": null,
   "metadata": {},
   "outputs": [],
   "source": [
    "hist = model.fit(x_train, y_train, epochs=5, batch_size=32, validation_data=(x_val, y_val))"
   ]
  },
  {
   "cell_type": "code",
   "execution_count": null,
   "metadata": {},
   "outputs": [],
   "source": [
    "import numpy as np\n",
    "\n",
    "loss_and_metrics = model.evaluate(x_test, y_test, batch_size=32, verbose=0)\n",
    "print('loss_and_metrics : '+str(loss_and_metrics))"
   ]
  },
  {
   "cell_type": "code",
   "execution_count": null,
   "metadata": {},
   "outputs": [],
   "source": [
    "model.save(\"/Users/ian/Desktop/Study/data/mnist\")"
   ]
  },
  {
   "cell_type": "code",
   "execution_count": null,
   "metadata": {},
   "outputs": [],
   "source": [
    "%matplotlib inline\n",
    "import matplotlib.pyplot as plt\n",
    "\n",
    "fig, loss_ax = plt.subplots()\n",
    "acc_ax = loss_ax.twinx()\n",
    "loss_ax.plot(hist.history['loss'], 'y', label='train loss')\n",
    "loss_ax.plot(hist.history['val_loss'], 'r', label='val loss')\n",
    "acc_ax.plot(hist.history['accuracy'], 'b', label='train acc')\n",
    "acc_ax.plot(hist.history['val_accuracy'], 'g', label='val acc')\n",
    "loss_ax.set_xlabel('epoch')\n",
    "loss_ax.set_ylabel('loss')\n",
    "acc_ax.set_ylabel('accuracy')\n",
    "loss_ax.legend(loc='upper left')\n",
    "acc_ax.legend(loc='lower left')\n",
    "plt.show()"
   ]
  },
  {
   "cell_type": "code",
   "execution_count": null,
   "metadata": {},
   "outputs": [],
   "source": [
    "from tensorflow.keras.models import load_model\n",
    "from numpy import argmax\n",
    "\n",
    "xhat_idx = np.random.choice(x_test.shape[0],50)\n",
    "xhat = x_test[xhat_idx]\n",
    "model = load_model(\"/Users/ian/Desktop/Study/data/mnist\")\n",
    "yhat = model.predict(xhat)\n",
    "\n",
    "for i in range(10):\n",
    "    print(\"실제값: \",argmax(y_test[xhat_idx[i]]),', 예측값: ',np.argmax(yhat[i]))"
   ]
  },
  {
   "cell_type": "code",
   "execution_count": null,
   "metadata": {},
   "outputs": [],
   "source": [
    "# 당뇨병 데이터셋"
   ]
  },
  {
   "cell_type": "code",
   "execution_count": 1,
   "metadata": {},
   "outputs": [],
   "source": [
    "import pandas as pd\n",
    "\n",
    "df = pd.read_csv(\"/Users/ian/Desktop/Study/data/pima/data.csv\")\n",
    "\n",
    "train_cols = df.columns[:8]\n",
    "X = df[train_cols]\n",
    "y = df[\"outcome\"]"
   ]
  },
  {
   "cell_type": "code",
   "execution_count": 2,
   "metadata": {},
   "outputs": [],
   "source": [
    "from imblearn.under_sampling import RandomUnderSampler\n",
    "\n",
    "X_sample, y_sample = RandomUnderSampler(random_state=0).fit_resample(X,y)\n",
    "X_samp = pd.DataFrame(data=X_sample, columns=train_cols)\n",
    "y_samp = pd.DataFrame(data=y_sample, columns=[\"outcome\"])\n",
    "df_samp = pd.concat([X_samp,y_samp],axis=1)\n",
    "\n",
    "X = df_samp[train_cols]\n",
    "y = df_samp[\"outcome\"]"
   ]
  },
  {
   "cell_type": "code",
   "execution_count": 3,
   "metadata": {},
   "outputs": [],
   "source": [
    "from sklearn.model_selection import train_test_split\n",
    "\n",
    "X_train, X_test, y_train, y_test = train_test_split(X, y, test_size=0.2, stratify=y, random_state=10)"
   ]
  },
  {
   "cell_type": "code",
   "execution_count": 4,
   "metadata": {},
   "outputs": [
    {
     "name": "stderr",
     "output_type": "stream",
     "text": [
      "2021-12-24 15:34:56.179092: I tensorflow/core/platform/cpu_feature_guard.cc:151] This TensorFlow binary is optimized with oneAPI Deep Neural Network Library (oneDNN) to use the following CPU instructions in performance-critical operations:  AVX2 FMA\n",
      "To enable them in other operations, rebuild TensorFlow with the appropriate compiler flags.\n"
     ]
    }
   ],
   "source": [
    "from tensorflow.keras.models import Sequential\n",
    "from keras.layers.core import Dense\n",
    "\n",
    "model = Sequential()\n",
    "model.add(Dense(128, input_shape=(len(X_train.columns),), activation='relu'))\n",
    "model.add(Dense(64, activation='relu'))\n",
    "model.add(Dense(64, activation='relu'))\n",
    "model.add(Dense(1, activation='sigmoid')) # 이진분류라서 시그모이드로 출력\n",
    "model.compile(loss='mse', optimizer='adam', metrics=['accuracy'])"
   ]
  },
  {
   "cell_type": "code",
   "execution_count": 5,
   "metadata": {},
   "outputs": [],
   "source": [
    "from sklearn.preprocessing import StandardScaler\n",
    "\n",
    "scaler = StandardScaler()\n",
    "scaler.fit(X_train)\n",
    "X_train_scaled = scaler.transform(X_train)\n",
    "X_test_scaled = scaler.transform(X_test)\n",
    "\n",
    "# pd.DataFrame(X_train_scaled).boxplot()"
   ]
  },
  {
   "cell_type": "code",
   "execution_count": 6,
   "metadata": {},
   "outputs": [],
   "source": [
    "X_train_scaled = pd.DataFrame(X_train_scaled)\n",
    "X_test_scaled = pd.DataFrame(X_test_scaled)"
   ]
  },
  {
   "cell_type": "code",
   "execution_count": 7,
   "metadata": {},
   "outputs": [
    {
     "name": "stdout",
     "output_type": "stream",
     "text": [
      "Epoch 1/500\n",
      "11/11 [==============================] - 1s 21ms/step - loss: 0.2275 - accuracy: 0.6725 - val_loss: 0.2160 - val_accuracy: 0.6163\n",
      "Epoch 2/500\n",
      "11/11 [==============================] - 0s 4ms/step - loss: 0.1888 - accuracy: 0.7398 - val_loss: 0.2073 - val_accuracy: 0.6279\n",
      "Epoch 3/500\n",
      "11/11 [==============================] - 0s 5ms/step - loss: 0.1661 - accuracy: 0.7602 - val_loss: 0.2063 - val_accuracy: 0.6744\n",
      "Epoch 4/500\n",
      "11/11 [==============================] - 0s 5ms/step - loss: 0.1557 - accuracy: 0.7924 - val_loss: 0.2117 - val_accuracy: 0.6628\n",
      "Epoch 5/500\n",
      "11/11 [==============================] - 0s 5ms/step - loss: 0.1504 - accuracy: 0.7778 - val_loss: 0.2127 - val_accuracy: 0.6628\n"
     ]
    }
   ],
   "source": [
    "from tensorflow.keras.callbacks import EarlyStopping\n",
    "\n",
    "early_stopping = EarlyStopping(patience=2)\n",
    "# validation_split은 학습용 데이터에서도 validation 용으로 20% 남겨둔다는 것\n",
    "hist = model.fit(X_train_scaled, y_train, epochs=500, validation_split=0.2, callbacks=[early_stopping])"
   ]
  },
  {
   "cell_type": "code",
   "execution_count": 8,
   "metadata": {},
   "outputs": [
    {
     "data": {
      "image/png": "[encoded data removed]",
      "text/plain": [
       "<Figure size 864x576 with 1 Axes>"
      ]
     },
     "metadata": {
      "needs_background": "light"
     },
     "output_type": "display_data"
    }
   ],
   "source": [
    "import matplotlib.pyplot as plt\n",
    "\n",
    "plt.figure(figsize=(12,8))\n",
    "plt.plot(hist.history['loss'])\n",
    "plt.plot(hist.history['accuracy'])\n",
    "plt.legend(['loss', 'accuracy'])\n",
    "plt.grid()\n",
    "plt.show()"
   ]
  },
  {
   "cell_type": "code",
   "execution_count": 9,
   "metadata": {},
   "outputs": [
    {
     "name": "stdout",
     "output_type": "stream",
     "text": [
      "14/14 [==============================] - 0s 1ms/step - loss: 0.1584 - accuracy: 0.7710\n",
      "accuracy: 77.10%\n",
      "4/4 [==============================] - 0s 2ms/step - loss: 0.1623 - accuracy: 0.7593\n",
      "accuracy: 75.93%\n"
     ]
    }
   ],
   "source": [
    "scores = model.evaluate(X_train_scaled, y_train, verbose=1)\n",
    "print(\"%s: %.2f%%\"%(model.metrics_names[1],scores[1]*100))\n",
    "\n",
    "scores = model.evaluate(X_test_scaled, y_test, verbose=1)\n",
    "print(\"%s: %.2f%%\"%(model.metrics_names[1],scores[1]*100))\n",
    "\n",
    "pred = model.predict(X_test_scaled)"
   ]
  },
  {
   "cell_type": "code",
   "execution_count": 10,
   "metadata": {},
   "outputs": [
    {
     "data": {
      "text/plain": [
       "array([0, 0, 0, 0, 0])"
      ]
     },
     "execution_count": 10,
     "metadata": {},
     "output_type": "execute_result"
    }
   ],
   "source": [
    "import numpy as np\n",
    "\n",
    "pred = model.predict(X_test_scaled)\n",
    "np.argmax(pred[:5],axis=1)"
   ]
  },
  {
   "cell_type": "code",
   "execution_count": null,
   "metadata": {},
   "outputs": [],
   "source": []
  }
 ],
 "metadata": {
  "interpreter": {
   "hash": "949777d72b0d2535278d3dc13498b2535136f6dfe0678499012e853ee9abcab1"
  },
  "kernelspec": {
   "display_name": "Python 3.8.10 64-bit",
   "language": "python",
   "name": "python3"
  },
  "language_info": {
   "codemirror_mode": {
    "name": "ipython",
    "version": 3
   },
   "file_extension": ".py",
   "mimetype": "text/x-python",
   "name": "python",
   "nbconvert_exporter": "python",
   "pygments_lexer": "ipython3",
   "version": "3.8.10"
  },
  "orig_nbformat": 4
 },
 "nbformat": 4,
 "nbformat_minor": 2
}
