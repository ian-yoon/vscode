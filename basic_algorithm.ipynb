{
 "cells": [
  {
   "cell_type": "code",
   "execution_count": 1,
   "metadata": {},
   "outputs": [],
   "source": [
    "import math"
   ]
  },
  {
   "cell_type": "code",
   "execution_count": 2,
   "metadata": {},
   "outputs": [
    {
     "name": "stdout",
     "output_type": "stream",
     "text": [
      "5\n",
      "15\n",
      "3.0\n",
      "9.0\n"
     ]
    }
   ],
   "source": [
    "def abs_sign(a):\n",
    "    if a>= 0:\n",
    "        return a\n",
    "    else:\n",
    "        return -a\n",
    "\n",
    "def abs_square(a):\n",
    "    b = a*a\n",
    "    return math.sqrt(b)\n",
    "\n",
    "print(abs_sign(5))\n",
    "print(abs_sign(-15))\n",
    "print(abs_square(3))\n",
    "print(abs_square(-9))"
   ]
  },
  {
   "cell_type": "code",
   "execution_count": 3,
   "metadata": {},
   "outputs": [
    {
     "name": "stdout",
     "output_type": "stream",
     "text": [
      "55\n",
      "5050\n"
     ]
    }
   ],
   "source": [
    "def sum_sq(n):\n",
    "    s = 0\n",
    "    for i in range(1, n+1):\n",
    "        s += i\n",
    "    return s\n",
    "\n",
    "print(sum_sq(10))\n",
    "print(sum_sq(100))"
   ]
  },
  {
   "cell_type": "code",
   "execution_count": 6,
   "metadata": {},
   "outputs": [
    {
     "name": "stdout",
     "output_type": "stream",
     "text": [
      "55\n"
     ]
    }
   ],
   "source": [
    "def sum_n(n):\n",
    "    return n*(n+1)//2 # 정수몫\n",
    "\n",
    "print(sum_n(10))"
   ]
  },
  {
   "cell_type": "code",
   "execution_count": 7,
   "metadata": {},
   "outputs": [
    {
     "name": "stdout",
     "output_type": "stream",
     "text": [
      "385\n"
     ]
    }
   ],
   "source": [
    "# 연속한 숫자의 제곱의 합을 구하기\n",
    "\n",
    "def sum_sql(n):\n",
    "    s = 0\n",
    "    for i in range(1, n+1):\n",
    "        s = s+i*i\n",
    "    return s\n",
    "\n",
    "print(sum_sql(10))"
   ]
  },
  {
   "cell_type": "code",
   "execution_count": 8,
   "metadata": {},
   "outputs": [
    {
     "name": "stdout",
     "output_type": "stream",
     "text": [
      "385\n"
     ]
    }
   ],
   "source": [
    "def sum_sq2(n):\n",
    "    return n*(n+1)*(2*n+1) // 6\n",
    "\n",
    "print(sum_sq2(10))"
   ]
  },
  {
   "cell_type": "code",
   "execution_count": 1,
   "metadata": {},
   "outputs": [
    {
     "name": "stdout",
     "output_type": "stream",
     "text": [
      "92\n",
      "1\n"
     ]
    }
   ],
   "source": [
    "import numpy as np\n",
    "v = [17,92,18,33,58,7,33,42]\n",
    "\n",
    "# 넘파이에 있는 최대값 구하는 함수\n",
    "print(np.max(v))\n",
    "# 최대값의 인덱스를 구하는 함수\n",
    "print(np.argmax(v))"
   ]
  },
  {
   "cell_type": "code",
   "execution_count": 2,
   "metadata": {},
   "outputs": [
    {
     "name": "stdout",
     "output_type": "stream",
     "text": [
      "92\n"
     ]
    }
   ],
   "source": [
    "def find_max(a):\n",
    "    n = len(a)\n",
    "    max_v = a[0]\n",
    "    for i in range(1, n): # 0번 값을 max_v로 이미 설정을 해놓았으니 1번부터 검사\n",
    "        if a[i] > max_v:\n",
    "            max_v = a[i]\n",
    "    return max_v\n",
    "\n",
    "print(find_max(v))"
   ]
  },
  {
   "cell_type": "code",
   "execution_count": 11,
   "metadata": {},
   "outputs": [
    {
     "name": "stdout",
     "output_type": "stream",
     "text": [
      "1\n"
     ]
    }
   ],
   "source": [
    "def find_max_idx(a):\n",
    "    n = len(a)\n",
    "    max_idx = 0\n",
    "    for i in range(1, n):\n",
    "        if a[i] > a[max_idx]:\n",
    "            max_idx = i\n",
    "    return max_idx\n",
    "\n",
    "print(find_max_idx(v))"
   ]
  },
  {
   "cell_type": "code",
   "execution_count": 12,
   "metadata": {},
   "outputs": [
    {
     "name": "stdout",
     "output_type": "stream",
     "text": [
      "7\n"
     ]
    }
   ],
   "source": [
    "def find_min(a):\n",
    "    n = len(a)\n",
    "    min_v = a[0]\n",
    "    for i in range(1, n): # 0번 값을 max_v로 이미 설정을 해놓았으니 1번부터 검사\n",
    "        if a[i] < min_v:\n",
    "            min_v = a[i]\n",
    "    return min_v\n",
    "\n",
    "print(find_min(v))"
   ]
  },
  {
   "cell_type": "code",
   "execution_count": 14,
   "metadata": {},
   "outputs": [
    {
     "name": "stdout",
     "output_type": "stream",
     "text": [
      "5\n"
     ]
    }
   ],
   "source": [
    "def find_min_idx(a):\n",
    "    n = len(a)\n",
    "    min_idx = 0\n",
    "    for i in range(1, n):\n",
    "        if a[i] < a[min_idx]:\n",
    "            min_idx = i\n",
    "    return min_idx\n",
    "\n",
    "print(find_min_idx(v))"
   ]
  },
  {
   "cell_type": "code",
   "execution_count": 15,
   "metadata": {},
   "outputs": [
    {
     "name": "stdout",
     "output_type": "stream",
     "text": [
      "{1, 2}\n",
      "2\n",
      "True\n"
     ]
    }
   ],
   "source": [
    "s = set()\n",
    "s.add(1)\n",
    "s.add(2)\n",
    "s.add(2)\n",
    "print(s)\n",
    "print(len(s))\n",
    "print({1, 2} == {2, 1})"
   ]
  },
  {
   "cell_type": "code",
   "execution_count": 16,
   "metadata": {},
   "outputs": [
    {
     "name": "stdout",
     "output_type": "stream",
     "text": [
      "{'김철수'}\n"
     ]
    }
   ],
   "source": [
    "def find_same_name(a):\n",
    "    n = len(a)\n",
    "    result = set()\n",
    "    for i in range(0, n-1):\n",
    "        for j in range(i + 1, n):\n",
    "            if a[i] == a[j]:\n",
    "                result.add(a[i])\n",
    "    return result\n",
    "    \n",
    "name=['김철수', '김철수', '박영희', '김철수', '진선아', '이주영']\n",
    "print(find_same_name(name))"
   ]
  },
  {
   "cell_type": "code",
   "execution_count": 27,
   "metadata": {},
   "outputs": [
    {
     "name": "stdout",
     "output_type": "stream",
     "text": [
      "김철수 - 박영희\n",
      "김철수 - 진선아\n",
      "김철수 - 이주영\n",
      "김철수 - 박영희\n",
      "김철수 - 진선아\n",
      "김철수 - 이주영\n",
      "박영희 - 김철수\n",
      "박영희 - 진선아\n",
      "박영희 - 이주영\n",
      "김철수 - 진선아\n",
      "김철수 - 이주영\n",
      "진선아 - 이주영\n",
      "None\n"
     ]
    }
   ],
   "source": [
    "def print_pairs(a):\n",
    "    n = len(a)\n",
    "    for i in range(0, n-1):\n",
    "        for j in range(i+1, n):\n",
    "            if a[i] != a[j]:\n",
    "                print(a[i], \"-\", a[j])\n",
    "\n",
    "print(print_pairs(name))"
   ]
  },
  {
   "cell_type": "code",
   "execution_count": 6,
   "metadata": {},
   "outputs": [
    {
     "name": "stdout",
     "output_type": "stream",
     "text": [
      "120\n"
     ]
    }
   ],
   "source": [
    "def fact(n):\n",
    "    if n <= 1:\n",
    "        return 1\n",
    "    return n*fact(n-1)\n",
    "\n",
    "print(fact(5))"
   ]
  },
  {
   "cell_type": "code",
   "execution_count": 6,
   "metadata": {},
   "outputs": [
    {
     "name": "stdout",
     "output_type": "stream",
     "text": [
      "55\n"
     ]
    }
   ],
   "source": [
    "def sum_n(n):\n",
    "    if n == 0:\n",
    "        return 0\n",
    "    return sum_n(n-1) + n\n",
    "\n",
    "print(sum_n(10))"
   ]
  },
  {
   "cell_type": "code",
   "execution_count": 9,
   "metadata": {},
   "outputs": [
    {
     "name": "stdout",
     "output_type": "stream",
     "text": [
      "2\n",
      "-1\n"
     ]
    }
   ],
   "source": [
    "def search_list(a, x):\n",
    "    n = len(a)\n",
    "    for i in range(0, n):\n",
    "        if x == a[i]:\n",
    "            return i\n",
    "    return -1\n",
    "\n",
    "v = [17,92,18,33,58,7,33,42]\n",
    "\n",
    "print(search_list(v, 18))\n",
    "print(search_list(v, 99))"
   ]
  },
  {
   "cell_type": "code",
   "execution_count": 10,
   "metadata": {},
   "outputs": [
    {
     "name": "stdout",
     "output_type": "stream",
     "text": [
      "[1]\n",
      "[3, 6]\n"
     ]
    }
   ],
   "source": [
    "def search_list(a, x):\n",
    "    n = len(a)\n",
    "    result = []\n",
    "    for i in range(0, n):\n",
    "        if x == a[i]:\n",
    "            result.append(i)\n",
    "    return result\n",
    "\n",
    "print(search_list(v, 92))\n",
    "print(search_list(v, 33))"
   ]
  },
  {
   "cell_type": "code",
   "execution_count": 11,
   "metadata": {},
   "outputs": [
    {
     "name": "stdout",
     "output_type": "stream",
     "text": [
      "이민정\n",
      "?\n"
     ]
    }
   ],
   "source": [
    "def get_name(s_no, s_name, find_no):\n",
    "    n = len(s_no)\n",
    "    for i in range(0, n):\n",
    "        if find_no == s_no[i]:\n",
    "            return s_name[i]\n",
    "    return \"?\"\n",
    "\n",
    "num = [39,14,67,105]\n",
    "names = ['김철수', '최윤아', '이민정', '이지윤']\n",
    "\n",
    "print(get_name(num, names, 67))\n",
    "print(get_name(num, names, 99))"
   ]
  },
  {
   "cell_type": "code",
   "execution_count": 16,
   "metadata": {},
   "outputs": [
    {
     "name": "stdout",
     "output_type": "stream",
     "text": [
      "[2, 4, 5, 1, 3]\n",
      "[2, 4, 5, 1, 3]\n",
      "[1, 4, 5, 2, 3]\n",
      "[1, 4, 5, 2, 3]\n",
      "[1, 4, 5, 2, 3]\n",
      "[1, 2, 5, 4, 3]\n",
      "[1, 2, 5, 4, 3]\n",
      "[1, 2, 4, 5, 3]\n",
      "[1, 2, 3, 5, 4]\n",
      "[1, 2, 3, 4, 5]\n",
      "[1, 2, 3, 4, 5]\n"
     ]
    }
   ],
   "source": [
    "def bubble_sort(a):\n",
    "    for i in range(0, len(a)):\n",
    "        for j in range(i+1, len(a)):\n",
    "            if a[i] > a[j]:\n",
    "                a[i], a[j] = a[j], a[i] # 큰 값이 뒤로 가게 자리 바꾸기\n",
    "            print(a)\n",
    "    return a\n",
    "\n",
    "d = [2,4,5,1,3]\n",
    "print(bubble_sort(d))"
   ]
  },
  {
   "cell_type": "code",
   "execution_count": 17,
   "metadata": {},
   "outputs": [
    {
     "name": "stdout",
     "output_type": "stream",
     "text": [
      "[1, 2, 3, 4, 5]\n"
     ]
    }
   ],
   "source": [
    "def find_min_idx(a):\n",
    "    n = len(a)\n",
    "    min_idx = 0\n",
    "    for i in range(1, n):\n",
    "        if a[i] < a[min_idx]:\n",
    "            min_idx = i\n",
    "    return min_idx\n",
    "\n",
    "def sel_sort(a):\n",
    "    result = []\n",
    "    while a:\n",
    "        min_idx = find_min_idx(a)\n",
    "        value = a.pop(min_idx) # 찾은 최소값을 value에 저장\n",
    "        result.append(value)\n",
    "    return result\n",
    "\n",
    "d = [2,4,5,1,3]\n",
    "print(sel_sort(d))"
   ]
  },
  {
   "cell_type": "code",
   "execution_count": 18,
   "metadata": {},
   "outputs": [
    {
     "name": "stdout",
     "output_type": "stream",
     "text": [
      "0 1 [2, 4, 5, 1, 3]\n",
      "0 2 [2, 4, 5, 1, 3]\n",
      "0 3 [2, 4, 5, 1, 3]\n",
      "0 4 [2, 4, 5, 1, 3]\n",
      "1 2 [2, 4, 5, 1, 3]\n",
      "1 3 [2, 4, 5, 1, 3]\n",
      "1 4 [2, 4, 5, 1, 3]\n",
      "2 3 [2, 4, 5, 1, 3]\n",
      "2 4 [2, 4, 5, 1, 3]\n",
      "3 4 [2, 4, 5, 1, 3]\n",
      "None\n"
     ]
    }
   ],
   "source": [
    "def sel_sort(a):\n",
    "    n = len(a)\n",
    "    for i in range(0, n-1):\n",
    "        min_idx = i\n",
    "        for j in range(i+1, n):\n",
    "            if a[j] < a[min_idx]:\n",
    "                min_idx = j\n",
    "            print(i, j, a)\n",
    "\n",
    "d = [2,4,5,1,3]\n",
    "print(sel_sort(d))"
   ]
  },
  {
   "cell_type": "code",
   "execution_count": null,
   "metadata": {},
   "outputs": [],
   "source": [
    "def find_ins_idx(r,v):\n",
    "    for i in range(0, len(r)):\n",
    "        if v < r[i]:\n",
    "            return i\n",
    "    return len(r)\n",
    "\n",
    "def ins_sort(a):\n",
    "    inlet = []\n",
    "    while a:\n",
    "        value = a.pop(0)"
   ]
  },
  {
   "cell_type": "code",
   "execution_count": 19,
   "metadata": {},
   "outputs": [
    {
     "data": {
      "text/plain": [
       "10"
      ]
     },
     "execution_count": 19,
     "metadata": {},
     "output_type": "execute_result"
    }
   ],
   "source": [
    "def mysum(arr):\n",
    "    total = 0\n",
    "    for x in arr:\n",
    "        total += x\n",
    "    return total\n",
    "\n",
    "mysum([1,2,3,4])"
   ]
  },
  {
   "cell_type": "code",
   "execution_count": 20,
   "metadata": {},
   "outputs": [
    {
     "data": {
      "text/plain": [
       "10"
      ]
     },
     "execution_count": 20,
     "metadata": {},
     "output_type": "execute_result"
    }
   ],
   "source": [
    "def mysum(items):\n",
    "    if items == []:\n",
    "        return 0\n",
    "    return items[0] + mysum(items[1:])\n",
    "\n",
    "mysum([1,2,3,4])"
   ]
  },
  {
   "cell_type": "code",
   "execution_count": 21,
   "metadata": {},
   "outputs": [
    {
     "data": {
      "text/plain": [
       "4"
      ]
     },
     "execution_count": 21,
     "metadata": {},
     "output_type": "execute_result"
    }
   ],
   "source": [
    "def mycount(items):\n",
    "    if items == []:\n",
    "        return 0\n",
    "    return 1 + mycount(items[1:])\n",
    "\n",
    "mycount([1,2,3,4])"
   ]
  },
  {
   "cell_type": "code",
   "execution_count": 22,
   "metadata": {},
   "outputs": [
    {
     "data": {
      "text/plain": [
       "[-15, -10, 0, 1, 2, 3, 9, 11, 16]"
      ]
     },
     "execution_count": 22,
     "metadata": {},
     "output_type": "execute_result"
    }
   ],
   "source": [
    "def quicksort(array):\n",
    "    if len(array) < 2:\n",
    "        return array\n",
    "    else:\n",
    "        pivot = array[0] # 기준값\n",
    "        less = [i for i in array[1:] if i <= pivot] # 기준값보다 작은 애들\n",
    "        greater = [i for i in array[1:] if i > pivot] # 기준값보다 큰 애들\n",
    "        return quicksort(less) + [pivot] + quicksort(greater)\n",
    "\n",
    "quicksort([-10,-15,2,3,0,9,11,16,1])"
   ]
  },
  {
   "cell_type": "code",
   "execution_count": 23,
   "metadata": {},
   "outputs": [
    {
     "name": "stdout",
     "output_type": "stream",
     "text": [
      "(5, 36)\n",
      "-1\n"
     ]
    }
   ],
   "source": [
    "def binary_search(a, x):\n",
    "    start = 0\n",
    "    end = len(a) - 1\n",
    "    while start <= end:\n",
    "        mid = (start + end) // 2\n",
    "        if x == a[mid]:\n",
    "            return mid, a[mid]\n",
    "        elif x > a[mid]:\n",
    "            start = mid + 1 # 찾는 값이 더 큰 값이면 중간값의 오른쪽 탐색\n",
    "        else:\n",
    "            end = mid - 1 # 찾는 값이 더 작은 값이면 중간값의 왼쪽 탐색\n",
    "    return -1\n",
    "\n",
    "d = [1,4,9,16,25,36,49,64,81]\n",
    "print(binary_search(d, 36))\n",
    "print(binary_search(d, 990))"
   ]
  },
  {
   "cell_type": "code",
   "execution_count": 24,
   "metadata": {},
   "outputs": [
    {
     "name": "stdout",
     "output_type": "stream",
     "text": [
      "['Tom', 'Sally']\n"
     ]
    }
   ],
   "source": [
    "def find_same_name(a):\n",
    "    name_dict = {}\n",
    "    for name in a:\n",
    "        if name in name_dict:\n",
    "            name_dict[name] += 1\n",
    "        else:\n",
    "            name_dict[name] = 1\n",
    "    result = []\n",
    "    for name in name_dict:\n",
    "        if name_dict[name] >= 2:\n",
    "            result.append(name)\n",
    "    return result\n",
    "\n",
    "name = [\"Tom\", \"Jerry\", \"Lucy\", \"Sally\", \"Tom\", \"Sally\"]\n",
    "print(find_same_name(name))"
   ]
  },
  {
   "cell_type": "code",
   "execution_count": null,
   "metadata": {},
   "outputs": [],
   "source": []
  },
  {
   "cell_type": "code",
   "execution_count": null,
   "metadata": {},
   "outputs": [],
   "source": []
  },
  {
   "cell_type": "code",
   "execution_count": null,
   "metadata": {},
   "outputs": [],
   "source": []
  },
  {
   "cell_type": "code",
   "execution_count": null,
   "metadata": {},
   "outputs": [],
   "source": []
  },
  {
   "cell_type": "code",
   "execution_count": null,
   "metadata": {},
   "outputs": [],
   "source": []
  },
  {
   "cell_type": "code",
   "execution_count": null,
   "metadata": {},
   "outputs": [],
   "source": []
  },
  {
   "cell_type": "code",
   "execution_count": null,
   "metadata": {},
   "outputs": [],
   "source": []
  },
  {
   "cell_type": "code",
   "execution_count": null,
   "metadata": {},
   "outputs": [],
   "source": []
  }
 ],
 "metadata": {
  "interpreter": {
   "hash": "cef9e06bb236b2a8629b07e87a04b187b952a0f661eff5533360a155783f0c33"
  },
  "kernelspec": {
   "display_name": "Python 3.8.8 64-bit ('base': conda)",
   "language": "python",
   "name": "python3"
  },
  "language_info": {
   "codemirror_mode": {
    "name": "ipython",
    "version": 3
   },
   "file_extension": ".py",
   "mimetype": "text/x-python",
   "name": "python",
   "nbconvert_exporter": "python",
   "pygments_lexer": "ipython3",
   "version": "3.8.8"
  },
  "orig_nbformat": 4
 },
 "nbformat": 4,
 "nbformat_minor": 2
}
