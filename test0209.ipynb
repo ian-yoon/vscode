{
 "cells": [
  {
   "cell_type": "code",
   "execution_count": 1,
   "metadata": {},
   "outputs": [
    {
     "data": {
      "text/html": [
       "<table class=\"simpletable\">\n",
       "<tr>\n",
       "        <td>Model:</td>               <td>OLS</td>         <td>Adj. R-squared:</td>     <td>0.507</td>  \n",
       "</tr>\n",
       "<tr>\n",
       "  <td>Dependent Variable:</td>      <td>target</td>             <td>AIC:</td>         <td>4793.9848</td>\n",
       "</tr>\n",
       "<tr>\n",
       "         <td>Date:</td>        <td>2022-02-09 10:15</td>        <td>BIC:</td>         <td>4838.9892</td>\n",
       "</tr>\n",
       "<tr>\n",
       "   <td>No. Observations:</td>         <td>442</td>         <td>Log-Likelihood:</td>    <td>-2386.0</td> \n",
       "</tr>\n",
       "<tr>\n",
       "       <td>Df Model:</td>             <td>10</td>           <td>F-statistic:</td>       <td>46.27</td>  \n",
       "</tr>\n",
       "<tr>\n",
       "     <td>Df Residuals:</td>           <td>431</td>       <td>Prob (F-statistic):</td> <td>3.83e-62</td> \n",
       "</tr>\n",
       "<tr>\n",
       "      <td>R-squared:</td>            <td>0.518</td>            <td>Scale:</td>         <td>2932.7</td>  \n",
       "</tr>\n",
       "</table>\n",
       "<table class=\"simpletable\">\n",
       "<tr>\n",
       "      <td></td>        <th>Coef.</th>   <th>Std.Err.</th>    <th>t</th>     <th>P>|t|</th>   <th>[0.025</th>    <th>0.975]</th>  \n",
       "</tr>\n",
       "<tr>\n",
       "  <th>Intercept</th> <td>152.1335</td>   <td>2.5759</td>  <td>59.0614</td> <td>0.0000</td>  <td>147.0707</td>  <td>157.1963</td> \n",
       "</tr>\n",
       "<tr>\n",
       "  <th>age</th>       <td>-10.0122</td>   <td>59.7492</td> <td>-0.1676</td> <td>0.8670</td>  <td>-127.4482</td> <td>107.4238</td> \n",
       "</tr>\n",
       "<tr>\n",
       "  <th>sex</th>       <td>-239.8191</td>  <td>61.2223</td> <td>-3.9172</td> <td>0.0001</td>  <td>-360.1505</td> <td>-119.4876</td>\n",
       "</tr>\n",
       "<tr>\n",
       "  <th>bmi</th>       <td>519.8398</td>   <td>66.5336</td> <td>7.8132</td>  <td>0.0000</td>  <td>389.0692</td>  <td>650.6104</td> \n",
       "</tr>\n",
       "<tr>\n",
       "  <th>bp</th>        <td>324.3904</td>   <td>65.4219</td> <td>4.9584</td>  <td>0.0000</td>  <td>195.8047</td>  <td>452.9762</td> \n",
       "</tr>\n",
       "<tr>\n",
       "  <th>s1</th>        <td>-792.1841</td> <td>416.6839</td> <td>-1.9012</td> <td>0.0579</td> <td>-1611.1694</td>  <td>26.8012</td> \n",
       "</tr>\n",
       "<tr>\n",
       "  <th>s2</th>        <td>476.7458</td>  <td>339.0345</td> <td>1.4062</td>  <td>0.1604</td>  <td>-189.6209</td> <td>1143.1125</td>\n",
       "</tr>\n",
       "<tr>\n",
       "  <th>s3</th>        <td>101.0446</td>  <td>212.5326</td> <td>0.4754</td>  <td>0.6347</td>  <td>-316.6847</td> <td>518.7738</td> \n",
       "</tr>\n",
       "<tr>\n",
       "  <th>s4</th>        <td>177.0642</td>  <td>161.4756</td> <td>1.0965</td>  <td>0.2735</td>  <td>-140.3135</td> <td>494.4418</td> \n",
       "</tr>\n",
       "<tr>\n",
       "  <th>s5</th>        <td>751.2793</td>  <td>171.9020</td> <td>4.3704</td>  <td>0.0000</td>  <td>413.4088</td>  <td>1089.1498</td>\n",
       "</tr>\n",
       "<tr>\n",
       "  <th>s6</th>         <td>67.6254</td>   <td>65.9842</td> <td>1.0249</td>  <td>0.3060</td>  <td>-62.0655</td>  <td>197.3163</td> \n",
       "</tr>\n",
       "</table>\n",
       "<table class=\"simpletable\">\n",
       "<tr>\n",
       "     <td>Omnibus:</td>    <td>1.506</td>  <td>Durbin-Watson:</td>   <td>2.029</td>\n",
       "</tr>\n",
       "<tr>\n",
       "  <td>Prob(Omnibus):</td> <td>0.471</td> <td>Jarque-Bera (JB):</td> <td>1.404</td>\n",
       "</tr>\n",
       "<tr>\n",
       "       <td>Skew:</td>     <td>0.017</td>     <td>Prob(JB):</td>     <td>0.496</td>\n",
       "</tr>\n",
       "<tr>\n",
       "     <td>Kurtosis:</td>   <td>2.726</td>  <td>Condition No.:</td>    <td>227</td> \n",
       "</tr>\n",
       "</table>"
      ],
      "text/plain": [
       "<class 'statsmodels.iolib.summary2.Summary'>\n",
       "\"\"\"\n",
       "                 Results: Ordinary least squares\n",
       "==================================================================\n",
       "Model:              OLS              Adj. R-squared:     0.507    \n",
       "Dependent Variable: target           AIC:                4793.9848\n",
       "Date:               2022-02-09 10:15 BIC:                4838.9892\n",
       "No. Observations:   442              Log-Likelihood:     -2386.0  \n",
       "Df Model:           10               F-statistic:        46.27    \n",
       "Df Residuals:       431              Prob (F-statistic): 3.83e-62 \n",
       "R-squared:          0.518            Scale:              2932.7   \n",
       "------------------------------------------------------------------\n",
       "              Coef.   Std.Err.    t    P>|t|    [0.025     0.975] \n",
       "------------------------------------------------------------------\n",
       "Intercept    152.1335   2.5759 59.0614 0.0000   147.0707  157.1963\n",
       "age          -10.0122  59.7492 -0.1676 0.8670  -127.4482  107.4238\n",
       "sex         -239.8191  61.2223 -3.9172 0.0001  -360.1505 -119.4876\n",
       "bmi          519.8398  66.5336  7.8132 0.0000   389.0692  650.6104\n",
       "bp           324.3904  65.4219  4.9584 0.0000   195.8047  452.9762\n",
       "s1          -792.1841 416.6839 -1.9012 0.0579 -1611.1694   26.8012\n",
       "s2           476.7458 339.0345  1.4062 0.1604  -189.6209 1143.1125\n",
       "s3           101.0446 212.5326  0.4754 0.6347  -316.6847  518.7738\n",
       "s4           177.0642 161.4756  1.0965 0.2735  -140.3135  494.4418\n",
       "s5           751.2793 171.9020  4.3704 0.0000   413.4088 1089.1498\n",
       "s6            67.6254  65.9842  1.0249 0.3060   -62.0655  197.3163\n",
       "------------------------------------------------------------------\n",
       "Omnibus:               1.506        Durbin-Watson:           2.029\n",
       "Prob(Omnibus):         0.471        Jarque-Bera (JB):        1.404\n",
       "Skew:                  0.017        Prob(JB):                0.496\n",
       "Kurtosis:              2.726        Condition No.:           227  \n",
       "==================================================================\n",
       "\n",
       "\"\"\""
      ]
     },
     "execution_count": 1,
     "metadata": {},
     "output_type": "execute_result"
    }
   ],
   "source": [
    "import statsmodels.formula.api as smf\n",
    "import pandas as pd\n",
    "\n",
    "df = pd.read_csv(\"c:/data/pima/data.csv\")\n",
    "df2 = df[['target', 'age', 'sex', 'bmi', 'bp', 's1', 's2', 's3', 's4', 's5', 's6']]\n",
    "model = smf.ols(formula='target ~ age+sex+bmi+bp+s1+s2+s3+s4+s5+s6', data=df2).fit()\n",
    "model.summary2()"
   ]
  },
  {
   "cell_type": "code",
   "execution_count": null,
   "metadata": {},
   "outputs": [],
   "source": []
  },
  {
   "cell_type": "code",
   "execution_count": null,
   "metadata": {},
   "outputs": [],
   "source": [
    "# 4번"
   ]
  },
  {
   "cell_type": "code",
   "execution_count": 9,
   "metadata": {},
   "outputs": [],
   "source": [
    "import pandas as pd\n",
    "from imblearn.under_sampling import RandomUnderSampler\n",
    "\n",
    "df = pd.read_csv(\"c:/data/titanic/train3.csv\")\n",
    "\n",
    "train_cols = df.columns[1:]\n",
    "X = df[train_cols]\n",
    "y = df[\"Survived\"]\n",
    "\n",
    "X_sample, y_sample = RandomUnderSampler(random_state=0).fit_resample(X,y)\n",
    "X_samp = pd.DataFrame(data=X_sample, columns=train_cols)\n",
    "y_samp = pd.DataFrame(data=y_sample, columns=[\"Survived\"])\n",
    "\n",
    "df2 = pd.concat([X_samp, y_samp], axis=1)\n",
    "\n",
    "train_cols = df2.columns[0:9]\n",
    "X = X_samp[train_cols]\n",
    "y = y_samp[\"Survived\"]"
   ]
  },
  {
   "cell_type": "code",
   "execution_count": 16,
   "metadata": {},
   "outputs": [
    {
     "name": "stdout",
     "output_type": "stream",
     "text": [
      "학습용:  0.7879341864716636\n",
      "검증용:  0.7737226277372263\n"
     ]
    }
   ],
   "source": [
    "from sklearn.model_selection import train_test_split\n",
    "from sklearn.linear_model import LogisticRegression\n",
    "\n",
    "X_train, X_test, y_train, y_test = train_test_split(X, y, test_size=0.2, random_state=0)\n",
    "model = LogisticRegression(max_iter=1000)\n",
    "model.fit(X_train, y_train)\n",
    "\n",
    "print(\"학습용: \", model.score(X_train, y_train))\n",
    "print(\"검증용: \", model.score(X_test, y_test))"
   ]
  },
  {
   "cell_type": "code",
   "execution_count": 20,
   "metadata": {},
   "outputs": [
    {
     "data": {
      "text/plain": [
       "<AxesSubplot:>"
      ]
     },
     "execution_count": 20,
     "metadata": {},
     "output_type": "execute_result"
    },
    {
     "data": {
      "image/png": "[encoded data removed]",
      "text/plain": [
       "<Figure size 432x288 with 2 Axes>"
      ]
     },
     "metadata": {
      "needs_background": "light"
     },
     "output_type": "display_data"
    }
   ],
   "source": [
    "from sklearn.metrics import confusion_matrix\n",
    "import seaborn as sns\n",
    "\n",
    "pred = model.predict(X_test)\n",
    "cm = confusion_matrix(y_test, pred)\n",
    "df_cm = pd.DataFrame(cm, index=[\"Dead\", \"Alive\"], columns=[\"Dead\", \"Alive\"])\n",
    "sns.heatmap(df_cm, annot=True)"
   ]
  },
  {
   "cell_type": "code",
   "execution_count": null,
   "metadata": {},
   "outputs": [],
   "source": []
  },
  {
   "cell_type": "code",
   "execution_count": null,
   "metadata": {},
   "outputs": [],
   "source": [
    "# 6번 keras 신경망 이용해서 손글씨 데이터셋 분석"
   ]
  },
  {
   "cell_type": "code",
   "execution_count": 1,
   "metadata": {},
   "outputs": [],
   "source": [
    "from tensorflow.keras.datasets import mnist\n",
    "from keras.utils import np_utils\n",
    "from tensorflow.keras.models import Sequential\n",
    "from tensorflow.keras.layers import Dense\n",
    "\n",
    "(X_train, y_train), (X_test, y_test) = mnist.load_data()\n",
    "\n",
    "X_train = X_train.reshape(60000, 784).astype('float32')/255.0\n",
    "X_test = X_test.reshape(10000, 784).astype('float32')/255.0\n",
    "\n",
    "y_train = np_utils.to_categorical(y_train)\n",
    "y_test = np_utils.to_categorical(y_test)\n",
    "\n",
    "x_val = X_train[:12600]\n",
    "x_train = X_train[12600:]\n",
    "y_val = y_train[:12600]\n",
    "y_train = y_train[12600:]\n",
    "\n",
    "model = Sequential()\n",
    "model.add(Dense(units=512, input_dim=28*28, activation=\"relu\"))\n",
    "model.add(Dense(units=10, activation=\"softmax\"))\n",
    "model.compile(loss=\"categorical_crossentropy\", optimizer=\"sgd\", metrics=[\"accuracy\"])\n"
   ]
  },
  {
   "cell_type": "code",
   "execution_count": 2,
   "metadata": {},
   "outputs": [
    {
     "name": "stdout",
     "output_type": "stream",
     "text": [
      "Epoch 1/5\n",
      "1482/1482 [==============================] - 6s 3ms/step - loss: 0.6672 - accuracy: 0.8423 - val_loss: 0.3803 - val_accuracy: 0.8974\n",
      "Epoch 2/5\n",
      "1482/1482 [==============================] - 5s 3ms/step - loss: 0.3468 - accuracy: 0.9044 - val_loss: 0.3102 - val_accuracy: 0.9135\n",
      "Epoch 3/5\n",
      "1482/1482 [==============================] - 5s 3ms/step - loss: 0.2967 - accuracy: 0.9174 - val_loss: 0.2759 - val_accuracy: 0.9246\n",
      "Epoch 4/5\n",
      "1482/1482 [==============================] - 5s 3ms/step - loss: 0.2663 - accuracy: 0.9262 - val_loss: 0.2541 - val_accuracy: 0.9296\n",
      "Epoch 5/5\n",
      "1482/1482 [==============================] - 5s 4ms/step - loss: 0.2429 - accuracy: 0.9324 - val_loss: 0.2356 - val_accuracy: 0.9356\n"
     ]
    }
   ],
   "source": [
    "hist = model.fit(x_train, y_train, epochs=5, batch_size=32, validation_data=(x_val, y_val))"
   ]
  },
  {
   "cell_type": "code",
   "execution_count": 3,
   "metadata": {},
   "outputs": [
    {
     "name": "stdout",
     "output_type": "stream",
     "text": [
      "loss_and_metrics: [0.22701816260814667, 0.9375]\n"
     ]
    }
   ],
   "source": [
    "loss_and_metrics = model.evaluate(X_test, y_test, batch_size=32, verbose=0)\n",
    "print(\"loss_and_metrics: \"+str(loss_and_metrics))"
   ]
  },
  {
   "cell_type": "code",
   "execution_count": null,
   "metadata": {},
   "outputs": [],
   "source": []
  },
  {
   "cell_type": "code",
   "execution_count": null,
   "metadata": {},
   "outputs": [],
   "source": [
    "# keras 신경망을 이용해서 로이터 뉴스 데이터셋의 뉴스 카테고리 분류"
   ]
  },
  {
   "cell_type": "code",
   "execution_count": 1,
   "metadata": {},
   "outputs": [
    {
     "name": "stdout",
     "output_type": "stream",
     "text": [
      "Downloading data from https://storage.googleapis.com/tensorflow/tf-keras-datasets/reuters.npz\n",
      "2113536/2110848 [==============================] - 0s 0us/step\n",
      "2121728/2110848 [==============================] - 0s 0us/step\n"
     ]
    },
    {
     "data": {
      "text/plain": [
       "8982"
      ]
     },
     "execution_count": 1,
     "metadata": {},
     "output_type": "execute_result"
    }
   ],
   "source": [
    "from tensorflow.keras.datasets import reuters\n",
    "\n",
    "(train_data, train_labels), (test_data, test_labels) = reuters.load_data(num_words=10000)\n",
    "len(train_data)"
   ]
  },
  {
   "cell_type": "code",
   "execution_count": 2,
   "metadata": {},
   "outputs": [
    {
     "data": {
      "text/plain": [
       "2246"
      ]
     },
     "execution_count": 2,
     "metadata": {},
     "output_type": "execute_result"
    }
   ],
   "source": [
    "len(test_data)"
   ]
  },
  {
   "cell_type": "code",
   "execution_count": 3,
   "metadata": {},
   "outputs": [
    {
     "name": "stdout",
     "output_type": "stream",
     "text": [
      "Downloading data from https://storage.googleapis.com/tensorflow/tf-keras-datasets/reuters_word_index.json\n",
      "557056/550378 [==============================] - 0s 0us/step\n",
      "565248/550378 [==============================] - 0s 0us/step\n"
     ]
    }
   ],
   "source": [
    "word_index = reuters.get_word_index()\n",
    "reverse_word_index = dict([(value,key) for (key,value) in word_index.items()])"
   ]
  },
  {
   "cell_type": "code",
   "execution_count": 4,
   "metadata": {},
   "outputs": [],
   "source": [
    "import numpy as np\n",
    "np.random.seed(5)\n",
    "\n",
    "def vectorize_sequences(sequences, dimension=10000):\n",
    "    results = np.zeros((len(sequences), dimension))\n",
    "    for i, sequence in enumerate(sequences):\n",
    "        results[i,sequence] = 1.\n",
    "    return results\n",
    "\n",
    "x_train = vectorize_sequences(train_data)\n",
    "x_test = vectorize_sequences(test_data)"
   ]
  },
  {
   "cell_type": "code",
   "execution_count": 5,
   "metadata": {},
   "outputs": [],
   "source": [
    "def to_one_hot(labels, dimension=46):\n",
    "    results = np.zeros((len(labels), dimension))\n",
    "    for i, label in enumerate(labels):\n",
    "        results[i, label] = 1.\n",
    "    return results\n",
    "\n",
    "one_hot_train_labels = to_one_hot(train_labels)\n",
    "one_hot_test_labels = to_one_hot(test_labels)"
   ]
  },
  {
   "cell_type": "code",
   "execution_count": 6,
   "metadata": {},
   "outputs": [],
   "source": [
    "from keras.utils.np_utils import to_categorical\n",
    "\n",
    "one_hot_train_labels = to_categorical(train_labels)\n",
    "one_hot_test_labels = to_categorical(test_labels)"
   ]
  },
  {
   "cell_type": "code",
   "execution_count": 7,
   "metadata": {},
   "outputs": [],
   "source": [
    "from tensorflow.keras import models\n",
    "from tensorflow.keras import layers\n",
    "\n",
    "model = models.Sequential()\n",
    "model.add(layers.Dense(64, activation=\"relu\", input_shape=(10000,)))\n",
    "model.add(layers.Dense(64, activation=\"relu\"))\n",
    "model.add(layers.Dense(46, activation=\"softmax\"))\n",
    "model.compile(optimizer=\"rmsprop\", loss=\"categorical_crossentropy\", metrics=[\"accuracy\"])"
   ]
  },
  {
   "cell_type": "code",
   "execution_count": 8,
   "metadata": {},
   "outputs": [],
   "source": [
    "x_val = x_train[:1000]\n",
    "partial_x_train = x_train[1000:]\n",
    "y_val = one_hot_train_labels[:1000]\n",
    "partial_y_train = one_hot_train_labels[1000:]"
   ]
  },
  {
   "cell_type": "code",
   "execution_count": 9,
   "metadata": {},
   "outputs": [
    {
     "name": "stdout",
     "output_type": "stream",
     "text": [
      "Epoch 1/5\n",
      "16/16 [==============================] - 1s 38ms/step - loss: 2.5422 - accuracy: 0.5098 - val_loss: 1.6958 - val_accuracy: 0.6620\n",
      "Epoch 2/5\n",
      "16/16 [==============================] - 0s 26ms/step - loss: 1.3649 - accuracy: 0.7181 - val_loss: 1.2756 - val_accuracy: 0.7180\n",
      "Epoch 3/5\n",
      "16/16 [==============================] - 0s 26ms/step - loss: 1.0154 - accuracy: 0.7859 - val_loss: 1.1064 - val_accuracy: 0.7720\n",
      "Epoch 4/5\n",
      "16/16 [==============================] - 0s 27ms/step - loss: 0.7883 - accuracy: 0.8399 - val_loss: 1.0249 - val_accuracy: 0.7790\n",
      "Epoch 5/5\n",
      "16/16 [==============================] - 0s 25ms/step - loss: 0.6297 - accuracy: 0.8728 - val_loss: 0.9467 - val_accuracy: 0.8010\n",
      "71/71 [==============================] - 0s 2ms/step - loss: 1.0283 - accuracy: 0.7752\n"
     ]
    }
   ],
   "source": [
    "history = model.fit(partial_x_train, partial_y_train, epochs=5, batch_size=512, validation_data=(x_val, y_val))\n",
    "results = model.evaluate(x_test, one_hot_test_labels)"
   ]
  },
  {
   "cell_type": "code",
   "execution_count": 10,
   "metadata": {},
   "outputs": [
    {
     "data": {
      "text/plain": [
       "[1.0283464193344116, 0.7751558423042297]"
      ]
     },
     "execution_count": 10,
     "metadata": {},
     "output_type": "execute_result"
    }
   ],
   "source": [
    "results"
   ]
  },
  {
   "cell_type": "code",
   "execution_count": 11,
   "metadata": {},
   "outputs": [
    {
     "data": {
      "text/plain": [
       "3"
      ]
     },
     "execution_count": 11,
     "metadata": {},
     "output_type": "execute_result"
    }
   ],
   "source": [
    "predictions = model.predict(x_test)\n",
    "np.argmax(predictions[0])"
   ]
  },
  {
   "cell_type": "code",
   "execution_count": null,
   "metadata": {},
   "outputs": [],
   "source": []
  },
  {
   "cell_type": "code",
   "execution_count": 1,
   "metadata": {},
   "outputs": [
    {
     "name": "stderr",
     "output_type": "stream",
     "text": [
      "C:\\anaconda3\\lib\\site-packages\\seaborn\\_decorators.py:36: FutureWarning: Pass the following variable as a keyword arg: x. From version 0.12, the only valid positional argument will be `data`, and passing other arguments without an explicit keyword will result in an error or misinterpretation.\n",
      "  warnings.warn(\n"
     ]
    },
    {
     "data": {
      "text/plain": [
       "<AxesSubplot:xlabel='Class', ylabel='count'>"
      ]
     },
     "execution_count": 1,
     "metadata": {},
     "output_type": "execute_result"
    },
    {
     "data": {
      "image/png": "[encoded data removed]",
      "text/plain": [
       "<Figure size 432x288 with 1 Axes>"
      ]
     },
     "metadata": {
      "needs_background": "light"
     },
     "output_type": "display_data"
    }
   ],
   "source": [
    "import pandas as pd\n",
    "import seaborn as sns\n",
    "\n",
    "df = pd.read_csv(\"c:/data/creditcard/creditcard.csv\")\n",
    "colors = [\"yellow\", \"red\"]\n",
    "sns.countplot(\"Class\", data=df, palette=colors)"
   ]
  },
  {
   "cell_type": "code",
   "execution_count": 2,
   "metadata": {},
   "outputs": [],
   "source": [
    "train_cols = df.columns[1:29]\n",
    "X = df[train_cols]\n",
    "y = df[\"Class\"]"
   ]
  },
  {
   "cell_type": "code",
   "execution_count": 3,
   "metadata": {},
   "outputs": [
    {
     "name": "stderr",
     "output_type": "stream",
     "text": [
      "C:\\anaconda3\\lib\\site-packages\\seaborn\\_decorators.py:36: FutureWarning: Pass the following variable as a keyword arg: x. From version 0.12, the only valid positional argument will be `data`, and passing other arguments without an explicit keyword will result in an error or misinterpretation.\n",
      "  warnings.warn(\n"
     ]
    },
    {
     "data": {
      "text/plain": [
       "<AxesSubplot:xlabel='Class', ylabel='count'>"
      ]
     },
     "execution_count": 3,
     "metadata": {},
     "output_type": "execute_result"
    },
    {
     "data": {
      "image/png": "[encoded data removed]",
      "text/plain": [
       "<Figure size 432x288 with 1 Axes>"
      ]
     },
     "metadata": {
      "needs_background": "light"
     },
     "output_type": "display_data"
    }
   ],
   "source": [
    "from imblearn.under_sampling import RandomUnderSampler\n",
    "\n",
    "X_sample, y_sample = RandomUnderSampler(random_state=0).fit_resample(X,y)\n",
    "X_samp = pd.DataFrame(data=X_sample, columns=train_cols)\n",
    "y_samp = pd.DataFrame(data=y_sample, columns=[\"Class\"])\n",
    "df2 = pd.concat([X_samp, y_samp], axis=1)\n",
    "sns.countplot(\"Class\", data=df2, palette=colors)"
   ]
  },
  {
   "cell_type": "code",
   "execution_count": 4,
   "metadata": {},
   "outputs": [
    {
     "name": "stderr",
     "output_type": "stream",
     "text": [
      "C:\\anaconda3\\lib\\site-packages\\seaborn\\_decorators.py:36: FutureWarning: Pass the following variable as a keyword arg: x. From version 0.12, the only valid positional argument will be `data`, and passing other arguments without an explicit keyword will result in an error or misinterpretation.\n",
      "  warnings.warn(\n"
     ]
    },
    {
     "data": {
      "text/plain": [
       "<AxesSubplot:xlabel='Class', ylabel='count'>"
      ]
     },
     "execution_count": 4,
     "metadata": {},
     "output_type": "execute_result"
    },
    {
     "data": {
      "image/png": "[encoded data removed]",
      "text/plain": [
       "<Figure size 432x288 with 1 Axes>"
      ]
     },
     "metadata": {
      "needs_background": "light"
     },
     "output_type": "display_data"
    }
   ],
   "source": [
    "from imblearn.over_sampling import SMOTE\n",
    "\n",
    "X_sample, y_sample = SMOTE(random_state=0).fit_resample(X,y)\n",
    "X_samp = pd.DataFrame(data=X_sample, columns=train_cols)\n",
    "y_samp = pd.DataFrame(data=y_sample, columns=[\"Class\"])\n",
    "df2 = pd.concat([X_samp, y_samp], axis=1)\n",
    "sns.countplot(\"Class\", data=df2, palette=colors)"
   ]
  },
  {
   "cell_type": "code",
   "execution_count": null,
   "metadata": {},
   "outputs": [],
   "source": []
  },
  {
   "cell_type": "code",
   "execution_count": null,
   "metadata": {},
   "outputs": [],
   "source": []
  },
  {
   "cell_type": "code",
   "execution_count": null,
   "metadata": {},
   "outputs": [],
   "source": []
  },
  {
   "cell_type": "code",
   "execution_count": null,
   "metadata": {},
   "outputs": [],
   "source": []
  },
  {
   "cell_type": "code",
   "execution_count": null,
   "metadata": {},
   "outputs": [],
   "source": []
  }
 ],
 "metadata": {
  "interpreter": {
   "hash": "cef9e06bb236b2a8629b07e87a04b187b952a0f661eff5533360a155783f0c33"
  },
  "kernelspec": {
   "display_name": "Python 3.8.8 ('base')",
   "language": "python",
   "name": "python3"
  },
  "language_info": {
   "codemirror_mode": {
    "name": "ipython",
    "version": 3
   },
   "file_extension": ".py",
   "mimetype": "text/x-python",
   "name": "python",
   "nbconvert_exporter": "python",
   "pygments_lexer": "ipython3",
   "version": "3.8.8"
  },
  "orig_nbformat": 4
 },
 "nbformat": 4,
 "nbformat_minor": 2
}
