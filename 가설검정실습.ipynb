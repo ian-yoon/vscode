{
 "cells": [
  {
   "cell_type": "code",
   "execution_count": 1,
   "metadata": {},
   "outputs": [],
   "source": [
    "import numpy as np\n",
    "from scipy import stats"
   ]
  },
  {
   "cell_type": "code",
   "execution_count": 2,
   "metadata": {},
   "outputs": [
    {
     "name": "stdout",
     "output_type": "stream",
     "text": [
      "평균:  4.333333333333333\n",
      "중위수:  4.0\n",
      "최빈값:  2\n"
     ]
    }
   ],
   "source": [
    "data = np.array([4,5,1,2,7,2,6,9,3])\n",
    "\n",
    "# 평균\n",
    "a = np.mean(data)\n",
    "print(\"평균: \",a)\n",
    "\n",
    "# 중위수\n",
    "b = np.median(data)\n",
    "print(\"중위수: \",b)\n",
    "\n",
    "# 최빈값\n",
    "c = stats.mode(data)\n",
    "print(\"최빈값: \",c[0][0])"
   ]
  },
  {
   "cell_type": "code",
   "execution_count": 3,
   "metadata": {},
   "outputs": [
    {
     "name": "stdout",
     "output_type": "stream",
     "text": [
      "분산:  374\n",
      "표준편차:  19.339079605813716\n",
      "범위:  80\n"
     ]
    }
   ],
   "source": [
    "from statistics import variance, stdev\n",
    "\n",
    "points = np.array([20,80,90,95,87,89,95,99,97,100,60,70,77,88,89,89,90])\n",
    "\n",
    "# 분산\n",
    "a = variance(points)\n",
    "print(\"분산: \",a)\n",
    "\n",
    "# 표준편차\n",
    "b = stdev(points)\n",
    "print(\"표준편차: \",b)\n",
    "\n",
    "# 범위\n",
    "c = np.max(points) - np.min(points)\n",
    "print(\"범위: \",c)"
   ]
  },
  {
   "cell_type": "code",
   "execution_count": 4,
   "metadata": {},
   "outputs": [
    {
     "name": "stdout",
     "output_type": "stream",
     "text": [
      "최대값:  100\n",
      "최소값:  20\n",
      "최대값 - 최소값:  80\n"
     ]
    }
   ],
   "source": [
    "# 최대, 최소값\n",
    "a = np.max(points)\n",
    "b = np.min(points)\n",
    "c = a - b\n",
    "\n",
    "print(\"최대값: \", a)\n",
    "print(\"최소값: \", b)\n",
    "print(\"최대값 - 최소값(범위): \", c)"
   ]
  },
  {
   "cell_type": "code",
   "execution_count": 5,
   "metadata": {},
   "outputs": [
    {
     "name": "stdout",
     "output_type": "stream",
     "text": [
      "20% 77.6\n",
      "80% 95.0\n",
      "100% 100.0\n"
     ]
    }
   ],
   "source": [
    "# 백분위(자료(여기선 points)를 100등분해서 전체의 20% 지점, 80%지점, 100%지점을 구해보는 것)\n",
    "for val in [20,80,100]:\n",
    "    d = np.percentile(points,val)\n",
    "    print(str(val)+\"%\",d)"
   ]
  },
  {
   "cell_type": "code",
   "execution_count": 6,
   "metadata": {},
   "outputs": [
    {
     "name": "stdout",
     "output_type": "stream",
     "text": [
      "1사분위수:  80.0\n",
      "2사분위수(중위수):  89.0\n",
      "3사분위수:  95.0\n",
      "IQR:  15.0\n"
     ]
    }
   ],
   "source": [
    "# 사분위수\n",
    "a, b, c = np.percentile(points, [25,50,75])\n",
    "print(\"1사분위수: \",a)\n",
    "print(\"2사분위수(중위수): \",b)\n",
    "print(\"3사분위수: \",c)\n",
    "print(\"IQR: \", c-a)"
   ]
  },
  {
   "cell_type": "code",
   "execution_count": 7,
   "metadata": {},
   "outputs": [],
   "source": [
    "import matplotlib.pyplot as plt"
   ]
  },
  {
   "cell_type": "code",
   "execution_count": 8,
   "metadata": {},
   "outputs": [
    {
     "data": {
      "image/png": "[encoded data removed]",
      "text/plain": [
       "<Figure size 432x288 with 1 Axes>"
      ]
     },
     "metadata": {
      "needs_background": "light"
     },
     "output_type": "display_data"
    }
   ],
   "source": [
    "plt.boxplot(points) # 상자수염그림\n",
    "plt.show()"
   ]
  },
  {
   "cell_type": "code",
   "execution_count": 9,
   "metadata": {},
   "outputs": [
    {
     "data": {
      "text/plain": [
       "Power_divergenceResult(statistic=14.200000000000001, pvalue=0.014387678176921308)"
      ]
     },
     "execution_count": 9,
     "metadata": {},
     "output_type": "execute_result"
    }
   ],
   "source": [
    "import pandas as pd\n",
    "from scipy import stats\n",
    "\n",
    "# 귀무가설 : 두 데이터는 차이가 없다.\n",
    "# 대립가설(내가 주장하고 싶은 것) : 두 데이터는 차이가 있다.\n",
    "\n",
    "data1 = [4,6,17,16,8,9]\n",
    "data2 = [10,10,10,10,10,10]\n",
    "\n",
    "# pvalue 구하기\n",
    "chis = stats.chisquare(data1, data2)\n",
    "\n",
    "# pvalue가 0.05보다 작으므로 대립가설 채택 -> 유의미한 자료\n",
    "chis"
   ]
  },
  {
   "cell_type": "code",
   "execution_count": 10,
   "metadata": {},
   "outputs": [
    {
     "name": "stdout",
     "output_type": "stream",
     "text": [
      "Exer   Freq  None  Some\n",
      "Smoke                  \n",
      "Heavy     7     1     3\n",
      "Never    87    18    84\n",
      "Occas    12     3     4\n",
      "Regul     9     1     7\n",
      "5.488545890584232\n",
      "0.48284216946545633\n"
     ]
    }
   ],
   "source": [
    "import pandas as pd\n",
    "from scipy import stats\n",
    "\n",
    "survey = pd.read_csv(\"c:/data/smoke/survey.csv\")\n",
    "\n",
    "# 흡연 빈도와 운동 빈도 필드를 기준으로 집계\n",
    "data = pd.crosstab(survey.Smoke, survey.Exer)\n",
    "print(data)\n",
    "\n",
    "result = stats.chi2_contingency(observed=data)\n",
    "print(result[0]) # 검정 통계량\n",
    "print(result[1]) # pvalue (0.05보다 한참 크게 나왔으니 귀무가설 채택)"
   ]
  },
  {
   "cell_type": "code",
   "execution_count": 15,
   "metadata": {},
   "outputs": [
    {
     "name": "stdout",
     "output_type": "stream",
     "text": [
      "검정통계량: 3.435, p-value : 0.003\n"
     ]
    }
   ],
   "source": [
    "# 귀무가설 : 학생들의 평균키는 175cm이다.\n",
    "# 대립가설 : 학생들의 평균키는 175cm가 아니다.\n",
    "\n",
    "# 랜덤시드 고정\n",
    "np.random.seed(1)\n",
    "\n",
    "# np.random.normal(평균, 표준편차)\n",
    "heights = [180 + np.random.normal(0,5) for a in range(20)]\n",
    "result = stats.ttest_1samp(heights, 175)\n",
    "print(\"검정통계량: %.3f, p-value : %.3f\" % result)"
   ]
  },
  {
   "cell_type": "code",
   "execution_count": 40,
   "metadata": {},
   "outputs": [
    {
     "name": "stdout",
     "output_type": "stream",
     "text": [
      "group1 평균 :  169.33317681769637\n",
      "group2 평균 :  174.54168687322976\n",
      "검정통계량 : -2.329, p-value : 0.025.\n"
     ]
    }
   ],
   "source": [
    "# 귀무가설 : 두 그룹의 평균키는 같다\n",
    "# 대립가설 : 두 그룹의 평균키는 같지 않다.\n",
    "\n",
    "np.random.seed(1)\n",
    "\n",
    "# 독립표본 t 검정 : 두 개의 그룹이 같은지 다른지 알아보기\n",
    "group1 = [170 + np.random.normal(0,5) for a in range(20)]\n",
    "group2 = [175 + np.random.normal(0,10) for a in range(20)]\n",
    "print(\"group1 평균 : \",np.mean(group1))\n",
    "print(\"group2 평균 : \",np.mean(group2))\n",
    "\n",
    "result1 = stats.ttest_ind(group1, group2)\n",
    "print(\"검정통계량 : %.3f, p-value : %.3f.\" % result1)"
   ]
  },
  {
   "cell_type": "code",
   "execution_count": 50,
   "metadata": {},
   "outputs": [
    {
     "name": "stdout",
     "output_type": "stream",
     "text": [
      "검정통계량 : -2.329, p-value : 0.026.\n"
     ]
    }
   ],
   "source": [
    "# 등분산 가정을 하지 않을 때\n",
    "result2 = stats.ttest_ind(group1, group2, equal_var=False)\n",
    "print(\"검정통계량 : %.3f, p-value : %.3f.\" % result2)"
   ]
  },
  {
   "cell_type": "code",
   "execution_count": 53,
   "metadata": {},
   "outputs": [
    {
     "name": "stdout",
     "output_type": "stream",
     "text": [
      "[68.1217268183162, 56.94121793174962, 57.359141238682724, 54.63515688921915, 64.3270381466234, 48.492306515598585, 68.7240588210824, 56.19396549552449, 61.59519548028549, 58.75314812261295, 67.31053968522487, 49.69929645251173, 58.38791397993246, 58.07972822665792, 65.66884721167719, 54.500543663429845, 59.13785896224782, 55.61070791039314, 60.21106873357797, 62.914076068579114]\n",
      "[65.94098797171107, 57.67544499710449, 57.819839215935254, 54.63788246116392, 64.84275566541605, 47.34427263203588, 67.86790793112998, 54.58033393455883, 60.64923115285458, 58.78881770728494, 65.70631311881824, 48.80793606499072, 57.001583230054315, 56.517144665313666, 64.13055954741337, 53.94173367626836, 57.224973536332286, 55.315321289307555, 61.60772730564428, 63.218635763189475]\n",
      "검정통계량: 2.915, p-value: 0.009\n"
     ]
    }
   ],
   "source": [
    "# 귀무 가설 : 다이어트 약 복용 전후의 체중 차이가 없다.\n",
    "# 대립 가설 : 다이어트 약 복용 전후의 체중 차이가 있다.\n",
    "\n",
    "np.random.seed(1)\n",
    "before = [60 + np.random.normal(0,5) for _ in range(20)] # 개별변수 : _ 인데 크게 중요하지 않기 때문에 _로 두어도 괜찮음\n",
    "after = [w * np.random.normal(0.99, 0.02) for w in before] # before 리스트의 값 * 0.99, 표준편차 0.02\n",
    "print(before)\n",
    "print(after)\n",
    "\n",
    "result = stats.ttest_rel(before, after)\n",
    "print(\"검정통계량: %.3f, p-value: %.3f\" % result)"
   ]
  },
  {
   "cell_type": "code",
   "execution_count": 55,
   "metadata": {},
   "outputs": [
    {
     "name": "stdout",
     "output_type": "stream",
     "text": [
      "a 평균 :  79.0\n",
      "b 평균 :  63.25\n",
      "c 평균 :  63.125\n",
      "d 평균 :  90.0\n"
     ]
    },
    {
     "data": {
      "image/png": "[encoded data removed]",
      "text/plain": [
       "<Figure size 432x288 with 1 Axes>"
      ]
     },
     "metadata": {
      "needs_background": "light"
     },
     "output_type": "display_data"
    },
    {
     "name": "stdout",
     "output_type": "stream",
     "text": [
      "9.176162194964236 0.00021655560626506002\n"
     ]
    }
   ],
   "source": [
    "# 3개 이상의 데이터 그룹을 분석할 때, 일원배치 분산분석 기법(아노바 분석)을 쓴다\n",
    "# 귀무 가설 : 4개의 교육훈련 기법 간의 차이가 없다.\n",
    "# 대립 가설 : 차이가 있다.\n",
    "\n",
    "a = [66,74,82,75,73,97,87,78]\n",
    "b = [72,51,80,92,54,67,23,67]\n",
    "c = [61,60,54,70,73,66,59,62]\n",
    "d = [99,84,82,89,89,94,93,90]\n",
    "\n",
    "print(\"a 평균 : \",np.mean(a))\n",
    "print(\"b 평균 : \",np.mean(b))\n",
    "print(\"c 평균 : \",np.mean(c))\n",
    "print(\"d 평균 : \",np.mean(d))\n",
    "\n",
    "plot_data = [a,b,c,d]\n",
    "\n",
    "# boxplot 그래프로 그려보기\n",
    "ax = plt.boxplot(plot_data)\n",
    "plt.show()\n",
    "\n",
    "# 아노바 분석\n",
    "f, p = stats.f_oneway(a,b,c,d)\n",
    "print(f, p)"
   ]
  },
  {
   "cell_type": "code",
   "execution_count": 56,
   "metadata": {},
   "outputs": [
    {
     "name": "stdout",
     "output_type": "stream",
     "text": [
      "   fertilizer1  fertilizer2  fertilizer3\n",
      "0           72           54           48\n",
      "1           62           56           62\n",
      "2           90           58           92\n",
      "3           42           36           96\n",
      "4           84           72           92\n",
      "5           64           34           80\n",
      "F_onewayResult(statistic=3.7551268418654105, pvalue=0.04762461989261837)\n",
      "3.7551268418654105\n",
      "0.04762461989261837\n"
     ]
    }
   ],
   "source": [
    "# 귀무 가설 : 세 가지 비료의 수확량은 차이가 없다.\n",
    "# 대립 가설 : 차이가 있다.\n",
    "\n",
    "data = pd.read_csv(\"c:/data/anova/fertilizers.csv\")\n",
    "print(data)\n",
    "\n",
    "result = stats.f_oneway(data[\"fertilizer1\"], data[\"fertilizer2\"], data[\"fertilizer3\"])\n",
    "print(result)\n",
    "print(result[0]) # 통계량\n",
    "print(result[1]) # pvalue"
   ]
  },
  {
   "cell_type": "code",
   "execution_count": 57,
   "metadata": {},
   "outputs": [
    {
     "data": {
      "image/png": "[encoded data removed]",
      "text/plain": [
       "<Figure size 432x288 with 1 Axes>"
      ]
     },
     "metadata": {
      "needs_background": "light"
     },
     "output_type": "display_data"
    }
   ],
   "source": [
    "bx = plt.boxplot(data)\n",
    "plt.show()"
   ]
  },
  {
   "cell_type": "code",
   "execution_count": null,
   "metadata": {},
   "outputs": [],
   "source": [
    "# 검정통계량은 표본수, 표본평균/표준편차를 이용하여 계산된 값\n",
    "# pvalue는 검정통계량을 통해 계산된 확률값\n",
    "\n",
    "# boxplot 그래프(상자수염그림ㅋㅋ)는 데이터가 한쪽으로 쏠려있는지, 이상치가 있는지 쉽게 파악할 수 있게 시각화함\n",
    "# boxplot의 박스에 있는 빨간 선이 중위값, 박스의 아래쪽 선이 25%(1사분위), 위쪽 선이 75%(3사분위)"
   ]
  },
  {
   "cell_type": "code",
   "execution_count": null,
   "metadata": {},
   "outputs": [],
   "source": []
  },
  {
   "cell_type": "code",
   "execution_count": null,
   "metadata": {},
   "outputs": [],
   "source": []
  }
 ],
 "metadata": {
  "interpreter": {
   "hash": "cef9e06bb236b2a8629b07e87a04b187b952a0f661eff5533360a155783f0c33"
  },
  "kernelspec": {
   "display_name": "Python 3.8.8 64-bit ('base': conda)",
   "language": "python",
   "name": "python3"
  },
  "language_info": {
   "codemirror_mode": {
    "name": "ipython",
    "version": 3
   },
   "file_extension": ".py",
   "mimetype": "text/x-python",
   "name": "python",
   "nbconvert_exporter": "python",
   "pygments_lexer": "ipython3",
   "version": "3.8.8"
  },
  "orig_nbformat": 4
 },
 "nbformat": 4,
 "nbformat_minor": 2
}
