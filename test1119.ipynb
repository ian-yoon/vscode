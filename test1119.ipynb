{
 "cells": [
  {
   "cell_type": "code",
   "execution_count": 1,
   "metadata": {},
   "outputs": [],
   "source": [
    "import cx_Oracle\n",
    "import pandas as pd\n",
    "from sqlalchemy import create_engine"
   ]
  },
  {
   "cell_type": "code",
   "execution_count": 7,
   "metadata": {},
   "outputs": [
    {
     "data": {
      "text/html": [
       "<div>\n",
       "<style scoped>\n",
       "    .dataframe tbody tr th:only-of-type {\n",
       "        vertical-align: middle;\n",
       "    }\n",
       "\n",
       "    .dataframe tbody tr th {\n",
       "        vertical-align: top;\n",
       "    }\n",
       "\n",
       "    .dataframe thead th {\n",
       "        text-align: right;\n",
       "    }\n",
       "</style>\n",
       "<table border=\"1\" class=\"dataframe\">\n",
       "  <thead>\n",
       "    <tr style=\"text-align: right;\">\n",
       "      <th></th>\n",
       "      <th>empno</th>\n",
       "      <th>ename</th>\n",
       "      <th>job</th>\n",
       "      <th>mgr</th>\n",
       "      <th>hiredate</th>\n",
       "      <th>sal</th>\n",
       "      <th>comm</th>\n",
       "      <th>deptno</th>\n",
       "    </tr>\n",
       "  </thead>\n",
       "  <tbody>\n",
       "    <tr>\n",
       "      <th>0</th>\n",
       "      <td>7369</td>\n",
       "      <td>이철수</td>\n",
       "      <td>사원</td>\n",
       "      <td>7902.0</td>\n",
       "      <td>2010-12-17</td>\n",
       "      <td>300</td>\n",
       "      <td>NaN</td>\n",
       "      <td>20</td>\n",
       "    </tr>\n",
       "    <tr>\n",
       "      <th>1</th>\n",
       "      <td>7499</td>\n",
       "      <td>이민수</td>\n",
       "      <td>대리</td>\n",
       "      <td>7698.0</td>\n",
       "      <td>2011-02-20</td>\n",
       "      <td>360</td>\n",
       "      <td>300.0</td>\n",
       "      <td>30</td>\n",
       "    </tr>\n",
       "    <tr>\n",
       "      <th>2</th>\n",
       "      <td>7521</td>\n",
       "      <td>박종수</td>\n",
       "      <td>대리</td>\n",
       "      <td>7698.0</td>\n",
       "      <td>2012-02-22</td>\n",
       "      <td>425</td>\n",
       "      <td>500.0</td>\n",
       "      <td>30</td>\n",
       "    </tr>\n",
       "    <tr>\n",
       "      <th>3</th>\n",
       "      <td>7566</td>\n",
       "      <td>임성민</td>\n",
       "      <td>팀장</td>\n",
       "      <td>7839.0</td>\n",
       "      <td>2011-04-02</td>\n",
       "      <td>597</td>\n",
       "      <td>NaN</td>\n",
       "      <td>20</td>\n",
       "    </tr>\n",
       "    <tr>\n",
       "      <th>4</th>\n",
       "      <td>7654</td>\n",
       "      <td>나호석</td>\n",
       "      <td>대리</td>\n",
       "      <td>7698.0</td>\n",
       "      <td>2011-09-28</td>\n",
       "      <td>425</td>\n",
       "      <td>1400.0</td>\n",
       "      <td>30</td>\n",
       "    </tr>\n",
       "  </tbody>\n",
       "</table>\n",
       "</div>"
      ],
      "text/plain": [
       "   empno ename job     mgr    hiredate  sal    comm  deptno\n",
       "0   7369   이철수  사원  7902.0  2010-12-17  300     NaN      20\n",
       "1   7499   이민수  대리  7698.0  2011-02-20  360   300.0      30\n",
       "2   7521   박종수  대리  7698.0  2012-02-22  425   500.0      30\n",
       "3   7566   임성민  팀장  7839.0  2011-04-02  597     NaN      20\n",
       "4   7654   나호석  대리  7698.0  2011-09-28  425  1400.0      30"
      ]
     },
     "execution_count": 7,
     "metadata": {},
     "output_type": "execute_result"
    }
   ],
   "source": [
    "df = pd.read_csv('c:/data/test/myemp.csv', engine='python', encoding='CP949')\n",
    "df.head()"
   ]
  },
  {
   "cell_type": "code",
   "execution_count": 8,
   "metadata": {},
   "outputs": [],
   "source": [
    "engine = create_engine('oracle+cx_oracle://hr:hr@xe')\n",
    "conn = engine.connect()\n",
    "df.to_sql(name='myemp', con=engine, if_exists='replace', index=False)"
   ]
  },
  {
   "cell_type": "code",
   "execution_count": 16,
   "metadata": {},
   "outputs": [
    {
     "name": "stdout",
     "output_type": "stream",
     "text": [
      "7369 이철수 사원 7902.0 2010-12-17 300 None 20\n",
      "7499 이민수 대리 7698.0 2011-02-20 360 300.0 30\n",
      "7521 박종수 대리 7698.0 2012-02-22 425 500.0 30\n",
      "7566 임성민 팀장 7839.0 2011-04-02 597 None 20\n",
      "7654 나호석 대리 7698.0 2011-09-28 425 1400.0 30\n",
      "7698 박성환 팀장 7839.0 2021-05-01 585 None 30\n",
      "7782 손기철 팀장 7839.0 2021-06-09 545 None 10\n",
      "7788 박기호 부장 7566.0 2007-04-17 600 None 20\n",
      "7839 김철수 대표 None 2011-11-17 900 None 10\n",
      "7844 송명준 대리 7698.0 2011-09-08 450 0.0 30\n",
      "7876 황선태 사원 7788.0 2017-05-23 310 None 20\n",
      "7900 박민철 사원 7698.0 2011-12-03 395 None 30\n",
      "7902 박희성 부장 7566.0 2011-12-03 700 None 20\n",
      "7934 최철수 사원 7782.0 2012-01-23 330 None 10\n"
     ]
    }
   ],
   "source": [
    "conn = cx_Oracle.connect(\"hr/hr@localhost:1521/xe\")\n",
    "cursor = conn.cursor()\n",
    "cursor.execute('select * from myemp')\n",
    "for row in cursor:\n",
    "    ename=row[1].read()\n",
    "    job=row[2].read()\n",
    "    hiredate=row[4].read()\n",
    "    print(row[0], ename, job, row[3], hiredate, row[5], row[6], row[7])"
   ]
  },
  {
   "cell_type": "code",
   "execution_count": null,
   "metadata": {},
   "outputs": [],
   "source": []
  },
  {
   "cell_type": "code",
   "execution_count": 18,
   "metadata": {},
   "outputs": [
    {
     "name": "stdout",
     "output_type": "stream",
     "text": [
      "(10, 591.6666666666666)\n",
      "(20, 501.4)\n",
      "(30, 440)\n"
     ]
    }
   ],
   "source": [
    "import cx_Oracle\n",
    "conn = cx_Oracle.connect(\"hr/hr@localhost:1521/xe\")\n",
    "cursor = conn.cursor()\n",
    "cursor.execute('''\n",
    "select deptno, avg(sal)\n",
    "from myemp\n",
    "group by deptno\n",
    "order by deptno\n",
    "''')\n",
    "rows = cursor.fetchall()\n",
    "for row in rows:\n",
    "    print(row)"
   ]
  },
  {
   "cell_type": "code",
   "execution_count": 19,
   "metadata": {},
   "outputs": [
    {
     "data": {
      "text/plain": [
       "<BarContainer object of 3 artists>"
      ]
     },
     "execution_count": 19,
     "metadata": {},
     "output_type": "execute_result"
    },
    {
     "data": {
      "image/png": "[encoded data removed]",
      "text/plain": [
       "<Figure size 432x288 with 1 Axes>"
      ]
     },
     "metadata": {
      "needs_background": "light"
     },
     "output_type": "display_data"
    }
   ],
   "source": [
    "x = ['교육팀(10)', '홍보팀(20)', '기획팀(30)']\n",
    "y = []\n",
    "for row in rows:\n",
    "    y.append(row[1])\n",
    "\n",
    "import pandas as pd\n",
    "%matplotlib inline\n",
    "import matplotlib.pyplot as plt\n",
    "\n",
    "from matplotlib import rc,font_manager\n",
    "font_name = font_manager.FontProperties(fname='c:/windows/fonts/gulim.ttc').get_name()\n",
    "rc('font', family=font_name)\n",
    "\n",
    "plt.bar(x,y)"
   ]
  },
  {
   "cell_type": "code",
   "execution_count": 20,
   "metadata": {},
   "outputs": [],
   "source": [
    "cursor.close()\n",
    "conn.close()"
   ]
  },
  {
   "cell_type": "code",
   "execution_count": null,
   "metadata": {},
   "outputs": [],
   "source": []
  },
  {
   "cell_type": "code",
   "execution_count": null,
   "metadata": {},
   "outputs": [],
   "source": []
  },
  {
   "cell_type": "code",
   "execution_count": null,
   "metadata": {},
   "outputs": [],
   "source": []
  },
  {
   "cell_type": "code",
   "execution_count": null,
   "metadata": {},
   "outputs": [],
   "source": []
  }
 ],
 "metadata": {
  "interpreter": {
   "hash": "cef9e06bb236b2a8629b07e87a04b187b952a0f661eff5533360a155783f0c33"
  },
  "kernelspec": {
   "display_name": "Python 3.8.8 64-bit ('base': conda)",
   "language": "python",
   "name": "python3"
  },
  "language_info": {
   "codemirror_mode": {
    "name": "ipython",
    "version": 3
   },
   "file_extension": ".py",
   "mimetype": "text/x-python",
   "name": "python",
   "nbconvert_exporter": "python",
   "pygments_lexer": "ipython3",
   "version": "3.8.8"
  },
  "orig_nbformat": 4
 },
 "nbformat": 4,
 "nbformat_minor": 2
}
